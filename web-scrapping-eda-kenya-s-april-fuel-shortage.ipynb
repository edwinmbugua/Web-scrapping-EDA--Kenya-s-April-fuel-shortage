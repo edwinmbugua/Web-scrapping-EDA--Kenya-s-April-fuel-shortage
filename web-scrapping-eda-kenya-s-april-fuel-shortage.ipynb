{
 "cells": [
  {
   "cell_type": "markdown",
   "id": "af9d5c91",
   "metadata": {
    "papermill": {
     "duration": 0.027117,
     "end_time": "2022-05-03T19:51:30.298259",
     "exception": false,
     "start_time": "2022-05-03T19:51:30.271142",
     "status": "completed"
    },
    "tags": []
   },
   "source": [
    "# 1. Problem Definition\n",
    "Kenya experienced fuel shortage that got into a crisis with motorists getting stuck in long queues to fuel as major petrol stations reported lack of fuel. Articles related to the fuel shortage and it's cause. https://nation.africa/kenya/business/why-you-still-can-t-get-fuel-despite-uhuru-sh34bn-intervention-3773538 https://www.theeastafrican.co.ke/tea/business/fuel-crisis-kenya-to-fine-dealers-3771688\n",
    "\n",
    "The objective here is to analyse the data from http://www.ikowhere.co.ke/fuel/ website to understand how the distribution of fuel was across petrol stations in the reported towns and areas.\n",
    "\n",
    "We shall also seek to find out the type of fuel that was report in the petrol stations across the date of the uploaded data.\n",
    "\n",
    "#  2. Data\n",
    "Original source of the data came from http://www.ikowhere.co.ke/fuel/ the data was scrapped to be able to use in analyzing it and was saved in a csv format .\n",
    "\n",
    "# 3. Features\n",
    "The Data is composed of several columns denoted as : County ,Town, Area, Road, Fuel Type, Station and Date listed.\n",
    "\n",
    "Web scrapping\n",
    "By definition web scrapping is an automated method used to extract large amounts of data from websites. The data initially is in unstructured form through web scrapping helps in collecting it and storing it in unstructred form.\n",
    "\n",
    "Just to give an outline of the steps undertaken when scrapping\n",
    "\n",
    "1. Find the URL that you want to scrape\n",
    "2. Inspecting the Page\n",
    "3. Find the data you want to extract\n",
    "4. Write the code\n",
    "5. Run the code and extract the data\n",
    "6. Store the data in the required format\n",
    "7. perform this task we shall use Beautiful Soup which is a Python package for parsing HTML and XML documents. It is helpful to extract the data easily.\n",
    "\n",
    "Next we clean out data then analyse it"
   ]
  },
  {
   "cell_type": "code",
   "execution_count": 1,
   "id": "57d3d340",
   "metadata": {
    "_cell_guid": "b1076dfc-b9ad-4769-8c92-a6c4dae69d19",
    "_uuid": "8f2839f25d086af736a60e9eeb907d3b93b6e0e5",
    "execution": {
     "iopub.execute_input": "2022-05-03T19:51:30.348934Z",
     "iopub.status.busy": "2022-05-03T19:51:30.348612Z",
     "iopub.status.idle": "2022-05-03T19:51:30.368503Z",
     "shell.execute_reply": "2022-05-03T19:51:30.367596Z"
    },
    "papermill": {
     "duration": 0.047657,
     "end_time": "2022-05-03T19:51:30.370506",
     "exception": false,
     "start_time": "2022-05-03T19:51:30.322849",
     "status": "completed"
    },
    "tags": []
   },
   "outputs": [
    {
     "name": "stdout",
     "output_type": "stream",
     "text": [
      "/kaggle/input/petrol-location-ke-cleaned/petrol_location_ke_cleaned.csv\n",
      "/kaggle/input/petrol-location-ke/petrol_location_ke.csv\n"
     ]
    }
   ],
   "source": [
    "# This Python 3 environment comes with many helpful analytics libraries installed\n",
    "# It is defined by the kaggle/python Docker image: https://github.com/kaggle/docker-python\n",
    "# For example, here's several helpful packages to load\n",
    "\n",
    "import numpy as np # linear algebra\n",
    "import pandas as pd # data processing, CSV file I/O (e.g. pd.read_csv)\n",
    "\n",
    "# Input data files are available in the read-only \"../input/\" directory\n",
    "# For example, running this (by clicking run or pressing Shift+Enter) will list all files under the input directory\n",
    "\n",
    "import os\n",
    "for dirname, _, filenames in os.walk('/kaggle/input'):\n",
    "    for filename in filenames:\n",
    "        print(os.path.join(dirname, filename))\n",
    "\n",
    "# You can write up to 20GB to the current directory (/kaggle/working/) that gets preserved as output when you create a version using \"Save & Run All\" \n",
    "# You can also write temporary files to /kaggle/temp/, but they won't be saved outside of the current session"
   ]
  },
  {
   "cell_type": "code",
   "execution_count": 2,
   "id": "b07dd9e7",
   "metadata": {
    "execution": {
     "iopub.execute_input": "2022-05-03T19:51:30.424151Z",
     "iopub.status.busy": "2022-05-03T19:51:30.423910Z",
     "iopub.status.idle": "2022-05-03T19:51:32.674127Z",
     "shell.execute_reply": "2022-05-03T19:51:32.673302Z"
    },
    "papermill": {
     "duration": 2.278965,
     "end_time": "2022-05-03T19:51:32.676540",
     "exception": false,
     "start_time": "2022-05-03T19:51:30.397575",
     "status": "completed"
    },
    "tags": []
   },
   "outputs": [
    {
     "data": {
      "text/html": [
       "        <script type=\"text/javascript\">\n",
       "        window.PlotlyConfig = {MathJaxConfig: 'local'};\n",
       "        if (window.MathJax) {MathJax.Hub.Config({SVG: {font: \"STIX-Web\"}});}\n",
       "        if (typeof require !== 'undefined') {\n",
       "        require.undef(\"plotly\");\n",
       "        requirejs.config({\n",
       "            paths: {\n",
       "                'plotly': ['https://cdn.plot.ly/plotly-2.11.1.min']\n",
       "            }\n",
       "        });\n",
       "        require(['plotly'], function(Plotly) {\n",
       "            window._Plotly = Plotly;\n",
       "        });\n",
       "        }\n",
       "        </script>\n",
       "        "
      ]
     },
     "metadata": {},
     "output_type": "display_data"
    }
   ],
   "source": [
    "import requests\n",
    "from bs4 import BeautifulSoup \n",
    "from urllib.request import urlopen\n",
    "import pandas as pd\n",
    "import numpy as np\n",
    "import seaborn as sns\n",
    "import matplotlib.pyplot as plt\n",
    "color = sns.color_palette()\n",
    "\n",
    "%matplotlib inline\n",
    "import plotly.offline as py\n",
    "py.init_notebook_mode(connected=True)\n",
    "import plotly.graph_objs as go\n",
    "import plotly.tools as tls\n",
    "import plotly.express as px"
   ]
  },
  {
   "cell_type": "code",
   "execution_count": 3,
   "id": "f882c3bf",
   "metadata": {
    "execution": {
     "iopub.execute_input": "2022-05-03T19:51:32.729880Z",
     "iopub.status.busy": "2022-05-03T19:51:32.729630Z",
     "iopub.status.idle": "2022-05-03T19:51:33.847038Z",
     "shell.execute_reply": "2022-05-03T19:51:33.846308Z"
    },
    "papermill": {
     "duration": 1.146596,
     "end_time": "2022-05-03T19:51:33.849363",
     "exception": false,
     "start_time": "2022-05-03T19:51:32.702767",
     "status": "completed"
    },
    "tags": []
   },
   "outputs": [],
   "source": [
    "#Create an URL oject\n",
    "URL= \"http://www.ikowhere.co.ke/\"\n",
    "#Create an object page\n",
    "page=requests.get(URL)\n",
    "page #Response 200 means the server allows us to collect data from their website\n",
    "\n",
    "#Parser-lxml = Change html to Python friendly format\n",
    "#Obtain page's information\n",
    "soup = BeautifulSoup(page.text,'lxml')\n",
    "\n",
    "\n",
    "#Obtain information from tag <table>\n",
    "table1=soup.find('table',id='customers')\n"
   ]
  },
  {
   "cell_type": "markdown",
   "id": "1c6d2f15",
   "metadata": {
    "papermill": {
     "duration": 0.02726,
     "end_time": "2022-05-03T19:51:33.902965",
     "exception": false,
     "start_time": "2022-05-03T19:51:33.875705",
     "status": "completed"
    },
    "tags": []
   },
   "source": [
    "# # # CREATE A COLUMN LIST\n",
    "After the table1 has been created now the next thing we can do is inspecting the location of each column. If we look into each column we notice that they have the same characteristic.\n",
    "\n",
    "After we found the tag of each column the next thing we can do is create a for loop to fill an empty list with each column. We define an empty list as headers."
   ]
  },
  {
   "cell_type": "code",
   "execution_count": 4,
   "id": "69f8319f",
   "metadata": {
    "execution": {
     "iopub.execute_input": "2022-05-03T19:51:33.955565Z",
     "iopub.status.busy": "2022-05-03T19:51:33.955036Z",
     "iopub.status.idle": "2022-05-03T19:51:33.966058Z",
     "shell.execute_reply": "2022-05-03T19:51:33.964853Z"
    },
    "papermill": {
     "duration": 0.039475,
     "end_time": "2022-05-03T19:51:33.967960",
     "exception": false,
     "start_time": "2022-05-03T19:51:33.928485",
     "status": "completed"
    },
    "tags": []
   },
   "outputs": [
    {
     "name": "stdout",
     "output_type": "stream",
     "text": [
      "['County', 'Town', 'Area', 'Road', 'Fuel Type', 'Station ', 'Date listed', 'Click link for details']\n"
     ]
    }
   ],
   "source": [
    "#Obtain every title of columns with tag <th>\n",
    "headers=[]\n",
    "for i in table1.find_all('th'):\n",
    "    title=i.text\n",
    "    headers.append(title)\n",
    "    \n",
    "#Covert wrapped text in column 5 into one line text\n",
    "print(headers)\n",
    "#After the list of columns is made the next thing we can do is create a dataframe. We define the dataframe as mydata."
   ]
  },
  {
   "cell_type": "markdown",
   "id": "aabd60f7",
   "metadata": {
    "execution": {
     "iopub.execute_input": "2022-05-03T17:38:18.172734Z",
     "iopub.status.busy": "2022-05-03T17:38:18.172408Z",
     "iopub.status.idle": "2022-05-03T17:38:18.177972Z",
     "shell.execute_reply": "2022-05-03T17:38:18.177174Z",
     "shell.execute_reply.started": "2022-05-03T17:38:18.172701Z"
    },
    "papermill": {
     "duration": 0.026595,
     "end_time": "2022-05-03T19:51:34.020926",
     "exception": false,
     "start_time": "2022-05-03T19:51:33.994331",
     "status": "completed"
    },
    "tags": []
   },
   "source": [
    "# # #  CREATE A DATA FRAME\n",
    "After the dataframe is created now we can fill it with items in each column. Before we create a for loop, we need to identify the location of the row and item column first.\n",
    "\n",
    "we can identify that the row is located under tag tr and items are located under tag td . This is applied to all rows and items within the table.\n",
    "\n",
    "After we found the tags now we can create a for loop."
   ]
  },
  {
   "cell_type": "code",
   "execution_count": 5,
   "id": "5b984a57",
   "metadata": {
    "execution": {
     "iopub.execute_input": "2022-05-03T19:51:34.074350Z",
     "iopub.status.busy": "2022-05-03T19:51:34.074105Z",
     "iopub.status.idle": "2022-05-03T19:51:35.337993Z",
     "shell.execute_reply": "2022-05-03T19:51:35.337284Z"
    },
    "papermill": {
     "duration": 1.293538,
     "end_time": "2022-05-03T19:51:35.340171",
     "exception": false,
     "start_time": "2022-05-03T19:51:34.046633",
     "status": "completed"
    },
    "tags": []
   },
   "outputs": [],
   "source": [
    "#Create a dataframe \n",
    "mydata=pd.DataFrame(columns=headers)\n",
    "\n",
    "\n",
    "#Create a for loop to fill mydata\n",
    "for j in table1.find_all('tr')[1:]:\n",
    "    row_data=j.find_all('td')\n",
    "    row=[i.text for i in row_data]\n",
    "    length=len(mydata)\n",
    "    mydata.loc[length]=row"
   ]
  },
  {
   "cell_type": "code",
   "execution_count": 6,
   "id": "3b0f2633",
   "metadata": {
    "execution": {
     "iopub.execute_input": "2022-05-03T19:51:35.395814Z",
     "iopub.status.busy": "2022-05-03T19:51:35.394962Z",
     "iopub.status.idle": "2022-05-03T19:51:35.429800Z",
     "shell.execute_reply": "2022-05-03T19:51:35.429096Z"
    },
    "papermill": {
     "duration": 0.065215,
     "end_time": "2022-05-03T19:51:35.433055",
     "exception": false,
     "start_time": "2022-05-03T19:51:35.367840",
     "status": "completed"
    },
    "tags": []
   },
   "outputs": [
    {
     "name": "stdout",
     "output_type": "stream",
     "text": [
      "<class 'pandas.core.frame.DataFrame'>\n",
      "RangeIndex: 550 entries, 0 to 549\n",
      "Data columns (total 8 columns):\n",
      " #   Column                  Non-Null Count  Dtype \n",
      "---  ------                  --------------  ----- \n",
      " 0   County                  550 non-null    object\n",
      " 1   Town                    550 non-null    object\n",
      " 2   Area                    550 non-null    object\n",
      " 3   Road                    550 non-null    object\n",
      " 4   Fuel Type               550 non-null    object\n",
      " 5   Station                 550 non-null    object\n",
      " 6   Date listed             550 non-null    object\n",
      " 7   Click link for details  550 non-null    object\n",
      "dtypes: object(8)\n",
      "memory usage: 34.5+ KB\n"
     ]
    },
    {
     "data": {
      "text/html": [
       "<div>\n",
       "<style scoped>\n",
       "    .dataframe tbody tr th:only-of-type {\n",
       "        vertical-align: middle;\n",
       "    }\n",
       "\n",
       "    .dataframe tbody tr th {\n",
       "        vertical-align: top;\n",
       "    }\n",
       "\n",
       "    .dataframe thead th {\n",
       "        text-align: right;\n",
       "    }\n",
       "</style>\n",
       "<table border=\"1\" class=\"dataframe\">\n",
       "  <thead>\n",
       "    <tr style=\"text-align: right;\">\n",
       "      <th></th>\n",
       "      <th>County</th>\n",
       "      <th>Town</th>\n",
       "      <th>Area</th>\n",
       "      <th>Road</th>\n",
       "      <th>Fuel Type</th>\n",
       "      <th>Station</th>\n",
       "      <th>Date listed</th>\n",
       "      <th>Click link for details</th>\n",
       "    </tr>\n",
       "  </thead>\n",
       "  <tbody>\n",
       "    <tr>\n",
       "      <th>0</th>\n",
       "      <td>Nairobi</td>\n",
       "      <td>Nairobi</td>\n",
       "      <td>None</td>\n",
       "      <td>None</td>\n",
       "      <td>Diesel</td>\n",
       "      <td>National Oil</td>\n",
       "      <td>April 19, 2022, 1:44 p.m.</td>\n",
       "      <td>Details</td>\n",
       "    </tr>\n",
       "    <tr>\n",
       "      <th>1</th>\n",
       "      <td>Nairobi</td>\n",
       "      <td>Nairobi</td>\n",
       "      <td>None</td>\n",
       "      <td>None</td>\n",
       "      <td>Diesel</td>\n",
       "      <td>National Oil</td>\n",
       "      <td>April 19, 2022, 1:43 p.m.</td>\n",
       "      <td>Details</td>\n",
       "    </tr>\n",
       "    <tr>\n",
       "      <th>2</th>\n",
       "      <td>Nairobi</td>\n",
       "      <td>Nairobi</td>\n",
       "      <td>CBD - Central Business District</td>\n",
       "      <td>Haile Selassie ave</td>\n",
       "      <td>Both Super &amp; Diesel</td>\n",
       "      <td>National Oil</td>\n",
       "      <td>April 19, 2022, 1:41 p.m.</td>\n",
       "      <td>Details</td>\n",
       "    </tr>\n",
       "    <tr>\n",
       "      <th>3</th>\n",
       "      <td>Nairobi</td>\n",
       "      <td>Nairobi</td>\n",
       "      <td>Karen</td>\n",
       "      <td>Dennis Pritt rd</td>\n",
       "      <td>Both Super &amp; Diesel</td>\n",
       "      <td>Rubis</td>\n",
       "      <td>April 19, 2022, 1:20 p.m.</td>\n",
       "      <td>Details</td>\n",
       "    </tr>\n",
       "    <tr>\n",
       "      <th>4</th>\n",
       "      <td>Uasin Gishu</td>\n",
       "      <td>Eldoret</td>\n",
       "      <td>None</td>\n",
       "      <td>None</td>\n",
       "      <td>Both Super &amp; Diesel</td>\n",
       "      <td>Luqman</td>\n",
       "      <td>April 19, 2022, 2:26 a.m.</td>\n",
       "      <td>Details</td>\n",
       "    </tr>\n",
       "    <tr>\n",
       "      <th>5</th>\n",
       "      <td>Nairobi</td>\n",
       "      <td>Nairobi</td>\n",
       "      <td>Westlands</td>\n",
       "      <td>Waiyaki way</td>\n",
       "      <td>Both Super &amp; Diesel</td>\n",
       "      <td>Shell</td>\n",
       "      <td>April 18, 2022, 12:28 p.m.</td>\n",
       "      <td>Details</td>\n",
       "    </tr>\n",
       "    <tr>\n",
       "      <th>6</th>\n",
       "      <td>Laikipia</td>\n",
       "      <td>Nanyuki</td>\n",
       "      <td>None</td>\n",
       "      <td>Nyeri - Nanyuki rd</td>\n",
       "      <td>Super/Petrol</td>\n",
       "      <td>Shell</td>\n",
       "      <td>April 18, 2022, 10:20 a.m.</td>\n",
       "      <td>Details</td>\n",
       "    </tr>\n",
       "  </tbody>\n",
       "</table>\n",
       "</div>"
      ],
      "text/plain": [
       "          County       Town                               Area  \\\n",
       "0       Nairobi    Nairobi                               None    \n",
       "1       Nairobi    Nairobi                               None    \n",
       "2       Nairobi    Nairobi    CBD - Central Business District    \n",
       "3       Nairobi    Nairobi                              Karen    \n",
       "4   Uasin Gishu    Eldoret                               None    \n",
       "5       Nairobi    Nairobi                          Westlands    \n",
       "6      Laikipia    Nanyuki                               None    \n",
       "\n",
       "                   Road              Fuel Type        Station   \\\n",
       "0                 None                 Diesel    National Oil    \n",
       "1                 None                 Diesel    National Oil    \n",
       "2   Haile Selassie ave    Both Super & Diesel    National Oil    \n",
       "3      Dennis Pritt rd    Both Super & Diesel           Rubis    \n",
       "4                 None    Both Super & Diesel          Luqman    \n",
       "5          Waiyaki way    Both Super & Diesel           Shell    \n",
       "6   Nyeri - Nanyuki rd           Super/Petrol           Shell    \n",
       "\n",
       "                    Date listed Click link for details  \n",
       "0    April 19, 2022, 1:44 p.m.                Details   \n",
       "1    April 19, 2022, 1:43 p.m.                Details   \n",
       "2    April 19, 2022, 1:41 p.m.                Details   \n",
       "3    April 19, 2022, 1:20 p.m.                Details   \n",
       "4    April 19, 2022, 2:26 a.m.                Details   \n",
       "5   April 18, 2022, 12:28 p.m.                Details   \n",
       "6   April 18, 2022, 10:20 a.m.                Details   "
      ]
     },
     "execution_count": 6,
     "metadata": {},
     "output_type": "execute_result"
    }
   ],
   "source": [
    "#Data frame filled with data\n",
    "mydata.head()\n",
    "#Reading our saved data frame in a csv file \n",
    "scrapped_data=pd.read_csv('../input/petrol-location-ke/petrol_location_ke.csv')\n",
    "#Getting an overview information of our scrapped dataset\n",
    "scrapped_data.info()\n",
    "#Getting a summary of the first 7 rows of our data set\n",
    "scrapped_data.head(7)"
   ]
  },
  {
   "cell_type": "markdown",
   "id": "02cb97a0",
   "metadata": {
    "papermill": {
     "duration": 0.02654,
     "end_time": "2022-05-03T19:51:35.486495",
     "exception": false,
     "start_time": "2022-05-03T19:51:35.459955",
     "status": "completed"
    },
    "tags": []
   },
   "source": [
    "From the scrapped dataset above it shows there missing values . The next step will be handle this missing values the creteria will be to fill them with the mode of the column values as well as check the correct input by researching further.\n",
    "\n",
    "As an example is where a county name is chosen but corresponding area does not much with the road selected. Much of a data analyst and a data scientist time is spent in cleaning and working on data before using it .\n",
    "\n",
    "After cleanin the data below we are left with 505 rows out of the 550 rows in our initial dataset."
   ]
  },
  {
   "cell_type": "markdown",
   "id": "7db3f26a",
   "metadata": {
    "papermill": {
     "duration": 0.026399,
     "end_time": "2022-05-03T19:51:35.540177",
     "exception": false,
     "start_time": "2022-05-03T19:51:35.513778",
     "status": "completed"
    },
    "tags": []
   },
   "source": [
    "# 4. Data Cleaning"
   ]
  },
  {
   "cell_type": "code",
   "execution_count": 7,
   "id": "d86351f9",
   "metadata": {
    "execution": {
     "iopub.execute_input": "2022-05-03T19:51:35.595239Z",
     "iopub.status.busy": "2022-05-03T19:51:35.594738Z",
     "iopub.status.idle": "2022-05-03T19:51:35.616658Z",
     "shell.execute_reply": "2022-05-03T19:51:35.615919Z"
    },
    "papermill": {
     "duration": 0.051299,
     "end_time": "2022-05-03T19:51:35.618317",
     "exception": false,
     "start_time": "2022-05-03T19:51:35.567018",
     "status": "completed"
    },
    "tags": []
   },
   "outputs": [
    {
     "name": "stdout",
     "output_type": "stream",
     "text": [
      "<class 'pandas.core.frame.DataFrame'>\n",
      "RangeIndex: 550 entries, 0 to 549\n",
      "Data columns (total 8 columns):\n",
      " #   Column                  Non-Null Count  Dtype \n",
      "---  ------                  --------------  ----- \n",
      " 0   County                  550 non-null    object\n",
      " 1   Town                    550 non-null    object\n",
      " 2   Area                    550 non-null    object\n",
      " 3   Road                    550 non-null    object\n",
      " 4   Fuel Type               550 non-null    object\n",
      " 5   Station                 550 non-null    object\n",
      " 6   Date listed             550 non-null    object\n",
      " 7   Click link for details  550 non-null    object\n",
      "dtypes: object(8)\n",
      "memory usage: 34.5+ KB\n",
      "None\n"
     ]
    },
    {
     "data": {
      "text/html": [
       "<div>\n",
       "<style scoped>\n",
       "    .dataframe tbody tr th:only-of-type {\n",
       "        vertical-align: middle;\n",
       "    }\n",
       "\n",
       "    .dataframe tbody tr th {\n",
       "        vertical-align: top;\n",
       "    }\n",
       "\n",
       "    .dataframe thead th {\n",
       "        text-align: right;\n",
       "    }\n",
       "</style>\n",
       "<table border=\"1\" class=\"dataframe\">\n",
       "  <thead>\n",
       "    <tr style=\"text-align: right;\">\n",
       "      <th></th>\n",
       "      <th>County</th>\n",
       "      <th>Town</th>\n",
       "      <th>Area</th>\n",
       "      <th>Road</th>\n",
       "      <th>Fuel Type</th>\n",
       "      <th>Station</th>\n",
       "      <th>Date listed</th>\n",
       "      <th>Click link for details</th>\n",
       "    </tr>\n",
       "  </thead>\n",
       "  <tbody>\n",
       "    <tr>\n",
       "      <th>0</th>\n",
       "      <td>Nairobi</td>\n",
       "      <td>Nairobi</td>\n",
       "      <td>None</td>\n",
       "      <td>None</td>\n",
       "      <td>Diesel</td>\n",
       "      <td>National Oil</td>\n",
       "      <td>April 19, 2022, 1:44 p.m.</td>\n",
       "      <td>Details</td>\n",
       "    </tr>\n",
       "    <tr>\n",
       "      <th>1</th>\n",
       "      <td>Nairobi</td>\n",
       "      <td>Nairobi</td>\n",
       "      <td>None</td>\n",
       "      <td>None</td>\n",
       "      <td>Diesel</td>\n",
       "      <td>National Oil</td>\n",
       "      <td>April 19, 2022, 1:43 p.m.</td>\n",
       "      <td>Details</td>\n",
       "    </tr>\n",
       "    <tr>\n",
       "      <th>2</th>\n",
       "      <td>Nairobi</td>\n",
       "      <td>Nairobi</td>\n",
       "      <td>CBD - Central Business District</td>\n",
       "      <td>Haile Selassie ave</td>\n",
       "      <td>Both Super &amp; Diesel</td>\n",
       "      <td>National Oil</td>\n",
       "      <td>April 19, 2022, 1:41 p.m.</td>\n",
       "      <td>Details</td>\n",
       "    </tr>\n",
       "    <tr>\n",
       "      <th>3</th>\n",
       "      <td>Nairobi</td>\n",
       "      <td>Nairobi</td>\n",
       "      <td>Karen</td>\n",
       "      <td>Dennis Pritt rd</td>\n",
       "      <td>Both Super &amp; Diesel</td>\n",
       "      <td>Rubis</td>\n",
       "      <td>April 19, 2022, 1:20 p.m.</td>\n",
       "      <td>Details</td>\n",
       "    </tr>\n",
       "    <tr>\n",
       "      <th>4</th>\n",
       "      <td>Uasin Gishu</td>\n",
       "      <td>Eldoret</td>\n",
       "      <td>None</td>\n",
       "      <td>None</td>\n",
       "      <td>Both Super &amp; Diesel</td>\n",
       "      <td>Luqman</td>\n",
       "      <td>April 19, 2022, 2:26 a.m.</td>\n",
       "      <td>Details</td>\n",
       "    </tr>\n",
       "    <tr>\n",
       "      <th>5</th>\n",
       "      <td>Nairobi</td>\n",
       "      <td>Nairobi</td>\n",
       "      <td>Westlands</td>\n",
       "      <td>Waiyaki way</td>\n",
       "      <td>Both Super &amp; Diesel</td>\n",
       "      <td>Shell</td>\n",
       "      <td>April 18, 2022, 12:28 p.m.</td>\n",
       "      <td>Details</td>\n",
       "    </tr>\n",
       "    <tr>\n",
       "      <th>6</th>\n",
       "      <td>Laikipia</td>\n",
       "      <td>Nanyuki</td>\n",
       "      <td>None</td>\n",
       "      <td>Nyeri - Nanyuki rd</td>\n",
       "      <td>Super/Petrol</td>\n",
       "      <td>Shell</td>\n",
       "      <td>April 18, 2022, 10:20 a.m.</td>\n",
       "      <td>Details</td>\n",
       "    </tr>\n",
       "  </tbody>\n",
       "</table>\n",
       "</div>"
      ],
      "text/plain": [
       "          County       Town                               Area  \\\n",
       "0       Nairobi    Nairobi                               None    \n",
       "1       Nairobi    Nairobi                               None    \n",
       "2       Nairobi    Nairobi    CBD - Central Business District    \n",
       "3       Nairobi    Nairobi                              Karen    \n",
       "4   Uasin Gishu    Eldoret                               None    \n",
       "5       Nairobi    Nairobi                          Westlands    \n",
       "6      Laikipia    Nanyuki                               None    \n",
       "\n",
       "                   Road              Fuel Type        Station   \\\n",
       "0                 None                 Diesel    National Oil    \n",
       "1                 None                 Diesel    National Oil    \n",
       "2   Haile Selassie ave    Both Super & Diesel    National Oil    \n",
       "3      Dennis Pritt rd    Both Super & Diesel           Rubis    \n",
       "4                 None    Both Super & Diesel          Luqman    \n",
       "5          Waiyaki way    Both Super & Diesel           Shell    \n",
       "6   Nyeri - Nanyuki rd           Super/Petrol           Shell    \n",
       "\n",
       "                    Date listed Click link for details  \n",
       "0    April 19, 2022, 1:44 p.m.                Details   \n",
       "1    April 19, 2022, 1:43 p.m.                Details   \n",
       "2    April 19, 2022, 1:41 p.m.                Details   \n",
       "3    April 19, 2022, 1:20 p.m.                Details   \n",
       "4    April 19, 2022, 2:26 a.m.                Details   \n",
       "5   April 18, 2022, 12:28 p.m.                Details   \n",
       "6   April 18, 2022, 10:20 a.m.                Details   "
      ]
     },
     "execution_count": 7,
     "metadata": {},
     "output_type": "execute_result"
    }
   ],
   "source": [
    "#Read the saved csv file \n",
    "petrol_data=pd.read_csv('../input/petrol-location-ke/petrol_location_ke.csv')\n",
    "print(petrol_data.info())\n",
    "petrol_data.head(7)"
   ]
  },
  {
   "cell_type": "code",
   "execution_count": 8,
   "id": "62973afa",
   "metadata": {
    "execution": {
     "iopub.execute_input": "2022-05-03T19:51:35.675248Z",
     "iopub.status.busy": "2022-05-03T19:51:35.674745Z",
     "iopub.status.idle": "2022-05-03T19:51:35.686884Z",
     "shell.execute_reply": "2022-05-03T19:51:35.686071Z"
    },
    "papermill": {
     "duration": 0.042614,
     "end_time": "2022-05-03T19:51:35.688668",
     "exception": false,
     "start_time": "2022-05-03T19:51:35.646054",
     "status": "completed"
    },
    "tags": []
   },
   "outputs": [
    {
     "data": {
      "text/html": [
       "<div>\n",
       "<style scoped>\n",
       "    .dataframe tbody tr th:only-of-type {\n",
       "        vertical-align: middle;\n",
       "    }\n",
       "\n",
       "    .dataframe tbody tr th {\n",
       "        vertical-align: top;\n",
       "    }\n",
       "\n",
       "    .dataframe thead th {\n",
       "        text-align: right;\n",
       "    }\n",
       "</style>\n",
       "<table border=\"1\" class=\"dataframe\">\n",
       "  <thead>\n",
       "    <tr style=\"text-align: right;\">\n",
       "      <th></th>\n",
       "      <th>County</th>\n",
       "      <th>Town</th>\n",
       "      <th>Area</th>\n",
       "      <th>Road</th>\n",
       "      <th>Fuel Type</th>\n",
       "      <th>Station</th>\n",
       "      <th>Date listed</th>\n",
       "    </tr>\n",
       "  </thead>\n",
       "  <tbody>\n",
       "    <tr>\n",
       "      <th>0</th>\n",
       "      <td>Nairobi</td>\n",
       "      <td>Nairobi</td>\n",
       "      <td>None</td>\n",
       "      <td>None</td>\n",
       "      <td>Diesel</td>\n",
       "      <td>National Oil</td>\n",
       "      <td>April 19, 2022, 1:44 p.m.</td>\n",
       "    </tr>\n",
       "    <tr>\n",
       "      <th>1</th>\n",
       "      <td>Nairobi</td>\n",
       "      <td>Nairobi</td>\n",
       "      <td>None</td>\n",
       "      <td>None</td>\n",
       "      <td>Diesel</td>\n",
       "      <td>National Oil</td>\n",
       "      <td>April 19, 2022, 1:43 p.m.</td>\n",
       "    </tr>\n",
       "    <tr>\n",
       "      <th>2</th>\n",
       "      <td>Nairobi</td>\n",
       "      <td>Nairobi</td>\n",
       "      <td>CBD - Central Business District</td>\n",
       "      <td>Haile Selassie ave</td>\n",
       "      <td>Both Super &amp; Diesel</td>\n",
       "      <td>National Oil</td>\n",
       "      <td>April 19, 2022, 1:41 p.m.</td>\n",
       "    </tr>\n",
       "    <tr>\n",
       "      <th>3</th>\n",
       "      <td>Nairobi</td>\n",
       "      <td>Nairobi</td>\n",
       "      <td>Karen</td>\n",
       "      <td>Dennis Pritt rd</td>\n",
       "      <td>Both Super &amp; Diesel</td>\n",
       "      <td>Rubis</td>\n",
       "      <td>April 19, 2022, 1:20 p.m.</td>\n",
       "    </tr>\n",
       "    <tr>\n",
       "      <th>4</th>\n",
       "      <td>Uasin Gishu</td>\n",
       "      <td>Eldoret</td>\n",
       "      <td>None</td>\n",
       "      <td>None</td>\n",
       "      <td>Both Super &amp; Diesel</td>\n",
       "      <td>Luqman</td>\n",
       "      <td>April 19, 2022, 2:26 a.m.</td>\n",
       "    </tr>\n",
       "  </tbody>\n",
       "</table>\n",
       "</div>"
      ],
      "text/plain": [
       "          County       Town                               Area  \\\n",
       "0       Nairobi    Nairobi                               None    \n",
       "1       Nairobi    Nairobi                               None    \n",
       "2       Nairobi    Nairobi    CBD - Central Business District    \n",
       "3       Nairobi    Nairobi                              Karen    \n",
       "4   Uasin Gishu    Eldoret                               None    \n",
       "\n",
       "                   Road              Fuel Type        Station   \\\n",
       "0                 None                 Diesel    National Oil    \n",
       "1                 None                 Diesel    National Oil    \n",
       "2   Haile Selassie ave    Both Super & Diesel    National Oil    \n",
       "3      Dennis Pritt rd    Both Super & Diesel           Rubis    \n",
       "4                 None    Both Super & Diesel          Luqman    \n",
       "\n",
       "                   Date listed  \n",
       "0   April 19, 2022, 1:44 p.m.   \n",
       "1   April 19, 2022, 1:43 p.m.   \n",
       "2   April 19, 2022, 1:41 p.m.   \n",
       "3   April 19, 2022, 1:20 p.m.   \n",
       "4   April 19, 2022, 2:26 a.m.   "
      ]
     },
     "execution_count": 8,
     "metadata": {},
     "output_type": "execute_result"
    }
   ],
   "source": [
    "#Removing the Click link for details column as we shall not be needing it\n",
    "petrol_data.drop('Click link for details',axis=1,inplace=True)\n",
    "#Our data has null values where some fields have missing values indicated as None\n",
    "petrol_data.head()"
   ]
  },
  {
   "cell_type": "code",
   "execution_count": 9,
   "id": "5aff5a52",
   "metadata": {
    "execution": {
     "iopub.execute_input": "2022-05-03T19:51:35.746482Z",
     "iopub.status.busy": "2022-05-03T19:51:35.746065Z",
     "iopub.status.idle": "2022-05-03T19:51:35.760048Z",
     "shell.execute_reply": "2022-05-03T19:51:35.759222Z"
    },
    "papermill": {
     "duration": 0.044902,
     "end_time": "2022-05-03T19:51:35.761771",
     "exception": false,
     "start_time": "2022-05-03T19:51:35.716869",
     "status": "completed"
    },
    "tags": []
   },
   "outputs": [],
   "source": [
    "# # #splitting our Date listed column into date and time into a dd/mm/yy format and creating new columns\n",
    "petrol_data['Day']=petrol_data['Date listed'].apply(lambda x: x.split(',')[0])\n",
    "petrol_data['Date']=petrol_data['Day'].apply(lambda x: x.split(' ')[2])\n",
    "petrol_data['Month']=petrol_data['Day'].apply(lambda x: x.split(' ')[1])\n",
    "petrol_data['Year']=petrol_data['Date listed'].apply(lambda x: x.split(',')[1])\n",
    "petrol_data['Time']=petrol_data['Date listed'].apply(lambda x: x.split(',')[2])\n",
    "#Drop the Date listed  and Day columns from our dataset\n",
    "petrol_data.drop(['Date listed','Day'],axis=1,inplace=True)"
   ]
  },
  {
   "cell_type": "code",
   "execution_count": 10,
   "id": "3219eb7a",
   "metadata": {
    "execution": {
     "iopub.execute_input": "2022-05-03T19:51:35.820032Z",
     "iopub.status.busy": "2022-05-03T19:51:35.819772Z",
     "iopub.status.idle": "2022-05-03T19:51:35.829835Z",
     "shell.execute_reply": "2022-05-03T19:51:35.828997Z"
    },
    "papermill": {
     "duration": 0.041311,
     "end_time": "2022-05-03T19:51:35.831600",
     "exception": false,
     "start_time": "2022-05-03T19:51:35.790289",
     "status": "completed"
    },
    "tags": []
   },
   "outputs": [],
   "source": [
    "#save and load our date to csv format and load it \n",
    "petrol_data=pd.read_csv('../input/petrol-location-ke-cleaned/petrol_location_ke_cleaned.csv')"
   ]
  },
  {
   "cell_type": "markdown",
   "id": "23187c7f",
   "metadata": {
    "papermill": {
     "duration": 0.027912,
     "end_time": "2022-05-03T19:51:35.887708",
     "exception": false,
     "start_time": "2022-05-03T19:51:35.859796",
     "status": "completed"
    },
    "tags": []
   },
   "source": [
    "For the sake of analyzing this data based on the current state this project follows just the recent fuel shortage in Kenya for the month of april 2022 the month and year column will not be in use much."
   ]
  },
  {
   "cell_type": "code",
   "execution_count": 11,
   "id": "4fd9a06c",
   "metadata": {
    "execution": {
     "iopub.execute_input": "2022-05-03T19:51:35.945491Z",
     "iopub.status.busy": "2022-05-03T19:51:35.945022Z",
     "iopub.status.idle": "2022-05-03T19:51:35.957301Z",
     "shell.execute_reply": "2022-05-03T19:51:35.956219Z"
    },
    "papermill": {
     "duration": 0.043243,
     "end_time": "2022-05-03T19:51:35.959201",
     "exception": false,
     "start_time": "2022-05-03T19:51:35.915958",
     "status": "completed"
    },
    "tags": []
   },
   "outputs": [
    {
     "data": {
      "text/html": [
       "<div>\n",
       "<style scoped>\n",
       "    .dataframe tbody tr th:only-of-type {\n",
       "        vertical-align: middle;\n",
       "    }\n",
       "\n",
       "    .dataframe tbody tr th {\n",
       "        vertical-align: top;\n",
       "    }\n",
       "\n",
       "    .dataframe thead th {\n",
       "        text-align: right;\n",
       "    }\n",
       "</style>\n",
       "<table border=\"1\" class=\"dataframe\">\n",
       "  <thead>\n",
       "    <tr style=\"text-align: right;\">\n",
       "      <th></th>\n",
       "      <th>County</th>\n",
       "      <th>Town</th>\n",
       "      <th>Area</th>\n",
       "      <th>Road</th>\n",
       "      <th>Fuel Type</th>\n",
       "      <th>Station</th>\n",
       "      <th>Date</th>\n",
       "      <th>Month</th>\n",
       "      <th>Year</th>\n",
       "      <th>Time</th>\n",
       "    </tr>\n",
       "  </thead>\n",
       "  <tbody>\n",
       "    <tr>\n",
       "      <th>0</th>\n",
       "      <td>Nairobi</td>\n",
       "      <td>Nairobi</td>\n",
       "      <td>CBD - Central Business District</td>\n",
       "      <td>Haile Selassie ave</td>\n",
       "      <td>Diesel</td>\n",
       "      <td>National Oil</td>\n",
       "      <td>19</td>\n",
       "      <td>April</td>\n",
       "      <td>2022</td>\n",
       "      <td>1:44 p.m.</td>\n",
       "    </tr>\n",
       "    <tr>\n",
       "      <th>1</th>\n",
       "      <td>Nairobi</td>\n",
       "      <td>Nairobi</td>\n",
       "      <td>CBD - Central Business District</td>\n",
       "      <td>Haile Selassie ave</td>\n",
       "      <td>Diesel</td>\n",
       "      <td>National Oil</td>\n",
       "      <td>19</td>\n",
       "      <td>April</td>\n",
       "      <td>2022</td>\n",
       "      <td>1:43 p.m.</td>\n",
       "    </tr>\n",
       "    <tr>\n",
       "      <th>2</th>\n",
       "      <td>Nairobi</td>\n",
       "      <td>Nairobi</td>\n",
       "      <td>CBD - Central Business District</td>\n",
       "      <td>Haile Selassie ave</td>\n",
       "      <td>Both Super &amp; Diesel</td>\n",
       "      <td>National Oil</td>\n",
       "      <td>19</td>\n",
       "      <td>April</td>\n",
       "      <td>2022</td>\n",
       "      <td>1:41 p.m.</td>\n",
       "    </tr>\n",
       "    <tr>\n",
       "      <th>3</th>\n",
       "      <td>Nairobi</td>\n",
       "      <td>Nairobi</td>\n",
       "      <td>Hurlingham</td>\n",
       "      <td>Argwings Kodhek Rd</td>\n",
       "      <td>Both Super &amp; Diesel</td>\n",
       "      <td>Rubis</td>\n",
       "      <td>19</td>\n",
       "      <td>April</td>\n",
       "      <td>2022</td>\n",
       "      <td>1:20 p.m.</td>\n",
       "    </tr>\n",
       "    <tr>\n",
       "      <th>4</th>\n",
       "      <td>Nairobi</td>\n",
       "      <td>Nairobi</td>\n",
       "      <td>Westlands</td>\n",
       "      <td>Waiyaki way</td>\n",
       "      <td>Both Super &amp; Diesel</td>\n",
       "      <td>Shell</td>\n",
       "      <td>18</td>\n",
       "      <td>April</td>\n",
       "      <td>2022</td>\n",
       "      <td>12:28 p.m.</td>\n",
       "    </tr>\n",
       "  </tbody>\n",
       "</table>\n",
       "</div>"
      ],
      "text/plain": [
       "      County       Town                               Area  \\\n",
       "0   Nairobi    Nairobi    CBD - Central Business District    \n",
       "1   Nairobi    Nairobi    CBD - Central Business District    \n",
       "2   Nairobi    Nairobi    CBD - Central Business District    \n",
       "3   Nairobi    Nairobi                         Hurlingham    \n",
       "4   Nairobi    Nairobi                          Westlands    \n",
       "\n",
       "                    Road              Fuel Type        Station   Date  Month  \\\n",
       "0    Haile Selassie ave                 Diesel    National Oil     19  April   \n",
       "1    Haile Selassie ave                 Diesel    National Oil     19  April   \n",
       "2    Haile Selassie ave    Both Super & Diesel    National Oil     19  April   \n",
       "3    Argwings Kodhek Rd    Both Super & Diesel           Rubis     19  April   \n",
       "4           Waiyaki way    Both Super & Diesel           Shell     18  April   \n",
       "\n",
       "   Year          Time  \n",
       "0  2022    1:44 p.m.   \n",
       "1  2022    1:43 p.m.   \n",
       "2  2022    1:41 p.m.   \n",
       "3  2022    1:20 p.m.   \n",
       "4  2022   12:28 p.m.   "
      ]
     },
     "execution_count": 11,
     "metadata": {},
     "output_type": "execute_result"
    }
   ],
   "source": [
    "petrol_data.head()"
   ]
  },
  {
   "cell_type": "markdown",
   "id": "d1568764",
   "metadata": {
    "papermill": {
     "duration": 0.028106,
     "end_time": "2022-05-03T19:51:36.015752",
     "exception": false,
     "start_time": "2022-05-03T19:51:35.987646",
     "status": "completed"
    },
    "tags": []
   },
   "source": [
    "#  5. Data visualization\n",
    "Visualizing petrol station's distribution\n",
    "Here we want to get a general view of the various reported petrol stations from our dataset"
   ]
  },
  {
   "cell_type": "code",
   "execution_count": 12,
   "id": "fdbdebaf",
   "metadata": {
    "execution": {
     "iopub.execute_input": "2022-05-03T19:51:36.074780Z",
     "iopub.status.busy": "2022-05-03T19:51:36.074486Z",
     "iopub.status.idle": "2022-05-03T19:51:36.158376Z",
     "shell.execute_reply": "2022-05-03T19:51:36.157848Z"
    },
    "papermill": {
     "duration": 0.116474,
     "end_time": "2022-05-03T19:51:36.160721",
     "exception": false,
     "start_time": "2022-05-03T19:51:36.044247",
     "status": "completed"
    },
    "tags": []
   },
   "outputs": [
    {
     "data": {
      "application/vnd.plotly.v1+json": {
       "config": {
        "plotlyServerURL": "https://plot.ly"
       },
       "data": [
        {
         "labels": [
          " Total ",
          " Shell ",
          " Rubis ",
          " Ola/Oil Libya ",
          " Petrocity ",
          " Delta ",
          " National Oil ",
          " Other (not listed) ",
          " Hass ",
          " Luqman ",
          " Astrol ",
          " Tosha ",
          " Kobil ",
          " Lexo ",
          " Gulf ",
          " Riva "
         ],
         "marker": {
          "colors": [
           "mediumturquoise",
           "darkorange",
           "gold",
           "lightgreen"
          ],
          "line": {
           "color": "#000000",
           "width": 2
          }
         },
         "type": "pie",
         "values": [
          33.26732673267327,
          29.108910891089106,
          20.99009900990099,
          3.3663366336633667,
          2.5742574257425743,
          1.782178217821782,
          1.5841584158415842,
          1.5841584158415842,
          1.3861386138613863,
          1.188118811881188,
          0.7920792079207921,
          0.7920792079207921,
          0.39603960396039606,
          0.39603960396039606,
          0.39603960396039606,
          0.39603960396039606
         ]
        }
       ],
       "layout": {
        "template": {
         "data": {
          "bar": [
           {
            "error_x": {
             "color": "#2a3f5f"
            },
            "error_y": {
             "color": "#2a3f5f"
            },
            "marker": {
             "line": {
              "color": "#E5ECF6",
              "width": 0.5
             },
             "pattern": {
              "fillmode": "overlay",
              "size": 10,
              "solidity": 0.2
             }
            },
            "type": "bar"
           }
          ],
          "barpolar": [
           {
            "marker": {
             "line": {
              "color": "#E5ECF6",
              "width": 0.5
             },
             "pattern": {
              "fillmode": "overlay",
              "size": 10,
              "solidity": 0.2
             }
            },
            "type": "barpolar"
           }
          ],
          "carpet": [
           {
            "aaxis": {
             "endlinecolor": "#2a3f5f",
             "gridcolor": "white",
             "linecolor": "white",
             "minorgridcolor": "white",
             "startlinecolor": "#2a3f5f"
            },
            "baxis": {
             "endlinecolor": "#2a3f5f",
             "gridcolor": "white",
             "linecolor": "white",
             "minorgridcolor": "white",
             "startlinecolor": "#2a3f5f"
            },
            "type": "carpet"
           }
          ],
          "choropleth": [
           {
            "colorbar": {
             "outlinewidth": 0,
             "ticks": ""
            },
            "type": "choropleth"
           }
          ],
          "contour": [
           {
            "colorbar": {
             "outlinewidth": 0,
             "ticks": ""
            },
            "colorscale": [
             [
              0.0,
              "#0d0887"
             ],
             [
              0.1111111111111111,
              "#46039f"
             ],
             [
              0.2222222222222222,
              "#7201a8"
             ],
             [
              0.3333333333333333,
              "#9c179e"
             ],
             [
              0.4444444444444444,
              "#bd3786"
             ],
             [
              0.5555555555555556,
              "#d8576b"
             ],
             [
              0.6666666666666666,
              "#ed7953"
             ],
             [
              0.7777777777777778,
              "#fb9f3a"
             ],
             [
              0.8888888888888888,
              "#fdca26"
             ],
             [
              1.0,
              "#f0f921"
             ]
            ],
            "type": "contour"
           }
          ],
          "contourcarpet": [
           {
            "colorbar": {
             "outlinewidth": 0,
             "ticks": ""
            },
            "type": "contourcarpet"
           }
          ],
          "heatmap": [
           {
            "colorbar": {
             "outlinewidth": 0,
             "ticks": ""
            },
            "colorscale": [
             [
              0.0,
              "#0d0887"
             ],
             [
              0.1111111111111111,
              "#46039f"
             ],
             [
              0.2222222222222222,
              "#7201a8"
             ],
             [
              0.3333333333333333,
              "#9c179e"
             ],
             [
              0.4444444444444444,
              "#bd3786"
             ],
             [
              0.5555555555555556,
              "#d8576b"
             ],
             [
              0.6666666666666666,
              "#ed7953"
             ],
             [
              0.7777777777777778,
              "#fb9f3a"
             ],
             [
              0.8888888888888888,
              "#fdca26"
             ],
             [
              1.0,
              "#f0f921"
             ]
            ],
            "type": "heatmap"
           }
          ],
          "heatmapgl": [
           {
            "colorbar": {
             "outlinewidth": 0,
             "ticks": ""
            },
            "colorscale": [
             [
              0.0,
              "#0d0887"
             ],
             [
              0.1111111111111111,
              "#46039f"
             ],
             [
              0.2222222222222222,
              "#7201a8"
             ],
             [
              0.3333333333333333,
              "#9c179e"
             ],
             [
              0.4444444444444444,
              "#bd3786"
             ],
             [
              0.5555555555555556,
              "#d8576b"
             ],
             [
              0.6666666666666666,
              "#ed7953"
             ],
             [
              0.7777777777777778,
              "#fb9f3a"
             ],
             [
              0.8888888888888888,
              "#fdca26"
             ],
             [
              1.0,
              "#f0f921"
             ]
            ],
            "type": "heatmapgl"
           }
          ],
          "histogram": [
           {
            "marker": {
             "pattern": {
              "fillmode": "overlay",
              "size": 10,
              "solidity": 0.2
             }
            },
            "type": "histogram"
           }
          ],
          "histogram2d": [
           {
            "colorbar": {
             "outlinewidth": 0,
             "ticks": ""
            },
            "colorscale": [
             [
              0.0,
              "#0d0887"
             ],
             [
              0.1111111111111111,
              "#46039f"
             ],
             [
              0.2222222222222222,
              "#7201a8"
             ],
             [
              0.3333333333333333,
              "#9c179e"
             ],
             [
              0.4444444444444444,
              "#bd3786"
             ],
             [
              0.5555555555555556,
              "#d8576b"
             ],
             [
              0.6666666666666666,
              "#ed7953"
             ],
             [
              0.7777777777777778,
              "#fb9f3a"
             ],
             [
              0.8888888888888888,
              "#fdca26"
             ],
             [
              1.0,
              "#f0f921"
             ]
            ],
            "type": "histogram2d"
           }
          ],
          "histogram2dcontour": [
           {
            "colorbar": {
             "outlinewidth": 0,
             "ticks": ""
            },
            "colorscale": [
             [
              0.0,
              "#0d0887"
             ],
             [
              0.1111111111111111,
              "#46039f"
             ],
             [
              0.2222222222222222,
              "#7201a8"
             ],
             [
              0.3333333333333333,
              "#9c179e"
             ],
             [
              0.4444444444444444,
              "#bd3786"
             ],
             [
              0.5555555555555556,
              "#d8576b"
             ],
             [
              0.6666666666666666,
              "#ed7953"
             ],
             [
              0.7777777777777778,
              "#fb9f3a"
             ],
             [
              0.8888888888888888,
              "#fdca26"
             ],
             [
              1.0,
              "#f0f921"
             ]
            ],
            "type": "histogram2dcontour"
           }
          ],
          "mesh3d": [
           {
            "colorbar": {
             "outlinewidth": 0,
             "ticks": ""
            },
            "type": "mesh3d"
           }
          ],
          "parcoords": [
           {
            "line": {
             "colorbar": {
              "outlinewidth": 0,
              "ticks": ""
             }
            },
            "type": "parcoords"
           }
          ],
          "pie": [
           {
            "automargin": true,
            "type": "pie"
           }
          ],
          "scatter": [
           {
            "fillpattern": {
             "fillmode": "overlay",
             "size": 10,
             "solidity": 0.2
            },
            "type": "scatter"
           }
          ],
          "scatter3d": [
           {
            "line": {
             "colorbar": {
              "outlinewidth": 0,
              "ticks": ""
             }
            },
            "marker": {
             "colorbar": {
              "outlinewidth": 0,
              "ticks": ""
             }
            },
            "type": "scatter3d"
           }
          ],
          "scattercarpet": [
           {
            "marker": {
             "colorbar": {
              "outlinewidth": 0,
              "ticks": ""
             }
            },
            "type": "scattercarpet"
           }
          ],
          "scattergeo": [
           {
            "marker": {
             "colorbar": {
              "outlinewidth": 0,
              "ticks": ""
             }
            },
            "type": "scattergeo"
           }
          ],
          "scattergl": [
           {
            "marker": {
             "colorbar": {
              "outlinewidth": 0,
              "ticks": ""
             }
            },
            "type": "scattergl"
           }
          ],
          "scattermapbox": [
           {
            "marker": {
             "colorbar": {
              "outlinewidth": 0,
              "ticks": ""
             }
            },
            "type": "scattermapbox"
           }
          ],
          "scatterpolar": [
           {
            "marker": {
             "colorbar": {
              "outlinewidth": 0,
              "ticks": ""
             }
            },
            "type": "scatterpolar"
           }
          ],
          "scatterpolargl": [
           {
            "marker": {
             "colorbar": {
              "outlinewidth": 0,
              "ticks": ""
             }
            },
            "type": "scatterpolargl"
           }
          ],
          "scatterternary": [
           {
            "marker": {
             "colorbar": {
              "outlinewidth": 0,
              "ticks": ""
             }
            },
            "type": "scatterternary"
           }
          ],
          "surface": [
           {
            "colorbar": {
             "outlinewidth": 0,
             "ticks": ""
            },
            "colorscale": [
             [
              0.0,
              "#0d0887"
             ],
             [
              0.1111111111111111,
              "#46039f"
             ],
             [
              0.2222222222222222,
              "#7201a8"
             ],
             [
              0.3333333333333333,
              "#9c179e"
             ],
             [
              0.4444444444444444,
              "#bd3786"
             ],
             [
              0.5555555555555556,
              "#d8576b"
             ],
             [
              0.6666666666666666,
              "#ed7953"
             ],
             [
              0.7777777777777778,
              "#fb9f3a"
             ],
             [
              0.8888888888888888,
              "#fdca26"
             ],
             [
              1.0,
              "#f0f921"
             ]
            ],
            "type": "surface"
           }
          ],
          "table": [
           {
            "cells": {
             "fill": {
              "color": "#EBF0F8"
             },
             "line": {
              "color": "white"
             }
            },
            "header": {
             "fill": {
              "color": "#C8D4E3"
             },
             "line": {
              "color": "white"
             }
            },
            "type": "table"
           }
          ]
         },
         "layout": {
          "annotationdefaults": {
           "arrowcolor": "#2a3f5f",
           "arrowhead": 0,
           "arrowwidth": 1
          },
          "autotypenumbers": "strict",
          "coloraxis": {
           "colorbar": {
            "outlinewidth": 0,
            "ticks": ""
           }
          },
          "colorscale": {
           "diverging": [
            [
             0,
             "#8e0152"
            ],
            [
             0.1,
             "#c51b7d"
            ],
            [
             0.2,
             "#de77ae"
            ],
            [
             0.3,
             "#f1b6da"
            ],
            [
             0.4,
             "#fde0ef"
            ],
            [
             0.5,
             "#f7f7f7"
            ],
            [
             0.6,
             "#e6f5d0"
            ],
            [
             0.7,
             "#b8e186"
            ],
            [
             0.8,
             "#7fbc41"
            ],
            [
             0.9,
             "#4d9221"
            ],
            [
             1,
             "#276419"
            ]
           ],
           "sequential": [
            [
             0.0,
             "#0d0887"
            ],
            [
             0.1111111111111111,
             "#46039f"
            ],
            [
             0.2222222222222222,
             "#7201a8"
            ],
            [
             0.3333333333333333,
             "#9c179e"
            ],
            [
             0.4444444444444444,
             "#bd3786"
            ],
            [
             0.5555555555555556,
             "#d8576b"
            ],
            [
             0.6666666666666666,
             "#ed7953"
            ],
            [
             0.7777777777777778,
             "#fb9f3a"
            ],
            [
             0.8888888888888888,
             "#fdca26"
            ],
            [
             1.0,
             "#f0f921"
            ]
           ],
           "sequentialminus": [
            [
             0.0,
             "#0d0887"
            ],
            [
             0.1111111111111111,
             "#46039f"
            ],
            [
             0.2222222222222222,
             "#7201a8"
            ],
            [
             0.3333333333333333,
             "#9c179e"
            ],
            [
             0.4444444444444444,
             "#bd3786"
            ],
            [
             0.5555555555555556,
             "#d8576b"
            ],
            [
             0.6666666666666666,
             "#ed7953"
            ],
            [
             0.7777777777777778,
             "#fb9f3a"
            ],
            [
             0.8888888888888888,
             "#fdca26"
            ],
            [
             1.0,
             "#f0f921"
            ]
           ]
          },
          "colorway": [
           "#636efa",
           "#EF553B",
           "#00cc96",
           "#ab63fa",
           "#FFA15A",
           "#19d3f3",
           "#FF6692",
           "#B6E880",
           "#FF97FF",
           "#FECB52"
          ],
          "font": {
           "color": "#2a3f5f"
          },
          "geo": {
           "bgcolor": "white",
           "lakecolor": "white",
           "landcolor": "#E5ECF6",
           "showlakes": true,
           "showland": true,
           "subunitcolor": "white"
          },
          "hoverlabel": {
           "align": "left"
          },
          "hovermode": "closest",
          "mapbox": {
           "style": "light"
          },
          "paper_bgcolor": "white",
          "plot_bgcolor": "#E5ECF6",
          "polar": {
           "angularaxis": {
            "gridcolor": "white",
            "linecolor": "white",
            "ticks": ""
           },
           "bgcolor": "#E5ECF6",
           "radialaxis": {
            "gridcolor": "white",
            "linecolor": "white",
            "ticks": ""
           }
          },
          "scene": {
           "xaxis": {
            "backgroundcolor": "#E5ECF6",
            "gridcolor": "white",
            "gridwidth": 2,
            "linecolor": "white",
            "showbackground": true,
            "ticks": "",
            "zerolinecolor": "white"
           },
           "yaxis": {
            "backgroundcolor": "#E5ECF6",
            "gridcolor": "white",
            "gridwidth": 2,
            "linecolor": "white",
            "showbackground": true,
            "ticks": "",
            "zerolinecolor": "white"
           },
           "zaxis": {
            "backgroundcolor": "#E5ECF6",
            "gridcolor": "white",
            "gridwidth": 2,
            "linecolor": "white",
            "showbackground": true,
            "ticks": "",
            "zerolinecolor": "white"
           }
          },
          "shapedefaults": {
           "line": {
            "color": "#2a3f5f"
           }
          },
          "ternary": {
           "aaxis": {
            "gridcolor": "white",
            "linecolor": "white",
            "ticks": ""
           },
           "baxis": {
            "gridcolor": "white",
            "linecolor": "white",
            "ticks": ""
           },
           "bgcolor": "#E5ECF6",
           "caxis": {
            "gridcolor": "white",
            "linecolor": "white",
            "ticks": ""
           }
          },
          "title": {
           "x": 0.05
          },
          "xaxis": {
           "automargin": true,
           "gridcolor": "white",
           "linecolor": "white",
           "ticks": "",
           "title": {
            "standoff": 15
           },
           "zerolinecolor": "white",
           "zerolinewidth": 2
          },
          "yaxis": {
           "automargin": true,
           "gridcolor": "white",
           "linecolor": "white",
           "ticks": "",
           "title": {
            "standoff": 15
           },
           "zerolinecolor": "white",
           "zerolinewidth": 2
          }
         }
        },
        "title": {
         "text": "Petrol Stations"
        }
       }
      },
      "text/html": [
       "<div>                            <div id=\"4c7b11f4-8f4e-41b3-959a-b2aa51741a6a\" class=\"plotly-graph-div\" style=\"height:525px; width:100%;\"></div>            <script type=\"text/javascript\">                require([\"plotly\"], function(Plotly) {                    window.PLOTLYENV=window.PLOTLYENV || {};                                    if (document.getElementById(\"4c7b11f4-8f4e-41b3-959a-b2aa51741a6a\")) {                    Plotly.newPlot(                        \"4c7b11f4-8f4e-41b3-959a-b2aa51741a6a\",                        [{\"labels\":[\" Total \",\" Shell \",\" Rubis \",\" Ola/Oil Libya \",\" Petrocity \",\" Delta \",\" National Oil \",\" Other (not listed) \",\" Hass \",\" Luqman \",\" Astrol \",\" Tosha \",\" Kobil \",\" Lexo \",\" Gulf \",\" Riva \"],\"values\":[33.26732673267327,29.108910891089106,20.99009900990099,3.3663366336633667,2.5742574257425743,1.782178217821782,1.5841584158415842,1.5841584158415842,1.3861386138613863,1.188118811881188,0.7920792079207921,0.7920792079207921,0.39603960396039606,0.39603960396039606,0.39603960396039606,0.39603960396039606],\"type\":\"pie\",\"marker\":{\"line\":{\"color\":\"#000000\",\"width\":2},\"colors\":[\"mediumturquoise\",\"darkorange\",\"gold\",\"lightgreen\"]}}],                        {\"title\":{\"text\":\"Petrol Stations\"},\"template\":{\"data\":{\"histogram2dcontour\":[{\"type\":\"histogram2dcontour\",\"colorbar\":{\"outlinewidth\":0,\"ticks\":\"\"},\"colorscale\":[[0.0,\"#0d0887\"],[0.1111111111111111,\"#46039f\"],[0.2222222222222222,\"#7201a8\"],[0.3333333333333333,\"#9c179e\"],[0.4444444444444444,\"#bd3786\"],[0.5555555555555556,\"#d8576b\"],[0.6666666666666666,\"#ed7953\"],[0.7777777777777778,\"#fb9f3a\"],[0.8888888888888888,\"#fdca26\"],[1.0,\"#f0f921\"]]}],\"choropleth\":[{\"type\":\"choropleth\",\"colorbar\":{\"outlinewidth\":0,\"ticks\":\"\"}}],\"histogram2d\":[{\"type\":\"histogram2d\",\"colorbar\":{\"outlinewidth\":0,\"ticks\":\"\"},\"colorscale\":[[0.0,\"#0d0887\"],[0.1111111111111111,\"#46039f\"],[0.2222222222222222,\"#7201a8\"],[0.3333333333333333,\"#9c179e\"],[0.4444444444444444,\"#bd3786\"],[0.5555555555555556,\"#d8576b\"],[0.6666666666666666,\"#ed7953\"],[0.7777777777777778,\"#fb9f3a\"],[0.8888888888888888,\"#fdca26\"],[1.0,\"#f0f921\"]]}],\"heatmap\":[{\"type\":\"heatmap\",\"colorbar\":{\"outlinewidth\":0,\"ticks\":\"\"},\"colorscale\":[[0.0,\"#0d0887\"],[0.1111111111111111,\"#46039f\"],[0.2222222222222222,\"#7201a8\"],[0.3333333333333333,\"#9c179e\"],[0.4444444444444444,\"#bd3786\"],[0.5555555555555556,\"#d8576b\"],[0.6666666666666666,\"#ed7953\"],[0.7777777777777778,\"#fb9f3a\"],[0.8888888888888888,\"#fdca26\"],[1.0,\"#f0f921\"]]}],\"heatmapgl\":[{\"type\":\"heatmapgl\",\"colorbar\":{\"outlinewidth\":0,\"ticks\":\"\"},\"colorscale\":[[0.0,\"#0d0887\"],[0.1111111111111111,\"#46039f\"],[0.2222222222222222,\"#7201a8\"],[0.3333333333333333,\"#9c179e\"],[0.4444444444444444,\"#bd3786\"],[0.5555555555555556,\"#d8576b\"],[0.6666666666666666,\"#ed7953\"],[0.7777777777777778,\"#fb9f3a\"],[0.8888888888888888,\"#fdca26\"],[1.0,\"#f0f921\"]]}],\"contourcarpet\":[{\"type\":\"contourcarpet\",\"colorbar\":{\"outlinewidth\":0,\"ticks\":\"\"}}],\"contour\":[{\"type\":\"contour\",\"colorbar\":{\"outlinewidth\":0,\"ticks\":\"\"},\"colorscale\":[[0.0,\"#0d0887\"],[0.1111111111111111,\"#46039f\"],[0.2222222222222222,\"#7201a8\"],[0.3333333333333333,\"#9c179e\"],[0.4444444444444444,\"#bd3786\"],[0.5555555555555556,\"#d8576b\"],[0.6666666666666666,\"#ed7953\"],[0.7777777777777778,\"#fb9f3a\"],[0.8888888888888888,\"#fdca26\"],[1.0,\"#f0f921\"]]}],\"surface\":[{\"type\":\"surface\",\"colorbar\":{\"outlinewidth\":0,\"ticks\":\"\"},\"colorscale\":[[0.0,\"#0d0887\"],[0.1111111111111111,\"#46039f\"],[0.2222222222222222,\"#7201a8\"],[0.3333333333333333,\"#9c179e\"],[0.4444444444444444,\"#bd3786\"],[0.5555555555555556,\"#d8576b\"],[0.6666666666666666,\"#ed7953\"],[0.7777777777777778,\"#fb9f3a\"],[0.8888888888888888,\"#fdca26\"],[1.0,\"#f0f921\"]]}],\"mesh3d\":[{\"type\":\"mesh3d\",\"colorbar\":{\"outlinewidth\":0,\"ticks\":\"\"}}],\"scatter\":[{\"fillpattern\":{\"fillmode\":\"overlay\",\"size\":10,\"solidity\":0.2},\"type\":\"scatter\"}],\"parcoords\":[{\"type\":\"parcoords\",\"line\":{\"colorbar\":{\"outlinewidth\":0,\"ticks\":\"\"}}}],\"scatterpolargl\":[{\"type\":\"scatterpolargl\",\"marker\":{\"colorbar\":{\"outlinewidth\":0,\"ticks\":\"\"}}}],\"bar\":[{\"error_x\":{\"color\":\"#2a3f5f\"},\"error_y\":{\"color\":\"#2a3f5f\"},\"marker\":{\"line\":{\"color\":\"#E5ECF6\",\"width\":0.5},\"pattern\":{\"fillmode\":\"overlay\",\"size\":10,\"solidity\":0.2}},\"type\":\"bar\"}],\"scattergeo\":[{\"type\":\"scattergeo\",\"marker\":{\"colorbar\":{\"outlinewidth\":0,\"ticks\":\"\"}}}],\"scatterpolar\":[{\"type\":\"scatterpolar\",\"marker\":{\"colorbar\":{\"outlinewidth\":0,\"ticks\":\"\"}}}],\"histogram\":[{\"marker\":{\"pattern\":{\"fillmode\":\"overlay\",\"size\":10,\"solidity\":0.2}},\"type\":\"histogram\"}],\"scattergl\":[{\"type\":\"scattergl\",\"marker\":{\"colorbar\":{\"outlinewidth\":0,\"ticks\":\"\"}}}],\"scatter3d\":[{\"type\":\"scatter3d\",\"line\":{\"colorbar\":{\"outlinewidth\":0,\"ticks\":\"\"}},\"marker\":{\"colorbar\":{\"outlinewidth\":0,\"ticks\":\"\"}}}],\"scattermapbox\":[{\"type\":\"scattermapbox\",\"marker\":{\"colorbar\":{\"outlinewidth\":0,\"ticks\":\"\"}}}],\"scatterternary\":[{\"type\":\"scatterternary\",\"marker\":{\"colorbar\":{\"outlinewidth\":0,\"ticks\":\"\"}}}],\"scattercarpet\":[{\"type\":\"scattercarpet\",\"marker\":{\"colorbar\":{\"outlinewidth\":0,\"ticks\":\"\"}}}],\"carpet\":[{\"aaxis\":{\"endlinecolor\":\"#2a3f5f\",\"gridcolor\":\"white\",\"linecolor\":\"white\",\"minorgridcolor\":\"white\",\"startlinecolor\":\"#2a3f5f\"},\"baxis\":{\"endlinecolor\":\"#2a3f5f\",\"gridcolor\":\"white\",\"linecolor\":\"white\",\"minorgridcolor\":\"white\",\"startlinecolor\":\"#2a3f5f\"},\"type\":\"carpet\"}],\"table\":[{\"cells\":{\"fill\":{\"color\":\"#EBF0F8\"},\"line\":{\"color\":\"white\"}},\"header\":{\"fill\":{\"color\":\"#C8D4E3\"},\"line\":{\"color\":\"white\"}},\"type\":\"table\"}],\"barpolar\":[{\"marker\":{\"line\":{\"color\":\"#E5ECF6\",\"width\":0.5},\"pattern\":{\"fillmode\":\"overlay\",\"size\":10,\"solidity\":0.2}},\"type\":\"barpolar\"}],\"pie\":[{\"automargin\":true,\"type\":\"pie\"}]},\"layout\":{\"autotypenumbers\":\"strict\",\"colorway\":[\"#636efa\",\"#EF553B\",\"#00cc96\",\"#ab63fa\",\"#FFA15A\",\"#19d3f3\",\"#FF6692\",\"#B6E880\",\"#FF97FF\",\"#FECB52\"],\"font\":{\"color\":\"#2a3f5f\"},\"hovermode\":\"closest\",\"hoverlabel\":{\"align\":\"left\"},\"paper_bgcolor\":\"white\",\"plot_bgcolor\":\"#E5ECF6\",\"polar\":{\"bgcolor\":\"#E5ECF6\",\"angularaxis\":{\"gridcolor\":\"white\",\"linecolor\":\"white\",\"ticks\":\"\"},\"radialaxis\":{\"gridcolor\":\"white\",\"linecolor\":\"white\",\"ticks\":\"\"}},\"ternary\":{\"bgcolor\":\"#E5ECF6\",\"aaxis\":{\"gridcolor\":\"white\",\"linecolor\":\"white\",\"ticks\":\"\"},\"baxis\":{\"gridcolor\":\"white\",\"linecolor\":\"white\",\"ticks\":\"\"},\"caxis\":{\"gridcolor\":\"white\",\"linecolor\":\"white\",\"ticks\":\"\"}},\"coloraxis\":{\"colorbar\":{\"outlinewidth\":0,\"ticks\":\"\"}},\"colorscale\":{\"sequential\":[[0.0,\"#0d0887\"],[0.1111111111111111,\"#46039f\"],[0.2222222222222222,\"#7201a8\"],[0.3333333333333333,\"#9c179e\"],[0.4444444444444444,\"#bd3786\"],[0.5555555555555556,\"#d8576b\"],[0.6666666666666666,\"#ed7953\"],[0.7777777777777778,\"#fb9f3a\"],[0.8888888888888888,\"#fdca26\"],[1.0,\"#f0f921\"]],\"sequentialminus\":[[0.0,\"#0d0887\"],[0.1111111111111111,\"#46039f\"],[0.2222222222222222,\"#7201a8\"],[0.3333333333333333,\"#9c179e\"],[0.4444444444444444,\"#bd3786\"],[0.5555555555555556,\"#d8576b\"],[0.6666666666666666,\"#ed7953\"],[0.7777777777777778,\"#fb9f3a\"],[0.8888888888888888,\"#fdca26\"],[1.0,\"#f0f921\"]],\"diverging\":[[0,\"#8e0152\"],[0.1,\"#c51b7d\"],[0.2,\"#de77ae\"],[0.3,\"#f1b6da\"],[0.4,\"#fde0ef\"],[0.5,\"#f7f7f7\"],[0.6,\"#e6f5d0\"],[0.7,\"#b8e186\"],[0.8,\"#7fbc41\"],[0.9,\"#4d9221\"],[1,\"#276419\"]]},\"xaxis\":{\"gridcolor\":\"white\",\"linecolor\":\"white\",\"ticks\":\"\",\"title\":{\"standoff\":15},\"zerolinecolor\":\"white\",\"automargin\":true,\"zerolinewidth\":2},\"yaxis\":{\"gridcolor\":\"white\",\"linecolor\":\"white\",\"ticks\":\"\",\"title\":{\"standoff\":15},\"zerolinecolor\":\"white\",\"automargin\":true,\"zerolinewidth\":2},\"scene\":{\"xaxis\":{\"backgroundcolor\":\"#E5ECF6\",\"gridcolor\":\"white\",\"linecolor\":\"white\",\"showbackground\":true,\"ticks\":\"\",\"zerolinecolor\":\"white\",\"gridwidth\":2},\"yaxis\":{\"backgroundcolor\":\"#E5ECF6\",\"gridcolor\":\"white\",\"linecolor\":\"white\",\"showbackground\":true,\"ticks\":\"\",\"zerolinecolor\":\"white\",\"gridwidth\":2},\"zaxis\":{\"backgroundcolor\":\"#E5ECF6\",\"gridcolor\":\"white\",\"linecolor\":\"white\",\"showbackground\":true,\"ticks\":\"\",\"zerolinecolor\":\"white\",\"gridwidth\":2}},\"shapedefaults\":{\"line\":{\"color\":\"#2a3f5f\"}},\"annotationdefaults\":{\"arrowcolor\":\"#2a3f5f\",\"arrowhead\":0,\"arrowwidth\":1},\"geo\":{\"bgcolor\":\"white\",\"landcolor\":\"#E5ECF6\",\"subunitcolor\":\"white\",\"showland\":true,\"showlakes\":true,\"lakecolor\":\"white\"},\"title\":{\"x\":0.05},\"mapbox\":{\"style\":\"light\"}}}},                        {\"responsive\": true}                    ).then(function(){\n",
       "                            \n",
       "var gd = document.getElementById('4c7b11f4-8f4e-41b3-959a-b2aa51741a6a');\n",
       "var x = new MutationObserver(function (mutations, observer) {{\n",
       "        var display = window.getComputedStyle(gd).display;\n",
       "        if (!display || display === 'none') {{\n",
       "            console.log([gd, 'removed!']);\n",
       "            Plotly.purge(gd);\n",
       "            observer.disconnect();\n",
       "        }}\n",
       "}});\n",
       "\n",
       "// Listen for the removal of the full notebook cells\n",
       "var notebookContainer = gd.closest('#notebook-container');\n",
       "if (notebookContainer) {{\n",
       "    x.observe(notebookContainer, {childList: true});\n",
       "}}\n",
       "\n",
       "// Listen for the clearing of the current output cell\n",
       "var outputEl = gd.closest('.output');\n",
       "if (outputEl) {{\n",
       "    x.observe(outputEl, {childList: true});\n",
       "}}\n",
       "\n",
       "                        })                };                });            </script>        </div>"
      ]
     },
     "metadata": {},
     "output_type": "display_data"
    }
   ],
   "source": [
    "petrol_station=petrol_data['Station '].value_counts()\n",
    "colors=['mediumturquoise','darkorange','gold','lightgreen']\n",
    "trace=go.Pie(values=(np.array((petrol_station/petrol_station.sum())*100)),labels=(np.array(petrol_station.index)))\n",
    "layout=go.Layout(title='Petrol Stations')\n",
    "data=[trace]\n",
    "fig=go.Figure(trace,layout)\n",
    "fig.update_traces(marker=dict(colors=colors,line=dict(color='#000000',width=2)))\n",
    "fig.show()\n",
    "#py.plot(fig)"
   ]
  },
  {
   "cell_type": "markdown",
   "id": "ba7b977d",
   "metadata": {
    "papermill": {
     "duration": 0.03363,
     "end_time": "2022-05-03T19:51:36.228292",
     "exception": false,
     "start_time": "2022-05-03T19:51:36.194662",
     "status": "completed"
    },
    "tags": []
   },
   "source": [
    "From the pie chart above we find out that from the reported petrol stations Total petrol station was the most reported to have fuel at 33.3% followed by Shell at 29.1% ,Rubis at 21% ,Ola/Oil Libya at 3.37% and Petrocity at 2.57%.\n",
    "\n",
    "Petrol stations such as Delta,National Oil,Luqman,Hass and Others not captured from the list were reported to have fuel but but were not the majority as compared to shell or Total as they fell below 2% and above 1%."
   ]
  },
  {
   "cell_type": "markdown",
   "id": "3096742d",
   "metadata": {
    "papermill": {
     "duration": 0.032919,
     "end_time": "2022-05-03T19:51:36.295045",
     "exception": false,
     "start_time": "2022-05-03T19:51:36.262126",
     "status": "completed"
    },
    "tags": []
   },
   "source": [
    "##  Visualizing fuel type distribution"
   ]
  },
  {
   "cell_type": "code",
   "execution_count": 13,
   "id": "84458937",
   "metadata": {
    "execution": {
     "iopub.execute_input": "2022-05-03T19:51:36.363625Z",
     "iopub.status.busy": "2022-05-03T19:51:36.363161Z",
     "iopub.status.idle": "2022-05-03T19:51:36.614152Z",
     "shell.execute_reply": "2022-05-03T19:51:36.613584Z"
    },
    "papermill": {
     "duration": 0.287215,
     "end_time": "2022-05-03T19:51:36.615935",
     "exception": false,
     "start_time": "2022-05-03T19:51:36.328720",
     "status": "completed"
    },
    "tags": []
   },
   "outputs": [
    {
     "data": {
      "image/png": "[encoded data removed]",
      "text/plain": [
       "<Figure size 432x288 with 1 Axes>"
      ]
     },
     "metadata": {},
     "output_type": "display_data"
    }
   ],
   "source": [
    "fuel_type=petrol_data['Fuel Type'].value_counts()\n",
    "fuel_labels=(np.array(fuel_type.index))\n",
    "plt.pie(fuel_type,labels=fuel_labels,radius = 2.2,autopct='%.0f%%')\n",
    "plt.legend(title='Fuel Type')\n",
    "plt.show()"
   ]
  },
  {
   "cell_type": "markdown",
   "id": "d30cc1a2",
   "metadata": {
    "papermill": {
     "duration": 0.034278,
     "end_time": "2022-05-03T19:51:36.684207",
     "exception": false,
     "start_time": "2022-05-03T19:51:36.649929",
     "status": "completed"
    },
    "tags": []
   },
   "source": [
    "When in comes to the most common type of fuel available, majority of the fuel stations had both Super&Diesel reported at 62% while those with only Super/Petrol without Diesel were at 31% . Diesel and V-power only fuel types were at 5% and 2% respectively available from the listed petrol stations."
   ]
  },
  {
   "cell_type": "markdown",
   "id": "dee954ca",
   "metadata": {
    "papermill": {
     "duration": 0.034427,
     "end_time": "2022-05-03T19:51:36.753102",
     "exception": false,
     "start_time": "2022-05-03T19:51:36.718675",
     "status": "completed"
    },
    "tags": []
   },
   "source": [
    "### Petrol Station Distribution with relation to the Fuel Type"
   ]
  },
  {
   "cell_type": "code",
   "execution_count": 14,
   "id": "1ebce3db",
   "metadata": {
    "execution": {
     "iopub.execute_input": "2022-05-03T19:51:36.824853Z",
     "iopub.status.busy": "2022-05-03T19:51:36.824292Z",
     "iopub.status.idle": "2022-05-03T19:51:37.705260Z",
     "shell.execute_reply": "2022-05-03T19:51:37.704531Z"
    },
    "papermill": {
     "duration": 0.919953,
     "end_time": "2022-05-03T19:51:37.707669",
     "exception": false,
     "start_time": "2022-05-03T19:51:36.787716",
     "status": "completed"
    },
    "tags": []
   },
   "outputs": [
    {
     "data": {
      "application/vnd.plotly.v1+json": {
       "config": {
        "plotlyServerURL": "https://plot.ly"
       },
       "data": [
        {
         "alignmentgroup": "True",
         "hovertemplate": "Fuel Type= Both Super & Diesel <br>Station=%{x}<br>Count=%{y}<extra></extra>",
         "legendgroup": " Both Super & Diesel ",
         "marker": {
          "color": "#636efa",
          "line": {
           "color": "rgb(9,50,100)",
           "width": 1.5
          },
          "pattern": {
           "shape": ""
          }
         },
         "name": " Both Super & Diesel ",
         "offsetgroup": " Both Super & Diesel ",
         "opacity": 0.6,
         "orientation": "v",
         "showlegend": true,
         "textposition": "auto",
         "type": "bar",
         "x": [
          " Astrol ",
          " Delta ",
          " Gulf ",
          " Hass ",
          " Kobil ",
          " Lexo ",
          " Luqman ",
          " National Oil ",
          " Ola/Oil Libya ",
          " Other (not listed) ",
          " Petrocity ",
          " Riva ",
          " Rubis ",
          " Shell ",
          " Tosha ",
          " Total "
         ],
         "xaxis": "x",
         "y": [
          2,
          9,
          2,
          3,
          2,
          1,
          2,
          4,
          9,
          7,
          9,
          2,
          72,
          75,
          3,
          109
         ],
         "yaxis": "y"
        },
        {
         "alignmentgroup": "True",
         "hovertemplate": "Fuel Type= Diesel <br>Station=%{x}<br>Count=%{y}<extra></extra>",
         "legendgroup": " Diesel ",
         "marker": {
          "color": "#EF553B",
          "line": {
           "color": "rgb(9,50,100)",
           "width": 1.5
          },
          "pattern": {
           "shape": ""
          }
         },
         "name": " Diesel ",
         "offsetgroup": " Diesel ",
         "opacity": 0.6,
         "orientation": "v",
         "showlegend": true,
         "textposition": "auto",
         "type": "bar",
         "x": [
          " Hass ",
          " Lexo ",
          " National Oil ",
          " Petrocity ",
          " Rubis ",
          " Shell ",
          " Tosha ",
          " Total "
         ],
         "xaxis": "x",
         "y": [
          4,
          1,
          2,
          1,
          4,
          7,
          1,
          5
         ],
         "yaxis": "y"
        },
        {
         "alignmentgroup": "True",
         "hovertemplate": "Fuel Type= Super/Petrol <br>Station=%{x}<br>Count=%{y}<extra></extra>",
         "legendgroup": " Super/Petrol ",
         "marker": {
          "color": "#00cc96",
          "line": {
           "color": "rgb(9,50,100)",
           "width": 1.5
          },
          "pattern": {
           "shape": ""
          }
         },
         "name": " Super/Petrol ",
         "offsetgroup": " Super/Petrol ",
         "opacity": 0.6,
         "orientation": "v",
         "showlegend": true,
         "textposition": "auto",
         "type": "bar",
         "x": [
          " Astrol ",
          " Luqman ",
          " National Oil ",
          " Ola/Oil Libya ",
          " Other (not listed) ",
          " Petrocity ",
          " Rubis ",
          " Shell ",
          " Total "
         ],
         "xaxis": "x",
         "y": [
          2,
          4,
          2,
          8,
          1,
          3,
          30,
          55,
          54
         ],
         "yaxis": "y"
        },
        {
         "alignmentgroup": "True",
         "hovertemplate": "Fuel Type= V-power <br>Station=%{x}<br>Count=%{y}<extra></extra>",
         "legendgroup": " V-power ",
         "marker": {
          "color": "#ab63fa",
          "line": {
           "color": "rgb(9,50,100)",
           "width": 1.5
          },
          "pattern": {
           "shape": ""
          }
         },
         "name": " V-power ",
         "offsetgroup": " V-power ",
         "opacity": 0.6,
         "orientation": "v",
         "showlegend": true,
         "textposition": "auto",
         "type": "bar",
         "x": [
          " Shell "
         ],
         "xaxis": "x",
         "y": [
          10
         ],
         "yaxis": "y"
        }
       ],
       "layout": {
        "barmode": "group",
        "height": 500,
        "legend": {
         "title": {
          "text": "Fuel Type"
         },
         "tracegroupgap": 0
        },
        "template": {
         "data": {
          "bar": [
           {
            "error_x": {
             "color": "#2a3f5f"
            },
            "error_y": {
             "color": "#2a3f5f"
            },
            "marker": {
             "line": {
              "color": "#E5ECF6",
              "width": 0.5
             },
             "pattern": {
              "fillmode": "overlay",
              "size": 10,
              "solidity": 0.2
             }
            },
            "type": "bar"
           }
          ],
          "barpolar": [
           {
            "marker": {
             "line": {
              "color": "#E5ECF6",
              "width": 0.5
             },
             "pattern": {
              "fillmode": "overlay",
              "size": 10,
              "solidity": 0.2
             }
            },
            "type": "barpolar"
           }
          ],
          "carpet": [
           {
            "aaxis": {
             "endlinecolor": "#2a3f5f",
             "gridcolor": "white",
             "linecolor": "white",
             "minorgridcolor": "white",
             "startlinecolor": "#2a3f5f"
            },
            "baxis": {
             "endlinecolor": "#2a3f5f",
             "gridcolor": "white",
             "linecolor": "white",
             "minorgridcolor": "white",
             "startlinecolor": "#2a3f5f"
            },
            "type": "carpet"
           }
          ],
          "choropleth": [
           {
            "colorbar": {
             "outlinewidth": 0,
             "ticks": ""
            },
            "type": "choropleth"
           }
          ],
          "contour": [
           {
            "colorbar": {
             "outlinewidth": 0,
             "ticks": ""
            },
            "colorscale": [
             [
              0.0,
              "#0d0887"
             ],
             [
              0.1111111111111111,
              "#46039f"
             ],
             [
              0.2222222222222222,
              "#7201a8"
             ],
             [
              0.3333333333333333,
              "#9c179e"
             ],
             [
              0.4444444444444444,
              "#bd3786"
             ],
             [
              0.5555555555555556,
              "#d8576b"
             ],
             [
              0.6666666666666666,
              "#ed7953"
             ],
             [
              0.7777777777777778,
              "#fb9f3a"
             ],
             [
              0.8888888888888888,
              "#fdca26"
             ],
             [
              1.0,
              "#f0f921"
             ]
            ],
            "type": "contour"
           }
          ],
          "contourcarpet": [
           {
            "colorbar": {
             "outlinewidth": 0,
             "ticks": ""
            },
            "type": "contourcarpet"
           }
          ],
          "heatmap": [
           {
            "colorbar": {
             "outlinewidth": 0,
             "ticks": ""
            },
            "colorscale": [
             [
              0.0,
              "#0d0887"
             ],
             [
              0.1111111111111111,
              "#46039f"
             ],
             [
              0.2222222222222222,
              "#7201a8"
             ],
             [
              0.3333333333333333,
              "#9c179e"
             ],
             [
              0.4444444444444444,
              "#bd3786"
             ],
             [
              0.5555555555555556,
              "#d8576b"
             ],
             [
              0.6666666666666666,
              "#ed7953"
             ],
             [
              0.7777777777777778,
              "#fb9f3a"
             ],
             [
              0.8888888888888888,
              "#fdca26"
             ],
             [
              1.0,
              "#f0f921"
             ]
            ],
            "type": "heatmap"
           }
          ],
          "heatmapgl": [
           {
            "colorbar": {
             "outlinewidth": 0,
             "ticks": ""
            },
            "colorscale": [
             [
              0.0,
              "#0d0887"
             ],
             [
              0.1111111111111111,
              "#46039f"
             ],
             [
              0.2222222222222222,
              "#7201a8"
             ],
             [
              0.3333333333333333,
              "#9c179e"
             ],
             [
              0.4444444444444444,
              "#bd3786"
             ],
             [
              0.5555555555555556,
              "#d8576b"
             ],
             [
              0.6666666666666666,
              "#ed7953"
             ],
             [
              0.7777777777777778,
              "#fb9f3a"
             ],
             [
              0.8888888888888888,
              "#fdca26"
             ],
             [
              1.0,
              "#f0f921"
             ]
            ],
            "type": "heatmapgl"
           }
          ],
          "histogram": [
           {
            "marker": {
             "pattern": {
              "fillmode": "overlay",
              "size": 10,
              "solidity": 0.2
             }
            },
            "type": "histogram"
           }
          ],
          "histogram2d": [
           {
            "colorbar": {
             "outlinewidth": 0,
             "ticks": ""
            },
            "colorscale": [
             [
              0.0,
              "#0d0887"
             ],
             [
              0.1111111111111111,
              "#46039f"
             ],
             [
              0.2222222222222222,
              "#7201a8"
             ],
             [
              0.3333333333333333,
              "#9c179e"
             ],
             [
              0.4444444444444444,
              "#bd3786"
             ],
             [
              0.5555555555555556,
              "#d8576b"
             ],
             [
              0.6666666666666666,
              "#ed7953"
             ],
             [
              0.7777777777777778,
              "#fb9f3a"
             ],
             [
              0.8888888888888888,
              "#fdca26"
             ],
             [
              1.0,
              "#f0f921"
             ]
            ],
            "type": "histogram2d"
           }
          ],
          "histogram2dcontour": [
           {
            "colorbar": {
             "outlinewidth": 0,
             "ticks": ""
            },
            "colorscale": [
             [
              0.0,
              "#0d0887"
             ],
             [
              0.1111111111111111,
              "#46039f"
             ],
             [
              0.2222222222222222,
              "#7201a8"
             ],
             [
              0.3333333333333333,
              "#9c179e"
             ],
             [
              0.4444444444444444,
              "#bd3786"
             ],
             [
              0.5555555555555556,
              "#d8576b"
             ],
             [
              0.6666666666666666,
              "#ed7953"
             ],
             [
              0.7777777777777778,
              "#fb9f3a"
             ],
             [
              0.8888888888888888,
              "#fdca26"
             ],
             [
              1.0,
              "#f0f921"
             ]
            ],
            "type": "histogram2dcontour"
           }
          ],
          "mesh3d": [
           {
            "colorbar": {
             "outlinewidth": 0,
             "ticks": ""
            },
            "type": "mesh3d"
           }
          ],
          "parcoords": [
           {
            "line": {
             "colorbar": {
              "outlinewidth": 0,
              "ticks": ""
             }
            },
            "type": "parcoords"
           }
          ],
          "pie": [
           {
            "automargin": true,
            "type": "pie"
           }
          ],
          "scatter": [
           {
            "fillpattern": {
             "fillmode": "overlay",
             "size": 10,
             "solidity": 0.2
            },
            "type": "scatter"
           }
          ],
          "scatter3d": [
           {
            "line": {
             "colorbar": {
              "outlinewidth": 0,
              "ticks": ""
             }
            },
            "marker": {
             "colorbar": {
              "outlinewidth": 0,
              "ticks": ""
             }
            },
            "type": "scatter3d"
           }
          ],
          "scattercarpet": [
           {
            "marker": {
             "colorbar": {
              "outlinewidth": 0,
              "ticks": ""
             }
            },
            "type": "scattercarpet"
           }
          ],
          "scattergeo": [
           {
            "marker": {
             "colorbar": {
              "outlinewidth": 0,
              "ticks": ""
             }
            },
            "type": "scattergeo"
           }
          ],
          "scattergl": [
           {
            "marker": {
             "colorbar": {
              "outlinewidth": 0,
              "ticks": ""
             }
            },
            "type": "scattergl"
           }
          ],
          "scattermapbox": [
           {
            "marker": {
             "colorbar": {
              "outlinewidth": 0,
              "ticks": ""
             }
            },
            "type": "scattermapbox"
           }
          ],
          "scatterpolar": [
           {
            "marker": {
             "colorbar": {
              "outlinewidth": 0,
              "ticks": ""
             }
            },
            "type": "scatterpolar"
           }
          ],
          "scatterpolargl": [
           {
            "marker": {
             "colorbar": {
              "outlinewidth": 0,
              "ticks": ""
             }
            },
            "type": "scatterpolargl"
           }
          ],
          "scatterternary": [
           {
            "marker": {
             "colorbar": {
              "outlinewidth": 0,
              "ticks": ""
             }
            },
            "type": "scatterternary"
           }
          ],
          "surface": [
           {
            "colorbar": {
             "outlinewidth": 0,
             "ticks": ""
            },
            "colorscale": [
             [
              0.0,
              "#0d0887"
             ],
             [
              0.1111111111111111,
              "#46039f"
             ],
             [
              0.2222222222222222,
              "#7201a8"
             ],
             [
              0.3333333333333333,
              "#9c179e"
             ],
             [
              0.4444444444444444,
              "#bd3786"
             ],
             [
              0.5555555555555556,
              "#d8576b"
             ],
             [
              0.6666666666666666,
              "#ed7953"
             ],
             [
              0.7777777777777778,
              "#fb9f3a"
             ],
             [
              0.8888888888888888,
              "#fdca26"
             ],
             [
              1.0,
              "#f0f921"
             ]
            ],
            "type": "surface"
           }
          ],
          "table": [
           {
            "cells": {
             "fill": {
              "color": "#EBF0F8"
             },
             "line": {
              "color": "white"
             }
            },
            "header": {
             "fill": {
              "color": "#C8D4E3"
             },
             "line": {
              "color": "white"
             }
            },
            "type": "table"
           }
          ]
         },
         "layout": {
          "annotationdefaults": {
           "arrowcolor": "#2a3f5f",
           "arrowhead": 0,
           "arrowwidth": 1
          },
          "autotypenumbers": "strict",
          "coloraxis": {
           "colorbar": {
            "outlinewidth": 0,
            "ticks": ""
           }
          },
          "colorscale": {
           "diverging": [
            [
             0,
             "#8e0152"
            ],
            [
             0.1,
             "#c51b7d"
            ],
            [
             0.2,
             "#de77ae"
            ],
            [
             0.3,
             "#f1b6da"
            ],
            [
             0.4,
             "#fde0ef"
            ],
            [
             0.5,
             "#f7f7f7"
            ],
            [
             0.6,
             "#e6f5d0"
            ],
            [
             0.7,
             "#b8e186"
            ],
            [
             0.8,
             "#7fbc41"
            ],
            [
             0.9,
             "#4d9221"
            ],
            [
             1,
             "#276419"
            ]
           ],
           "sequential": [
            [
             0.0,
             "#0d0887"
            ],
            [
             0.1111111111111111,
             "#46039f"
            ],
            [
             0.2222222222222222,
             "#7201a8"
            ],
            [
             0.3333333333333333,
             "#9c179e"
            ],
            [
             0.4444444444444444,
             "#bd3786"
            ],
            [
             0.5555555555555556,
             "#d8576b"
            ],
            [
             0.6666666666666666,
             "#ed7953"
            ],
            [
             0.7777777777777778,
             "#fb9f3a"
            ],
            [
             0.8888888888888888,
             "#fdca26"
            ],
            [
             1.0,
             "#f0f921"
            ]
           ],
           "sequentialminus": [
            [
             0.0,
             "#0d0887"
            ],
            [
             0.1111111111111111,
             "#46039f"
            ],
            [
             0.2222222222222222,
             "#7201a8"
            ],
            [
             0.3333333333333333,
             "#9c179e"
            ],
            [
             0.4444444444444444,
             "#bd3786"
            ],
            [
             0.5555555555555556,
             "#d8576b"
            ],
            [
             0.6666666666666666,
             "#ed7953"
            ],
            [
             0.7777777777777778,
             "#fb9f3a"
            ],
            [
             0.8888888888888888,
             "#fdca26"
            ],
            [
             1.0,
             "#f0f921"
            ]
           ]
          },
          "colorway": [
           "#636efa",
           "#EF553B",
           "#00cc96",
           "#ab63fa",
           "#FFA15A",
           "#19d3f3",
           "#FF6692",
           "#B6E880",
           "#FF97FF",
           "#FECB52"
          ],
          "font": {
           "color": "#2a3f5f"
          },
          "geo": {
           "bgcolor": "white",
           "lakecolor": "white",
           "landcolor": "#E5ECF6",
           "showlakes": true,
           "showland": true,
           "subunitcolor": "white"
          },
          "hoverlabel": {
           "align": "left"
          },
          "hovermode": "closest",
          "mapbox": {
           "style": "light"
          },
          "paper_bgcolor": "white",
          "plot_bgcolor": "#E5ECF6",
          "polar": {
           "angularaxis": {
            "gridcolor": "white",
            "linecolor": "white",
            "ticks": ""
           },
           "bgcolor": "#E5ECF6",
           "radialaxis": {
            "gridcolor": "white",
            "linecolor": "white",
            "ticks": ""
           }
          },
          "scene": {
           "xaxis": {
            "backgroundcolor": "#E5ECF6",
            "gridcolor": "white",
            "gridwidth": 2,
            "linecolor": "white",
            "showbackground": true,
            "ticks": "",
            "zerolinecolor": "white"
           },
           "yaxis": {
            "backgroundcolor": "#E5ECF6",
            "gridcolor": "white",
            "gridwidth": 2,
            "linecolor": "white",
            "showbackground": true,
            "ticks": "",
            "zerolinecolor": "white"
           },
           "zaxis": {
            "backgroundcolor": "#E5ECF6",
            "gridcolor": "white",
            "gridwidth": 2,
            "linecolor": "white",
            "showbackground": true,
            "ticks": "",
            "zerolinecolor": "white"
           }
          },
          "shapedefaults": {
           "line": {
            "color": "#2a3f5f"
           }
          },
          "ternary": {
           "aaxis": {
            "gridcolor": "white",
            "linecolor": "white",
            "ticks": ""
           },
           "baxis": {
            "gridcolor": "white",
            "linecolor": "white",
            "ticks": ""
           },
           "bgcolor": "#E5ECF6",
           "caxis": {
            "gridcolor": "white",
            "linecolor": "white",
            "ticks": ""
           }
          },
          "title": {
           "x": 0.05
          },
          "xaxis": {
           "automargin": true,
           "gridcolor": "white",
           "linecolor": "white",
           "ticks": "",
           "title": {
            "standoff": 15
           },
           "zerolinecolor": "white",
           "zerolinewidth": 2
          },
          "yaxis": {
           "automargin": true,
           "gridcolor": "white",
           "linecolor": "white",
           "ticks": "",
           "title": {
            "standoff": 15
           },
           "zerolinecolor": "white",
           "zerolinewidth": 2
          }
         }
        },
        "title": {
         "text": "Petrol Station Distribution in relation to Fuel Type"
        },
        "width": 900,
        "xaxis": {
         "anchor": "y",
         "domain": [
          0.0,
          1.0
         ],
         "title": {
          "text": "Station"
         }
        },
        "yaxis": {
         "anchor": "x",
         "domain": [
          0.0,
          1.0
         ],
         "title": {
          "text": "Count"
         }
        }
       }
      },
      "text/html": [
       "<div>                            <div id=\"7c4e828a-8902-4779-914c-c3ed059e8509\" class=\"plotly-graph-div\" style=\"height:500px; width:900px;\"></div>            <script type=\"text/javascript\">                require([\"plotly\"], function(Plotly) {                    window.PLOTLYENV=window.PLOTLYENV || {};                                    if (document.getElementById(\"7c4e828a-8902-4779-914c-c3ed059e8509\")) {                    Plotly.newPlot(                        \"7c4e828a-8902-4779-914c-c3ed059e8509\",                        [{\"alignmentgroup\":\"True\",\"hovertemplate\":\"Fuel Type= Both Super & Diesel <br>Station=%{x}<br>Count=%{y}<extra></extra>\",\"legendgroup\":\" Both Super & Diesel \",\"marker\":{\"color\":\"#636efa\",\"pattern\":{\"shape\":\"\"},\"line\":{\"color\":\"rgb(9,50,100)\",\"width\":1.5}},\"name\":\" Both Super & Diesel \",\"offsetgroup\":\" Both Super & Diesel \",\"orientation\":\"v\",\"showlegend\":true,\"textposition\":\"auto\",\"x\":[\" Astrol \",\" Delta \",\" Gulf \",\" Hass \",\" Kobil \",\" Lexo \",\" Luqman \",\" National Oil \",\" Ola/Oil Libya \",\" Other (not listed) \",\" Petrocity \",\" Riva \",\" Rubis \",\" Shell \",\" Tosha \",\" Total \"],\"xaxis\":\"x\",\"y\":[2,9,2,3,2,1,2,4,9,7,9,2,72,75,3,109],\"yaxis\":\"y\",\"type\":\"bar\",\"opacity\":0.6},{\"alignmentgroup\":\"True\",\"hovertemplate\":\"Fuel Type= Diesel <br>Station=%{x}<br>Count=%{y}<extra></extra>\",\"legendgroup\":\" Diesel \",\"marker\":{\"color\":\"#EF553B\",\"pattern\":{\"shape\":\"\"},\"line\":{\"color\":\"rgb(9,50,100)\",\"width\":1.5}},\"name\":\" Diesel \",\"offsetgroup\":\" Diesel \",\"orientation\":\"v\",\"showlegend\":true,\"textposition\":\"auto\",\"x\":[\" Hass \",\" Lexo \",\" National Oil \",\" Petrocity \",\" Rubis \",\" Shell \",\" Tosha \",\" Total \"],\"xaxis\":\"x\",\"y\":[4,1,2,1,4,7,1,5],\"yaxis\":\"y\",\"type\":\"bar\",\"opacity\":0.6},{\"alignmentgroup\":\"True\",\"hovertemplate\":\"Fuel Type= Super/Petrol <br>Station=%{x}<br>Count=%{y}<extra></extra>\",\"legendgroup\":\" Super/Petrol \",\"marker\":{\"color\":\"#00cc96\",\"pattern\":{\"shape\":\"\"},\"line\":{\"color\":\"rgb(9,50,100)\",\"width\":1.5}},\"name\":\" Super/Petrol \",\"offsetgroup\":\" Super/Petrol \",\"orientation\":\"v\",\"showlegend\":true,\"textposition\":\"auto\",\"x\":[\" Astrol \",\" Luqman \",\" National Oil \",\" Ola/Oil Libya \",\" Other (not listed) \",\" Petrocity \",\" Rubis \",\" Shell \",\" Total \"],\"xaxis\":\"x\",\"y\":[2,4,2,8,1,3,30,55,54],\"yaxis\":\"y\",\"type\":\"bar\",\"opacity\":0.6},{\"alignmentgroup\":\"True\",\"hovertemplate\":\"Fuel Type= V-power <br>Station=%{x}<br>Count=%{y}<extra></extra>\",\"legendgroup\":\" V-power \",\"marker\":{\"color\":\"#ab63fa\",\"pattern\":{\"shape\":\"\"},\"line\":{\"color\":\"rgb(9,50,100)\",\"width\":1.5}},\"name\":\" V-power \",\"offsetgroup\":\" V-power \",\"orientation\":\"v\",\"showlegend\":true,\"textposition\":\"auto\",\"x\":[\" Shell \"],\"xaxis\":\"x\",\"y\":[10],\"yaxis\":\"y\",\"type\":\"bar\",\"opacity\":0.6}],                        {\"template\":{\"data\":{\"histogram2dcontour\":[{\"type\":\"histogram2dcontour\",\"colorbar\":{\"outlinewidth\":0,\"ticks\":\"\"},\"colorscale\":[[0.0,\"#0d0887\"],[0.1111111111111111,\"#46039f\"],[0.2222222222222222,\"#7201a8\"],[0.3333333333333333,\"#9c179e\"],[0.4444444444444444,\"#bd3786\"],[0.5555555555555556,\"#d8576b\"],[0.6666666666666666,\"#ed7953\"],[0.7777777777777778,\"#fb9f3a\"],[0.8888888888888888,\"#fdca26\"],[1.0,\"#f0f921\"]]}],\"choropleth\":[{\"type\":\"choropleth\",\"colorbar\":{\"outlinewidth\":0,\"ticks\":\"\"}}],\"histogram2d\":[{\"type\":\"histogram2d\",\"colorbar\":{\"outlinewidth\":0,\"ticks\":\"\"},\"colorscale\":[[0.0,\"#0d0887\"],[0.1111111111111111,\"#46039f\"],[0.2222222222222222,\"#7201a8\"],[0.3333333333333333,\"#9c179e\"],[0.4444444444444444,\"#bd3786\"],[0.5555555555555556,\"#d8576b\"],[0.6666666666666666,\"#ed7953\"],[0.7777777777777778,\"#fb9f3a\"],[0.8888888888888888,\"#fdca26\"],[1.0,\"#f0f921\"]]}],\"heatmap\":[{\"type\":\"heatmap\",\"colorbar\":{\"outlinewidth\":0,\"ticks\":\"\"},\"colorscale\":[[0.0,\"#0d0887\"],[0.1111111111111111,\"#46039f\"],[0.2222222222222222,\"#7201a8\"],[0.3333333333333333,\"#9c179e\"],[0.4444444444444444,\"#bd3786\"],[0.5555555555555556,\"#d8576b\"],[0.6666666666666666,\"#ed7953\"],[0.7777777777777778,\"#fb9f3a\"],[0.8888888888888888,\"#fdca26\"],[1.0,\"#f0f921\"]]}],\"heatmapgl\":[{\"type\":\"heatmapgl\",\"colorbar\":{\"outlinewidth\":0,\"ticks\":\"\"},\"colorscale\":[[0.0,\"#0d0887\"],[0.1111111111111111,\"#46039f\"],[0.2222222222222222,\"#7201a8\"],[0.3333333333333333,\"#9c179e\"],[0.4444444444444444,\"#bd3786\"],[0.5555555555555556,\"#d8576b\"],[0.6666666666666666,\"#ed7953\"],[0.7777777777777778,\"#fb9f3a\"],[0.8888888888888888,\"#fdca26\"],[1.0,\"#f0f921\"]]}],\"contourcarpet\":[{\"type\":\"contourcarpet\",\"colorbar\":{\"outlinewidth\":0,\"ticks\":\"\"}}],\"contour\":[{\"type\":\"contour\",\"colorbar\":{\"outlinewidth\":0,\"ticks\":\"\"},\"colorscale\":[[0.0,\"#0d0887\"],[0.1111111111111111,\"#46039f\"],[0.2222222222222222,\"#7201a8\"],[0.3333333333333333,\"#9c179e\"],[0.4444444444444444,\"#bd3786\"],[0.5555555555555556,\"#d8576b\"],[0.6666666666666666,\"#ed7953\"],[0.7777777777777778,\"#fb9f3a\"],[0.8888888888888888,\"#fdca26\"],[1.0,\"#f0f921\"]]}],\"surface\":[{\"type\":\"surface\",\"colorbar\":{\"outlinewidth\":0,\"ticks\":\"\"},\"colorscale\":[[0.0,\"#0d0887\"],[0.1111111111111111,\"#46039f\"],[0.2222222222222222,\"#7201a8\"],[0.3333333333333333,\"#9c179e\"],[0.4444444444444444,\"#bd3786\"],[0.5555555555555556,\"#d8576b\"],[0.6666666666666666,\"#ed7953\"],[0.7777777777777778,\"#fb9f3a\"],[0.8888888888888888,\"#fdca26\"],[1.0,\"#f0f921\"]]}],\"mesh3d\":[{\"type\":\"mesh3d\",\"colorbar\":{\"outlinewidth\":0,\"ticks\":\"\"}}],\"scatter\":[{\"fillpattern\":{\"fillmode\":\"overlay\",\"size\":10,\"solidity\":0.2},\"type\":\"scatter\"}],\"parcoords\":[{\"type\":\"parcoords\",\"line\":{\"colorbar\":{\"outlinewidth\":0,\"ticks\":\"\"}}}],\"scatterpolargl\":[{\"type\":\"scatterpolargl\",\"marker\":{\"colorbar\":{\"outlinewidth\":0,\"ticks\":\"\"}}}],\"bar\":[{\"error_x\":{\"color\":\"#2a3f5f\"},\"error_y\":{\"color\":\"#2a3f5f\"},\"marker\":{\"line\":{\"color\":\"#E5ECF6\",\"width\":0.5},\"pattern\":{\"fillmode\":\"overlay\",\"size\":10,\"solidity\":0.2}},\"type\":\"bar\"}],\"scattergeo\":[{\"type\":\"scattergeo\",\"marker\":{\"colorbar\":{\"outlinewidth\":0,\"ticks\":\"\"}}}],\"scatterpolar\":[{\"type\":\"scatterpolar\",\"marker\":{\"colorbar\":{\"outlinewidth\":0,\"ticks\":\"\"}}}],\"histogram\":[{\"marker\":{\"pattern\":{\"fillmode\":\"overlay\",\"size\":10,\"solidity\":0.2}},\"type\":\"histogram\"}],\"scattergl\":[{\"type\":\"scattergl\",\"marker\":{\"colorbar\":{\"outlinewidth\":0,\"ticks\":\"\"}}}],\"scatter3d\":[{\"type\":\"scatter3d\",\"line\":{\"colorbar\":{\"outlinewidth\":0,\"ticks\":\"\"}},\"marker\":{\"colorbar\":{\"outlinewidth\":0,\"ticks\":\"\"}}}],\"scattermapbox\":[{\"type\":\"scattermapbox\",\"marker\":{\"colorbar\":{\"outlinewidth\":0,\"ticks\":\"\"}}}],\"scatterternary\":[{\"type\":\"scatterternary\",\"marker\":{\"colorbar\":{\"outlinewidth\":0,\"ticks\":\"\"}}}],\"scattercarpet\":[{\"type\":\"scattercarpet\",\"marker\":{\"colorbar\":{\"outlinewidth\":0,\"ticks\":\"\"}}}],\"carpet\":[{\"aaxis\":{\"endlinecolor\":\"#2a3f5f\",\"gridcolor\":\"white\",\"linecolor\":\"white\",\"minorgridcolor\":\"white\",\"startlinecolor\":\"#2a3f5f\"},\"baxis\":{\"endlinecolor\":\"#2a3f5f\",\"gridcolor\":\"white\",\"linecolor\":\"white\",\"minorgridcolor\":\"white\",\"startlinecolor\":\"#2a3f5f\"},\"type\":\"carpet\"}],\"table\":[{\"cells\":{\"fill\":{\"color\":\"#EBF0F8\"},\"line\":{\"color\":\"white\"}},\"header\":{\"fill\":{\"color\":\"#C8D4E3\"},\"line\":{\"color\":\"white\"}},\"type\":\"table\"}],\"barpolar\":[{\"marker\":{\"line\":{\"color\":\"#E5ECF6\",\"width\":0.5},\"pattern\":{\"fillmode\":\"overlay\",\"size\":10,\"solidity\":0.2}},\"type\":\"barpolar\"}],\"pie\":[{\"automargin\":true,\"type\":\"pie\"}]},\"layout\":{\"autotypenumbers\":\"strict\",\"colorway\":[\"#636efa\",\"#EF553B\",\"#00cc96\",\"#ab63fa\",\"#FFA15A\",\"#19d3f3\",\"#FF6692\",\"#B6E880\",\"#FF97FF\",\"#FECB52\"],\"font\":{\"color\":\"#2a3f5f\"},\"hovermode\":\"closest\",\"hoverlabel\":{\"align\":\"left\"},\"paper_bgcolor\":\"white\",\"plot_bgcolor\":\"#E5ECF6\",\"polar\":{\"bgcolor\":\"#E5ECF6\",\"angularaxis\":{\"gridcolor\":\"white\",\"linecolor\":\"white\",\"ticks\":\"\"},\"radialaxis\":{\"gridcolor\":\"white\",\"linecolor\":\"white\",\"ticks\":\"\"}},\"ternary\":{\"bgcolor\":\"#E5ECF6\",\"aaxis\":{\"gridcolor\":\"white\",\"linecolor\":\"white\",\"ticks\":\"\"},\"baxis\":{\"gridcolor\":\"white\",\"linecolor\":\"white\",\"ticks\":\"\"},\"caxis\":{\"gridcolor\":\"white\",\"linecolor\":\"white\",\"ticks\":\"\"}},\"coloraxis\":{\"colorbar\":{\"outlinewidth\":0,\"ticks\":\"\"}},\"colorscale\":{\"sequential\":[[0.0,\"#0d0887\"],[0.1111111111111111,\"#46039f\"],[0.2222222222222222,\"#7201a8\"],[0.3333333333333333,\"#9c179e\"],[0.4444444444444444,\"#bd3786\"],[0.5555555555555556,\"#d8576b\"],[0.6666666666666666,\"#ed7953\"],[0.7777777777777778,\"#fb9f3a\"],[0.8888888888888888,\"#fdca26\"],[1.0,\"#f0f921\"]],\"sequentialminus\":[[0.0,\"#0d0887\"],[0.1111111111111111,\"#46039f\"],[0.2222222222222222,\"#7201a8\"],[0.3333333333333333,\"#9c179e\"],[0.4444444444444444,\"#bd3786\"],[0.5555555555555556,\"#d8576b\"],[0.6666666666666666,\"#ed7953\"],[0.7777777777777778,\"#fb9f3a\"],[0.8888888888888888,\"#fdca26\"],[1.0,\"#f0f921\"]],\"diverging\":[[0,\"#8e0152\"],[0.1,\"#c51b7d\"],[0.2,\"#de77ae\"],[0.3,\"#f1b6da\"],[0.4,\"#fde0ef\"],[0.5,\"#f7f7f7\"],[0.6,\"#e6f5d0\"],[0.7,\"#b8e186\"],[0.8,\"#7fbc41\"],[0.9,\"#4d9221\"],[1,\"#276419\"]]},\"xaxis\":{\"gridcolor\":\"white\",\"linecolor\":\"white\",\"ticks\":\"\",\"title\":{\"standoff\":15},\"zerolinecolor\":\"white\",\"automargin\":true,\"zerolinewidth\":2},\"yaxis\":{\"gridcolor\":\"white\",\"linecolor\":\"white\",\"ticks\":\"\",\"title\":{\"standoff\":15},\"zerolinecolor\":\"white\",\"automargin\":true,\"zerolinewidth\":2},\"scene\":{\"xaxis\":{\"backgroundcolor\":\"#E5ECF6\",\"gridcolor\":\"white\",\"linecolor\":\"white\",\"showbackground\":true,\"ticks\":\"\",\"zerolinecolor\":\"white\",\"gridwidth\":2},\"yaxis\":{\"backgroundcolor\":\"#E5ECF6\",\"gridcolor\":\"white\",\"linecolor\":\"white\",\"showbackground\":true,\"ticks\":\"\",\"zerolinecolor\":\"white\",\"gridwidth\":2},\"zaxis\":{\"backgroundcolor\":\"#E5ECF6\",\"gridcolor\":\"white\",\"linecolor\":\"white\",\"showbackground\":true,\"ticks\":\"\",\"zerolinecolor\":\"white\",\"gridwidth\":2}},\"shapedefaults\":{\"line\":{\"color\":\"#2a3f5f\"}},\"annotationdefaults\":{\"arrowcolor\":\"#2a3f5f\",\"arrowhead\":0,\"arrowwidth\":1},\"geo\":{\"bgcolor\":\"white\",\"landcolor\":\"#E5ECF6\",\"subunitcolor\":\"white\",\"showland\":true,\"showlakes\":true,\"lakecolor\":\"white\"},\"title\":{\"x\":0.05},\"mapbox\":{\"style\":\"light\"}}},\"xaxis\":{\"anchor\":\"y\",\"domain\":[0.0,1.0],\"title\":{\"text\":\"Station\"}},\"yaxis\":{\"anchor\":\"x\",\"domain\":[0.0,1.0],\"title\":{\"text\":\"Count\"}},\"legend\":{\"title\":{\"text\":\"Fuel Type\"},\"tracegroupgap\":0},\"title\":{\"text\":\"Petrol Station Distribution in relation to Fuel Type\"},\"barmode\":\"group\",\"height\":500,\"width\":900},                        {\"responsive\": true}                    ).then(function(){\n",
       "                            \n",
       "var gd = document.getElementById('7c4e828a-8902-4779-914c-c3ed059e8509');\n",
       "var x = new MutationObserver(function (mutations, observer) {{\n",
       "        var display = window.getComputedStyle(gd).display;\n",
       "        if (!display || display === 'none') {{\n",
       "            console.log([gd, 'removed!']);\n",
       "            Plotly.purge(gd);\n",
       "            observer.disconnect();\n",
       "        }}\n",
       "}});\n",
       "\n",
       "// Listen for the removal of the full notebook cells\n",
       "var notebookContainer = gd.closest('#notebook-container');\n",
       "if (notebookContainer) {{\n",
       "    x.observe(notebookContainer, {childList: true});\n",
       "}}\n",
       "\n",
       "// Listen for the clearing of the current output cell\n",
       "var outputEl = gd.closest('.output');\n",
       "if (outputEl) {{\n",
       "    x.observe(outputEl, {childList: true});\n",
       "}}\n",
       "\n",
       "                        })                };                });            </script>        </div>"
      ]
     },
     "metadata": {},
     "output_type": "display_data"
    }
   ],
   "source": [
    "#Petrol  Station Vs Fuel Type \n",
    "fuel_station=petrol_data.loc[:,[\"Fuel Type\",\"Station \"]].groupby([\"Fuel Type\",\"Station \"]).size().reset_index()\n",
    "fuel_station.columns=[\"Fuel Type\",\"Station\",\"Count\"]\n",
    "fig=px.bar(fuel_station,x='Station',y='Count',color=\"Fuel Type\",\n",
    "          barmode='group',title=\"Petrol Station Distribution in relation to Fuel Type\",\n",
    "          height=500,width=900)\n",
    "fig.update_traces(marker_line_color='rgb(9,50,100)',marker_line_width=1.5,opacity=0.6)\n",
    "fig.show()"
   ]
  },
  {
   "cell_type": "markdown",
   "id": "a2eb25f2",
   "metadata": {
    "papermill": {
     "duration": 0.039855,
     "end_time": "2022-05-03T19:51:37.787425",
     "exception": false,
     "start_time": "2022-05-03T19:51:37.747570",
     "status": "completed"
    },
    "tags": []
   },
   "source": [
    "Petrol stations,Total,Shell and Rubis had higher chances to find Both Super & Diesel,Super/Petrol and Diesel only fuel types compared to other petrol stations.\n",
    "\n",
    "Here we find out that a majority of Total petrol stations had both Super and Diesel fuel type with some reported only to have Super/Petrol and Diesel fuel types.Meaning the was a higher likely wood to find both Super&Diesel fuel type at a majority of Total petrol station followed by shell and Rubis petrol stations respectively.\n",
    "\n",
    "Shell petrol station due to the ongoing fuel shortage they had motorists buying their V-power in areas where there was no alternative.\n",
    "\n",
    "Petrol stations Delta,Ola/Oil Libya and Petrocity had equal distribution of both Super & Diesel fuel type."
   ]
  },
  {
   "cell_type": "markdown",
   "id": "b6eed165",
   "metadata": {
    "papermill": {
     "duration": 0.039714,
     "end_time": "2022-05-03T19:51:37.867143",
     "exception": false,
     "start_time": "2022-05-03T19:51:37.827429",
     "status": "completed"
    },
    "tags": []
   },
   "source": [
    "### Petrol Station Distribution in relation to the Counties"
   ]
  },
  {
   "cell_type": "code",
   "execution_count": 15,
   "id": "a9f63020",
   "metadata": {
    "execution": {
     "iopub.execute_input": "2022-05-03T19:51:37.948444Z",
     "iopub.status.busy": "2022-05-03T19:51:37.948159Z",
     "iopub.status.idle": "2022-05-03T19:51:38.225063Z",
     "shell.execute_reply": "2022-05-03T19:51:38.224130Z"
    },
    "papermill": {
     "duration": 0.322216,
     "end_time": "2022-05-03T19:51:38.229186",
     "exception": false,
     "start_time": "2022-05-03T19:51:37.906970",
     "status": "completed"
    },
    "tags": []
   },
   "outputs": [
    {
     "data": {
      "application/vnd.plotly.v1+json": {
       "config": {
        "plotlyServerURL": "https://plot.ly"
       },
       "data": [
        {
         "alignmentgroup": "True",
         "hovertemplate": "Station = Astrol <br>County=%{x}<br>Count=%{y}<extra></extra>",
         "legendgroup": " Astrol ",
         "marker": {
          "color": "#636efa",
          "line": {
           "color": "rgb(9,50,100)",
           "width": 1.5
          },
          "pattern": {
           "shape": ""
          }
         },
         "name": " Astrol ",
         "offsetgroup": " Astrol ",
         "opacity": 0.8,
         "orientation": "v",
         "showlegend": true,
         "textposition": "auto",
         "type": "bar",
         "x": [
          " Nairobi "
         ],
         "xaxis": "x",
         "y": [
          4
         ],
         "yaxis": "y"
        },
        {
         "alignmentgroup": "True",
         "hovertemplate": "Station = Delta <br>County=%{x}<br>Count=%{y}<extra></extra>",
         "legendgroup": " Delta ",
         "marker": {
          "color": "#EF553B",
          "line": {
           "color": "rgb(9,50,100)",
           "width": 1.5
          },
          "pattern": {
           "shape": ""
          }
         },
         "name": " Delta ",
         "offsetgroup": " Delta ",
         "opacity": 0.8,
         "orientation": "v",
         "showlegend": true,
         "textposition": "auto",
         "type": "bar",
         "x": [
          " Kajiado ",
          " Kiambu",
          " Machakos ",
          " Nairobi "
         ],
         "xaxis": "x",
         "y": [
          2,
          3,
          1,
          3
         ],
         "yaxis": "y"
        },
        {
         "alignmentgroup": "True",
         "hovertemplate": "Station = Gulf <br>County=%{x}<br>Count=%{y}<extra></extra>",
         "legendgroup": " Gulf ",
         "marker": {
          "color": "#00cc96",
          "line": {
           "color": "rgb(9,50,100)",
           "width": 1.5
          },
          "pattern": {
           "shape": ""
          }
         },
         "name": " Gulf ",
         "offsetgroup": " Gulf ",
         "opacity": 0.8,
         "orientation": "v",
         "showlegend": true,
         "textposition": "auto",
         "type": "bar",
         "x": [
          " Kiambu",
          " Nakuru "
         ],
         "xaxis": "x",
         "y": [
          1,
          1
         ],
         "yaxis": "y"
        },
        {
         "alignmentgroup": "True",
         "hovertemplate": "Station = Hass <br>County=%{x}<br>Count=%{y}<extra></extra>",
         "legendgroup": " Hass ",
         "marker": {
          "color": "#ab63fa",
          "line": {
           "color": "rgb(9,50,100)",
           "width": 1.5
          },
          "pattern": {
           "shape": ""
          }
         },
         "name": " Hass ",
         "offsetgroup": " Hass ",
         "opacity": 0.8,
         "orientation": "v",
         "showlegend": true,
         "textposition": "auto",
         "type": "bar",
         "x": [
          " Nairobi ",
          " Nyeri "
         ],
         "xaxis": "x",
         "y": [
          6,
          1
         ],
         "yaxis": "y"
        },
        {
         "alignmentgroup": "True",
         "hovertemplate": "Station = Kobil <br>County=%{x}<br>Count=%{y}<extra></extra>",
         "legendgroup": " Kobil ",
         "marker": {
          "color": "#FFA15A",
          "line": {
           "color": "rgb(9,50,100)",
           "width": 1.5
          },
          "pattern": {
           "shape": ""
          }
         },
         "name": " Kobil ",
         "offsetgroup": " Kobil ",
         "opacity": 0.8,
         "orientation": "v",
         "showlegend": true,
         "textposition": "auto",
         "type": "bar",
         "x": [
          " Kiambu"
         ],
         "xaxis": "x",
         "y": [
          2
         ],
         "yaxis": "y"
        },
        {
         "alignmentgroup": "True",
         "hovertemplate": "Station = Lexo <br>County=%{x}<br>Count=%{y}<extra></extra>",
         "legendgroup": " Lexo ",
         "marker": {
          "color": "#19d3f3",
          "line": {
           "color": "rgb(9,50,100)",
           "width": 1.5
          },
          "pattern": {
           "shape": ""
          }
         },
         "name": " Lexo ",
         "offsetgroup": " Lexo ",
         "opacity": 0.8,
         "orientation": "v",
         "showlegend": true,
         "textposition": "auto",
         "type": "bar",
         "x": [
          " Kiambu",
          " Nairobi "
         ],
         "xaxis": "x",
         "y": [
          1,
          1
         ],
         "yaxis": "y"
        },
        {
         "alignmentgroup": "True",
         "hovertemplate": "Station = Luqman <br>County=%{x}<br>Count=%{y}<extra></extra>",
         "legendgroup": " Luqman ",
         "marker": {
          "color": "#FF6692",
          "line": {
           "color": "rgb(9,50,100)",
           "width": 1.5
          },
          "pattern": {
           "shape": ""
          }
         },
         "name": " Luqman ",
         "offsetgroup": " Luqman ",
         "opacity": 0.8,
         "orientation": "v",
         "showlegend": true,
         "textposition": "auto",
         "type": "bar",
         "x": [
          " Machakos ",
          " Nairobi "
         ],
         "xaxis": "x",
         "y": [
          1,
          5
         ],
         "yaxis": "y"
        },
        {
         "alignmentgroup": "True",
         "hovertemplate": "Station = National Oil <br>County=%{x}<br>Count=%{y}<extra></extra>",
         "legendgroup": " National Oil ",
         "marker": {
          "color": "#B6E880",
          "line": {
           "color": "rgb(9,50,100)",
           "width": 1.5
          },
          "pattern": {
           "shape": ""
          }
         },
         "name": " National Oil ",
         "offsetgroup": " National Oil ",
         "opacity": 0.8,
         "orientation": "v",
         "showlegend": true,
         "textposition": "auto",
         "type": "bar",
         "x": [
          " Nairobi ",
          "Kajiado"
         ],
         "xaxis": "x",
         "y": [
          7,
          1
         ],
         "yaxis": "y"
        },
        {
         "alignmentgroup": "True",
         "hovertemplate": "Station = Ola/Oil Libya <br>County=%{x}<br>Count=%{y}<extra></extra>",
         "legendgroup": " Ola/Oil Libya ",
         "marker": {
          "color": "#FF97FF",
          "line": {
           "color": "rgb(9,50,100)",
           "width": 1.5
          },
          "pattern": {
           "shape": ""
          }
         },
         "name": " Ola/Oil Libya ",
         "offsetgroup": " Ola/Oil Libya ",
         "opacity": 0.8,
         "orientation": "v",
         "showlegend": true,
         "textposition": "auto",
         "type": "bar",
         "x": [
          " Kiambu",
          " Mombasa ",
          " Nairobi "
         ],
         "xaxis": "x",
         "y": [
          2,
          1,
          14
         ],
         "yaxis": "y"
        },
        {
         "alignmentgroup": "True",
         "hovertemplate": "Station = Other (not listed) <br>County=%{x}<br>Count=%{y}<extra></extra>",
         "legendgroup": " Other (not listed) ",
         "marker": {
          "color": "#FECB52",
          "line": {
           "color": "rgb(9,50,100)",
           "width": 1.5
          },
          "pattern": {
           "shape": ""
          }
         },
         "name": " Other (not listed) ",
         "offsetgroup": " Other (not listed) ",
         "opacity": 0.8,
         "orientation": "v",
         "showlegend": true,
         "textposition": "auto",
         "type": "bar",
         "x": [
          " Kakamega ",
          " Machakos ",
          " Mombasa ",
          " Nairobi ",
          " Nakuru "
         ],
         "xaxis": "x",
         "y": [
          1,
          1,
          1,
          4,
          1
         ],
         "yaxis": "y"
        },
        {
         "alignmentgroup": "True",
         "hovertemplate": "Station = Petrocity <br>County=%{x}<br>Count=%{y}<extra></extra>",
         "legendgroup": " Petrocity ",
         "marker": {
          "color": "#636efa",
          "line": {
           "color": "rgb(9,50,100)",
           "width": 1.5
          },
          "pattern": {
           "shape": ""
          }
         },
         "name": " Petrocity ",
         "offsetgroup": " Petrocity ",
         "opacity": 0.8,
         "orientation": "v",
         "showlegend": true,
         "textposition": "auto",
         "type": "bar",
         "x": [
          " Kajiado ",
          " Kilifi ",
          " Laikipia ",
          " Machakos ",
          " Mombasa ",
          " Nairobi "
         ],
         "xaxis": "x",
         "y": [
          1,
          1,
          1,
          1,
          2,
          7
         ],
         "yaxis": "y"
        },
        {
         "alignmentgroup": "True",
         "hovertemplate": "Station = Riva <br>County=%{x}<br>Count=%{y}<extra></extra>",
         "legendgroup": " Riva ",
         "marker": {
          "color": "#EF553B",
          "line": {
           "color": "rgb(9,50,100)",
           "width": 1.5
          },
          "pattern": {
           "shape": ""
          }
         },
         "name": " Riva ",
         "offsetgroup": " Riva ",
         "opacity": 0.8,
         "orientation": "v",
         "showlegend": true,
         "textposition": "auto",
         "type": "bar",
         "x": [
          " Nairobi "
         ],
         "xaxis": "x",
         "y": [
          2
         ],
         "yaxis": "y"
        },
        {
         "alignmentgroup": "True",
         "hovertemplate": "Station = Rubis <br>County=%{x}<br>Count=%{y}<extra></extra>",
         "legendgroup": " Rubis ",
         "marker": {
          "color": "#00cc96",
          "line": {
           "color": "rgb(9,50,100)",
           "width": 1.5
          },
          "pattern": {
           "shape": ""
          }
         },
         "name": " Rubis ",
         "offsetgroup": " Rubis ",
         "opacity": 0.8,
         "orientation": "v",
         "showlegend": true,
         "textposition": "auto",
         "type": "bar",
         "x": [
          " Kajiado ",
          " Kiambu",
          " Kilifi ",
          " Machakos ",
          " Mombasa ",
          " Nairobi ",
          " Nakuru "
         ],
         "xaxis": "x",
         "y": [
          1,
          10,
          2,
          3,
          2,
          87,
          1
         ],
         "yaxis": "y"
        },
        {
         "alignmentgroup": "True",
         "hovertemplate": "Station = Shell <br>County=%{x}<br>Count=%{y}<extra></extra>",
         "legendgroup": " Shell ",
         "marker": {
          "color": "#ab63fa",
          "line": {
           "color": "rgb(9,50,100)",
           "width": 1.5
          },
          "pattern": {
           "shape": ""
          }
         },
         "name": " Shell ",
         "offsetgroup": " Shell ",
         "opacity": 0.8,
         "orientation": "v",
         "showlegend": true,
         "textposition": "auto",
         "type": "bar",
         "x": [
          " Kajiado ",
          " Kakamega ",
          " Kiambu",
          " Kilifi ",
          " Laikipia ",
          " Machakos ",
          " Mombasa ",
          " Nairobi ",
          " Nakuru ",
          " Narok ",
          " Nyeri "
         ],
         "xaxis": "x",
         "y": [
          2,
          1,
          19,
          2,
          2,
          3,
          3,
          108,
          4,
          1,
          2
         ],
         "yaxis": "y"
        },
        {
         "alignmentgroup": "True",
         "hovertemplate": "Station = Tosha <br>County=%{x}<br>Count=%{y}<extra></extra>",
         "legendgroup": " Tosha ",
         "marker": {
          "color": "#FFA15A",
          "line": {
           "color": "rgb(9,50,100)",
           "width": 1.5
          },
          "pattern": {
           "shape": ""
          }
         },
         "name": " Tosha ",
         "offsetgroup": " Tosha ",
         "opacity": 0.8,
         "orientation": "v",
         "showlegend": true,
         "textposition": "auto",
         "type": "bar",
         "x": [
          " Bomet ",
          " Nairobi "
         ],
         "xaxis": "x",
         "y": [
          1,
          3
         ],
         "yaxis": "y"
        },
        {
         "alignmentgroup": "True",
         "hovertemplate": "Station = Total <br>County=%{x}<br>Count=%{y}<extra></extra>",
         "legendgroup": " Total ",
         "marker": {
          "color": "#19d3f3",
          "line": {
           "color": "rgb(9,50,100)",
           "width": 1.5
          },
          "pattern": {
           "shape": ""
          }
         },
         "name": " Total ",
         "offsetgroup": " Total ",
         "opacity": 0.8,
         "orientation": "v",
         "showlegend": true,
         "textposition": "auto",
         "type": "bar",
         "x": [
          " Kajiado ",
          " Kakamega ",
          " Kiambu",
          " Machakos ",
          " Mombasa ",
          " Nairobi ",
          " Nakuru ",
          " Narok ",
          "Kilifi"
         ],
         "xaxis": "x",
         "y": [
          3,
          2,
          32,
          6,
          4,
          113,
          4,
          3,
          1
         ],
         "yaxis": "y"
        }
       ],
       "layout": {
        "barmode": "group",
        "height": 500,
        "legend": {
         "title": {
          "text": "Station "
         },
         "tracegroupgap": 0
        },
        "template": {
         "data": {
          "bar": [
           {
            "error_x": {
             "color": "#2a3f5f"
            },
            "error_y": {
             "color": "#2a3f5f"
            },
            "marker": {
             "line": {
              "color": "#E5ECF6",
              "width": 0.5
             },
             "pattern": {
              "fillmode": "overlay",
              "size": 10,
              "solidity": 0.2
             }
            },
            "type": "bar"
           }
          ],
          "barpolar": [
           {
            "marker": {
             "line": {
              "color": "#E5ECF6",
              "width": 0.5
             },
             "pattern": {
              "fillmode": "overlay",
              "size": 10,
              "solidity": 0.2
             }
            },
            "type": "barpolar"
           }
          ],
          "carpet": [
           {
            "aaxis": {
             "endlinecolor": "#2a3f5f",
             "gridcolor": "white",
             "linecolor": "white",
             "minorgridcolor": "white",
             "startlinecolor": "#2a3f5f"
            },
            "baxis": {
             "endlinecolor": "#2a3f5f",
             "gridcolor": "white",
             "linecolor": "white",
             "minorgridcolor": "white",
             "startlinecolor": "#2a3f5f"
            },
            "type": "carpet"
           }
          ],
          "choropleth": [
           {
            "colorbar": {
             "outlinewidth": 0,
             "ticks": ""
            },
            "type": "choropleth"
           }
          ],
          "contour": [
           {
            "colorbar": {
             "outlinewidth": 0,
             "ticks": ""
            },
            "colorscale": [
             [
              0.0,
              "#0d0887"
             ],
             [
              0.1111111111111111,
              "#46039f"
             ],
             [
              0.2222222222222222,
              "#7201a8"
             ],
             [
              0.3333333333333333,
              "#9c179e"
             ],
             [
              0.4444444444444444,
              "#bd3786"
             ],
             [
              0.5555555555555556,
              "#d8576b"
             ],
             [
              0.6666666666666666,
              "#ed7953"
             ],
             [
              0.7777777777777778,
              "#fb9f3a"
             ],
             [
              0.8888888888888888,
              "#fdca26"
             ],
             [
              1.0,
              "#f0f921"
             ]
            ],
            "type": "contour"
           }
          ],
          "contourcarpet": [
           {
            "colorbar": {
             "outlinewidth": 0,
             "ticks": ""
            },
            "type": "contourcarpet"
           }
          ],
          "heatmap": [
           {
            "colorbar": {
             "outlinewidth": 0,
             "ticks": ""
            },
            "colorscale": [
             [
              0.0,
              "#0d0887"
             ],
             [
              0.1111111111111111,
              "#46039f"
             ],
             [
              0.2222222222222222,
              "#7201a8"
             ],
             [
              0.3333333333333333,
              "#9c179e"
             ],
             [
              0.4444444444444444,
              "#bd3786"
             ],
             [
              0.5555555555555556,
              "#d8576b"
             ],
             [
              0.6666666666666666,
              "#ed7953"
             ],
             [
              0.7777777777777778,
              "#fb9f3a"
             ],
             [
              0.8888888888888888,
              "#fdca26"
             ],
             [
              1.0,
              "#f0f921"
             ]
            ],
            "type": "heatmap"
           }
          ],
          "heatmapgl": [
           {
            "colorbar": {
             "outlinewidth": 0,
             "ticks": ""
            },
            "colorscale": [
             [
              0.0,
              "#0d0887"
             ],
             [
              0.1111111111111111,
              "#46039f"
             ],
             [
              0.2222222222222222,
              "#7201a8"
             ],
             [
              0.3333333333333333,
              "#9c179e"
             ],
             [
              0.4444444444444444,
              "#bd3786"
             ],
             [
              0.5555555555555556,
              "#d8576b"
             ],
             [
              0.6666666666666666,
              "#ed7953"
             ],
             [
              0.7777777777777778,
              "#fb9f3a"
             ],
             [
              0.8888888888888888,
              "#fdca26"
             ],
             [
              1.0,
              "#f0f921"
             ]
            ],
            "type": "heatmapgl"
           }
          ],
          "histogram": [
           {
            "marker": {
             "pattern": {
              "fillmode": "overlay",
              "size": 10,
              "solidity": 0.2
             }
            },
            "type": "histogram"
           }
          ],
          "histogram2d": [
           {
            "colorbar": {
             "outlinewidth": 0,
             "ticks": ""
            },
            "colorscale": [
             [
              0.0,
              "#0d0887"
             ],
             [
              0.1111111111111111,
              "#46039f"
             ],
             [
              0.2222222222222222,
              "#7201a8"
             ],
             [
              0.3333333333333333,
              "#9c179e"
             ],
             [
              0.4444444444444444,
              "#bd3786"
             ],
             [
              0.5555555555555556,
              "#d8576b"
             ],
             [
              0.6666666666666666,
              "#ed7953"
             ],
             [
              0.7777777777777778,
              "#fb9f3a"
             ],
             [
              0.8888888888888888,
              "#fdca26"
             ],
             [
              1.0,
              "#f0f921"
             ]
            ],
            "type": "histogram2d"
           }
          ],
          "histogram2dcontour": [
           {
            "colorbar": {
             "outlinewidth": 0,
             "ticks": ""
            },
            "colorscale": [
             [
              0.0,
              "#0d0887"
             ],
             [
              0.1111111111111111,
              "#46039f"
             ],
             [
              0.2222222222222222,
              "#7201a8"
             ],
             [
              0.3333333333333333,
              "#9c179e"
             ],
             [
              0.4444444444444444,
              "#bd3786"
             ],
             [
              0.5555555555555556,
              "#d8576b"
             ],
             [
              0.6666666666666666,
              "#ed7953"
             ],
             [
              0.7777777777777778,
              "#fb9f3a"
             ],
             [
              0.8888888888888888,
              "#fdca26"
             ],
             [
              1.0,
              "#f0f921"
             ]
            ],
            "type": "histogram2dcontour"
           }
          ],
          "mesh3d": [
           {
            "colorbar": {
             "outlinewidth": 0,
             "ticks": ""
            },
            "type": "mesh3d"
           }
          ],
          "parcoords": [
           {
            "line": {
             "colorbar": {
              "outlinewidth": 0,
              "ticks": ""
             }
            },
            "type": "parcoords"
           }
          ],
          "pie": [
           {
            "automargin": true,
            "type": "pie"
           }
          ],
          "scatter": [
           {
            "fillpattern": {
             "fillmode": "overlay",
             "size": 10,
             "solidity": 0.2
            },
            "type": "scatter"
           }
          ],
          "scatter3d": [
           {
            "line": {
             "colorbar": {
              "outlinewidth": 0,
              "ticks": ""
             }
            },
            "marker": {
             "colorbar": {
              "outlinewidth": 0,
              "ticks": ""
             }
            },
            "type": "scatter3d"
           }
          ],
          "scattercarpet": [
           {
            "marker": {
             "colorbar": {
              "outlinewidth": 0,
              "ticks": ""
             }
            },
            "type": "scattercarpet"
           }
          ],
          "scattergeo": [
           {
            "marker": {
             "colorbar": {
              "outlinewidth": 0,
              "ticks": ""
             }
            },
            "type": "scattergeo"
           }
          ],
          "scattergl": [
           {
            "marker": {
             "colorbar": {
              "outlinewidth": 0,
              "ticks": ""
             }
            },
            "type": "scattergl"
           }
          ],
          "scattermapbox": [
           {
            "marker": {
             "colorbar": {
              "outlinewidth": 0,
              "ticks": ""
             }
            },
            "type": "scattermapbox"
           }
          ],
          "scatterpolar": [
           {
            "marker": {
             "colorbar": {
              "outlinewidth": 0,
              "ticks": ""
             }
            },
            "type": "scatterpolar"
           }
          ],
          "scatterpolargl": [
           {
            "marker": {
             "colorbar": {
              "outlinewidth": 0,
              "ticks": ""
             }
            },
            "type": "scatterpolargl"
           }
          ],
          "scatterternary": [
           {
            "marker": {
             "colorbar": {
              "outlinewidth": 0,
              "ticks": ""
             }
            },
            "type": "scatterternary"
           }
          ],
          "surface": [
           {
            "colorbar": {
             "outlinewidth": 0,
             "ticks": ""
            },
            "colorscale": [
             [
              0.0,
              "#0d0887"
             ],
             [
              0.1111111111111111,
              "#46039f"
             ],
             [
              0.2222222222222222,
              "#7201a8"
             ],
             [
              0.3333333333333333,
              "#9c179e"
             ],
             [
              0.4444444444444444,
              "#bd3786"
             ],
             [
              0.5555555555555556,
              "#d8576b"
             ],
             [
              0.6666666666666666,
              "#ed7953"
             ],
             [
              0.7777777777777778,
              "#fb9f3a"
             ],
             [
              0.8888888888888888,
              "#fdca26"
             ],
             [
              1.0,
              "#f0f921"
             ]
            ],
            "type": "surface"
           }
          ],
          "table": [
           {
            "cells": {
             "fill": {
              "color": "#EBF0F8"
             },
             "line": {
              "color": "white"
             }
            },
            "header": {
             "fill": {
              "color": "#C8D4E3"
             },
             "line": {
              "color": "white"
             }
            },
            "type": "table"
           }
          ]
         },
         "layout": {
          "annotationdefaults": {
           "arrowcolor": "#2a3f5f",
           "arrowhead": 0,
           "arrowwidth": 1
          },
          "autotypenumbers": "strict",
          "coloraxis": {
           "colorbar": {
            "outlinewidth": 0,
            "ticks": ""
           }
          },
          "colorscale": {
           "diverging": [
            [
             0,
             "#8e0152"
            ],
            [
             0.1,
             "#c51b7d"
            ],
            [
             0.2,
             "#de77ae"
            ],
            [
             0.3,
             "#f1b6da"
            ],
            [
             0.4,
             "#fde0ef"
            ],
            [
             0.5,
             "#f7f7f7"
            ],
            [
             0.6,
             "#e6f5d0"
            ],
            [
             0.7,
             "#b8e186"
            ],
            [
             0.8,
             "#7fbc41"
            ],
            [
             0.9,
             "#4d9221"
            ],
            [
             1,
             "#276419"
            ]
           ],
           "sequential": [
            [
             0.0,
             "#0d0887"
            ],
            [
             0.1111111111111111,
             "#46039f"
            ],
            [
             0.2222222222222222,
             "#7201a8"
            ],
            [
             0.3333333333333333,
             "#9c179e"
            ],
            [
             0.4444444444444444,
             "#bd3786"
            ],
            [
             0.5555555555555556,
             "#d8576b"
            ],
            [
             0.6666666666666666,
             "#ed7953"
            ],
            [
             0.7777777777777778,
             "#fb9f3a"
            ],
            [
             0.8888888888888888,
             "#fdca26"
            ],
            [
             1.0,
             "#f0f921"
            ]
           ],
           "sequentialminus": [
            [
             0.0,
             "#0d0887"
            ],
            [
             0.1111111111111111,
             "#46039f"
            ],
            [
             0.2222222222222222,
             "#7201a8"
            ],
            [
             0.3333333333333333,
             "#9c179e"
            ],
            [
             0.4444444444444444,
             "#bd3786"
            ],
            [
             0.5555555555555556,
             "#d8576b"
            ],
            [
             0.6666666666666666,
             "#ed7953"
            ],
            [
             0.7777777777777778,
             "#fb9f3a"
            ],
            [
             0.8888888888888888,
             "#fdca26"
            ],
            [
             1.0,
             "#f0f921"
            ]
           ]
          },
          "colorway": [
           "#636efa",
           "#EF553B",
           "#00cc96",
           "#ab63fa",
           "#FFA15A",
           "#19d3f3",
           "#FF6692",
           "#B6E880",
           "#FF97FF",
           "#FECB52"
          ],
          "font": {
           "color": "#2a3f5f"
          },
          "geo": {
           "bgcolor": "white",
           "lakecolor": "white",
           "landcolor": "#E5ECF6",
           "showlakes": true,
           "showland": true,
           "subunitcolor": "white"
          },
          "hoverlabel": {
           "align": "left"
          },
          "hovermode": "closest",
          "mapbox": {
           "style": "light"
          },
          "paper_bgcolor": "white",
          "plot_bgcolor": "#E5ECF6",
          "polar": {
           "angularaxis": {
            "gridcolor": "white",
            "linecolor": "white",
            "ticks": ""
           },
           "bgcolor": "#E5ECF6",
           "radialaxis": {
            "gridcolor": "white",
            "linecolor": "white",
            "ticks": ""
           }
          },
          "scene": {
           "xaxis": {
            "backgroundcolor": "#E5ECF6",
            "gridcolor": "white",
            "gridwidth": 2,
            "linecolor": "white",
            "showbackground": true,
            "ticks": "",
            "zerolinecolor": "white"
           },
           "yaxis": {
            "backgroundcolor": "#E5ECF6",
            "gridcolor": "white",
            "gridwidth": 2,
            "linecolor": "white",
            "showbackground": true,
            "ticks": "",
            "zerolinecolor": "white"
           },
           "zaxis": {
            "backgroundcolor": "#E5ECF6",
            "gridcolor": "white",
            "gridwidth": 2,
            "linecolor": "white",
            "showbackground": true,
            "ticks": "",
            "zerolinecolor": "white"
           }
          },
          "shapedefaults": {
           "line": {
            "color": "#2a3f5f"
           }
          },
          "ternary": {
           "aaxis": {
            "gridcolor": "white",
            "linecolor": "white",
            "ticks": ""
           },
           "baxis": {
            "gridcolor": "white",
            "linecolor": "white",
            "ticks": ""
           },
           "bgcolor": "#E5ECF6",
           "caxis": {
            "gridcolor": "white",
            "linecolor": "white",
            "ticks": ""
           }
          },
          "title": {
           "x": 0.05
          },
          "xaxis": {
           "automargin": true,
           "gridcolor": "white",
           "linecolor": "white",
           "ticks": "",
           "title": {
            "standoff": 15
           },
           "zerolinecolor": "white",
           "zerolinewidth": 2
          },
          "yaxis": {
           "automargin": true,
           "gridcolor": "white",
           "linecolor": "white",
           "ticks": "",
           "title": {
            "standoff": 15
           },
           "zerolinecolor": "white",
           "zerolinewidth": 2
          }
         }
        },
        "title": {
         "text": "Petrol Station Distribution in relation to County"
        },
        "width": 1500,
        "xaxis": {
         "anchor": "y",
         "domain": [
          0.0,
          1.0
         ],
         "title": {
          "text": "County"
         }
        },
        "yaxis": {
         "anchor": "x",
         "domain": [
          0.0,
          1.0
         ],
         "title": {
          "text": "Count"
         }
        }
       }
      },
      "text/html": [
       "<div>                            <div id=\"238e13d8-e7cd-4f35-8f1b-3ee581ae793a\" class=\"plotly-graph-div\" style=\"height:500px; width:1500px;\"></div>            <script type=\"text/javascript\">                require([\"plotly\"], function(Plotly) {                    window.PLOTLYENV=window.PLOTLYENV || {};                                    if (document.getElementById(\"238e13d8-e7cd-4f35-8f1b-3ee581ae793a\")) {                    Plotly.newPlot(                        \"238e13d8-e7cd-4f35-8f1b-3ee581ae793a\",                        [{\"alignmentgroup\":\"True\",\"hovertemplate\":\"Station = Astrol <br>County=%{x}<br>Count=%{y}<extra></extra>\",\"legendgroup\":\" Astrol \",\"marker\":{\"color\":\"#636efa\",\"pattern\":{\"shape\":\"\"},\"line\":{\"color\":\"rgb(9,50,100)\",\"width\":1.5}},\"name\":\" Astrol \",\"offsetgroup\":\" Astrol \",\"orientation\":\"v\",\"showlegend\":true,\"textposition\":\"auto\",\"x\":[\" Nairobi \"],\"xaxis\":\"x\",\"y\":[4],\"yaxis\":\"y\",\"type\":\"bar\",\"opacity\":0.8},{\"alignmentgroup\":\"True\",\"hovertemplate\":\"Station = Delta <br>County=%{x}<br>Count=%{y}<extra></extra>\",\"legendgroup\":\" Delta \",\"marker\":{\"color\":\"#EF553B\",\"pattern\":{\"shape\":\"\"},\"line\":{\"color\":\"rgb(9,50,100)\",\"width\":1.5}},\"name\":\" Delta \",\"offsetgroup\":\" Delta \",\"orientation\":\"v\",\"showlegend\":true,\"textposition\":\"auto\",\"x\":[\" Kajiado \",\" Kiambu\",\" Machakos \",\" Nairobi \"],\"xaxis\":\"x\",\"y\":[2,3,1,3],\"yaxis\":\"y\",\"type\":\"bar\",\"opacity\":0.8},{\"alignmentgroup\":\"True\",\"hovertemplate\":\"Station = Gulf <br>County=%{x}<br>Count=%{y}<extra></extra>\",\"legendgroup\":\" Gulf \",\"marker\":{\"color\":\"#00cc96\",\"pattern\":{\"shape\":\"\"},\"line\":{\"color\":\"rgb(9,50,100)\",\"width\":1.5}},\"name\":\" Gulf \",\"offsetgroup\":\" Gulf \",\"orientation\":\"v\",\"showlegend\":true,\"textposition\":\"auto\",\"x\":[\" Kiambu\",\" Nakuru \"],\"xaxis\":\"x\",\"y\":[1,1],\"yaxis\":\"y\",\"type\":\"bar\",\"opacity\":0.8},{\"alignmentgroup\":\"True\",\"hovertemplate\":\"Station = Hass <br>County=%{x}<br>Count=%{y}<extra></extra>\",\"legendgroup\":\" Hass \",\"marker\":{\"color\":\"#ab63fa\",\"pattern\":{\"shape\":\"\"},\"line\":{\"color\":\"rgb(9,50,100)\",\"width\":1.5}},\"name\":\" Hass \",\"offsetgroup\":\" Hass \",\"orientation\":\"v\",\"showlegend\":true,\"textposition\":\"auto\",\"x\":[\" Nairobi \",\" Nyeri \"],\"xaxis\":\"x\",\"y\":[6,1],\"yaxis\":\"y\",\"type\":\"bar\",\"opacity\":0.8},{\"alignmentgroup\":\"True\",\"hovertemplate\":\"Station = Kobil <br>County=%{x}<br>Count=%{y}<extra></extra>\",\"legendgroup\":\" Kobil \",\"marker\":{\"color\":\"#FFA15A\",\"pattern\":{\"shape\":\"\"},\"line\":{\"color\":\"rgb(9,50,100)\",\"width\":1.5}},\"name\":\" Kobil \",\"offsetgroup\":\" Kobil \",\"orientation\":\"v\",\"showlegend\":true,\"textposition\":\"auto\",\"x\":[\" Kiambu\"],\"xaxis\":\"x\",\"y\":[2],\"yaxis\":\"y\",\"type\":\"bar\",\"opacity\":0.8},{\"alignmentgroup\":\"True\",\"hovertemplate\":\"Station = Lexo <br>County=%{x}<br>Count=%{y}<extra></extra>\",\"legendgroup\":\" Lexo \",\"marker\":{\"color\":\"#19d3f3\",\"pattern\":{\"shape\":\"\"},\"line\":{\"color\":\"rgb(9,50,100)\",\"width\":1.5}},\"name\":\" Lexo \",\"offsetgroup\":\" Lexo \",\"orientation\":\"v\",\"showlegend\":true,\"textposition\":\"auto\",\"x\":[\" Kiambu\",\" Nairobi \"],\"xaxis\":\"x\",\"y\":[1,1],\"yaxis\":\"y\",\"type\":\"bar\",\"opacity\":0.8},{\"alignmentgroup\":\"True\",\"hovertemplate\":\"Station = Luqman <br>County=%{x}<br>Count=%{y}<extra></extra>\",\"legendgroup\":\" Luqman \",\"marker\":{\"color\":\"#FF6692\",\"pattern\":{\"shape\":\"\"},\"line\":{\"color\":\"rgb(9,50,100)\",\"width\":1.5}},\"name\":\" Luqman \",\"offsetgroup\":\" Luqman \",\"orientation\":\"v\",\"showlegend\":true,\"textposition\":\"auto\",\"x\":[\" Machakos \",\" Nairobi \"],\"xaxis\":\"x\",\"y\":[1,5],\"yaxis\":\"y\",\"type\":\"bar\",\"opacity\":0.8},{\"alignmentgroup\":\"True\",\"hovertemplate\":\"Station = National Oil <br>County=%{x}<br>Count=%{y}<extra></extra>\",\"legendgroup\":\" National Oil \",\"marker\":{\"color\":\"#B6E880\",\"pattern\":{\"shape\":\"\"},\"line\":{\"color\":\"rgb(9,50,100)\",\"width\":1.5}},\"name\":\" National Oil \",\"offsetgroup\":\" National Oil \",\"orientation\":\"v\",\"showlegend\":true,\"textposition\":\"auto\",\"x\":[\" Nairobi \",\"Kajiado\"],\"xaxis\":\"x\",\"y\":[7,1],\"yaxis\":\"y\",\"type\":\"bar\",\"opacity\":0.8},{\"alignmentgroup\":\"True\",\"hovertemplate\":\"Station = Ola/Oil Libya <br>County=%{x}<br>Count=%{y}<extra></extra>\",\"legendgroup\":\" Ola/Oil Libya \",\"marker\":{\"color\":\"#FF97FF\",\"pattern\":{\"shape\":\"\"},\"line\":{\"color\":\"rgb(9,50,100)\",\"width\":1.5}},\"name\":\" Ola/Oil Libya \",\"offsetgroup\":\" Ola/Oil Libya \",\"orientation\":\"v\",\"showlegend\":true,\"textposition\":\"auto\",\"x\":[\" Kiambu\",\" Mombasa \",\" Nairobi \"],\"xaxis\":\"x\",\"y\":[2,1,14],\"yaxis\":\"y\",\"type\":\"bar\",\"opacity\":0.8},{\"alignmentgroup\":\"True\",\"hovertemplate\":\"Station = Other (not listed) <br>County=%{x}<br>Count=%{y}<extra></extra>\",\"legendgroup\":\" Other (not listed) \",\"marker\":{\"color\":\"#FECB52\",\"pattern\":{\"shape\":\"\"},\"line\":{\"color\":\"rgb(9,50,100)\",\"width\":1.5}},\"name\":\" Other (not listed) \",\"offsetgroup\":\" Other (not listed) \",\"orientation\":\"v\",\"showlegend\":true,\"textposition\":\"auto\",\"x\":[\" Kakamega \",\" Machakos \",\" Mombasa \",\" Nairobi \",\" Nakuru \"],\"xaxis\":\"x\",\"y\":[1,1,1,4,1],\"yaxis\":\"y\",\"type\":\"bar\",\"opacity\":0.8},{\"alignmentgroup\":\"True\",\"hovertemplate\":\"Station = Petrocity <br>County=%{x}<br>Count=%{y}<extra></extra>\",\"legendgroup\":\" Petrocity \",\"marker\":{\"color\":\"#636efa\",\"pattern\":{\"shape\":\"\"},\"line\":{\"color\":\"rgb(9,50,100)\",\"width\":1.5}},\"name\":\" Petrocity \",\"offsetgroup\":\" Petrocity \",\"orientation\":\"v\",\"showlegend\":true,\"textposition\":\"auto\",\"x\":[\" Kajiado \",\" Kilifi \",\" Laikipia \",\" Machakos \",\" Mombasa \",\" Nairobi \"],\"xaxis\":\"x\",\"y\":[1,1,1,1,2,7],\"yaxis\":\"y\",\"type\":\"bar\",\"opacity\":0.8},{\"alignmentgroup\":\"True\",\"hovertemplate\":\"Station = Riva <br>County=%{x}<br>Count=%{y}<extra></extra>\",\"legendgroup\":\" Riva \",\"marker\":{\"color\":\"#EF553B\",\"pattern\":{\"shape\":\"\"},\"line\":{\"color\":\"rgb(9,50,100)\",\"width\":1.5}},\"name\":\" Riva \",\"offsetgroup\":\" Riva \",\"orientation\":\"v\",\"showlegend\":true,\"textposition\":\"auto\",\"x\":[\" Nairobi \"],\"xaxis\":\"x\",\"y\":[2],\"yaxis\":\"y\",\"type\":\"bar\",\"opacity\":0.8},{\"alignmentgroup\":\"True\",\"hovertemplate\":\"Station = Rubis <br>County=%{x}<br>Count=%{y}<extra></extra>\",\"legendgroup\":\" Rubis \",\"marker\":{\"color\":\"#00cc96\",\"pattern\":{\"shape\":\"\"},\"line\":{\"color\":\"rgb(9,50,100)\",\"width\":1.5}},\"name\":\" Rubis \",\"offsetgroup\":\" Rubis \",\"orientation\":\"v\",\"showlegend\":true,\"textposition\":\"auto\",\"x\":[\" Kajiado \",\" Kiambu\",\" Kilifi \",\" Machakos \",\" Mombasa \",\" Nairobi \",\" Nakuru \"],\"xaxis\":\"x\",\"y\":[1,10,2,3,2,87,1],\"yaxis\":\"y\",\"type\":\"bar\",\"opacity\":0.8},{\"alignmentgroup\":\"True\",\"hovertemplate\":\"Station = Shell <br>County=%{x}<br>Count=%{y}<extra></extra>\",\"legendgroup\":\" Shell \",\"marker\":{\"color\":\"#ab63fa\",\"pattern\":{\"shape\":\"\"},\"line\":{\"color\":\"rgb(9,50,100)\",\"width\":1.5}},\"name\":\" Shell \",\"offsetgroup\":\" Shell \",\"orientation\":\"v\",\"showlegend\":true,\"textposition\":\"auto\",\"x\":[\" Kajiado \",\" Kakamega \",\" Kiambu\",\" Kilifi \",\" Laikipia \",\" Machakos \",\" Mombasa \",\" Nairobi \",\" Nakuru \",\" Narok \",\" Nyeri \"],\"xaxis\":\"x\",\"y\":[2,1,19,2,2,3,3,108,4,1,2],\"yaxis\":\"y\",\"type\":\"bar\",\"opacity\":0.8},{\"alignmentgroup\":\"True\",\"hovertemplate\":\"Station = Tosha <br>County=%{x}<br>Count=%{y}<extra></extra>\",\"legendgroup\":\" Tosha \",\"marker\":{\"color\":\"#FFA15A\",\"pattern\":{\"shape\":\"\"},\"line\":{\"color\":\"rgb(9,50,100)\",\"width\":1.5}},\"name\":\" Tosha \",\"offsetgroup\":\" Tosha \",\"orientation\":\"v\",\"showlegend\":true,\"textposition\":\"auto\",\"x\":[\" Bomet \",\" Nairobi \"],\"xaxis\":\"x\",\"y\":[1,3],\"yaxis\":\"y\",\"type\":\"bar\",\"opacity\":0.8},{\"alignmentgroup\":\"True\",\"hovertemplate\":\"Station = Total <br>County=%{x}<br>Count=%{y}<extra></extra>\",\"legendgroup\":\" Total \",\"marker\":{\"color\":\"#19d3f3\",\"pattern\":{\"shape\":\"\"},\"line\":{\"color\":\"rgb(9,50,100)\",\"width\":1.5}},\"name\":\" Total \",\"offsetgroup\":\" Total \",\"orientation\":\"v\",\"showlegend\":true,\"textposition\":\"auto\",\"x\":[\" Kajiado \",\" Kakamega \",\" Kiambu\",\" Machakos \",\" Mombasa \",\" Nairobi \",\" Nakuru \",\" Narok \",\"Kilifi\"],\"xaxis\":\"x\",\"y\":[3,2,32,6,4,113,4,3,1],\"yaxis\":\"y\",\"type\":\"bar\",\"opacity\":0.8}],                        {\"template\":{\"data\":{\"histogram2dcontour\":[{\"type\":\"histogram2dcontour\",\"colorbar\":{\"outlinewidth\":0,\"ticks\":\"\"},\"colorscale\":[[0.0,\"#0d0887\"],[0.1111111111111111,\"#46039f\"],[0.2222222222222222,\"#7201a8\"],[0.3333333333333333,\"#9c179e\"],[0.4444444444444444,\"#bd3786\"],[0.5555555555555556,\"#d8576b\"],[0.6666666666666666,\"#ed7953\"],[0.7777777777777778,\"#fb9f3a\"],[0.8888888888888888,\"#fdca26\"],[1.0,\"#f0f921\"]]}],\"choropleth\":[{\"type\":\"choropleth\",\"colorbar\":{\"outlinewidth\":0,\"ticks\":\"\"}}],\"histogram2d\":[{\"type\":\"histogram2d\",\"colorbar\":{\"outlinewidth\":0,\"ticks\":\"\"},\"colorscale\":[[0.0,\"#0d0887\"],[0.1111111111111111,\"#46039f\"],[0.2222222222222222,\"#7201a8\"],[0.3333333333333333,\"#9c179e\"],[0.4444444444444444,\"#bd3786\"],[0.5555555555555556,\"#d8576b\"],[0.6666666666666666,\"#ed7953\"],[0.7777777777777778,\"#fb9f3a\"],[0.8888888888888888,\"#fdca26\"],[1.0,\"#f0f921\"]]}],\"heatmap\":[{\"type\":\"heatmap\",\"colorbar\":{\"outlinewidth\":0,\"ticks\":\"\"},\"colorscale\":[[0.0,\"#0d0887\"],[0.1111111111111111,\"#46039f\"],[0.2222222222222222,\"#7201a8\"],[0.3333333333333333,\"#9c179e\"],[0.4444444444444444,\"#bd3786\"],[0.5555555555555556,\"#d8576b\"],[0.6666666666666666,\"#ed7953\"],[0.7777777777777778,\"#fb9f3a\"],[0.8888888888888888,\"#fdca26\"],[1.0,\"#f0f921\"]]}],\"heatmapgl\":[{\"type\":\"heatmapgl\",\"colorbar\":{\"outlinewidth\":0,\"ticks\":\"\"},\"colorscale\":[[0.0,\"#0d0887\"],[0.1111111111111111,\"#46039f\"],[0.2222222222222222,\"#7201a8\"],[0.3333333333333333,\"#9c179e\"],[0.4444444444444444,\"#bd3786\"],[0.5555555555555556,\"#d8576b\"],[0.6666666666666666,\"#ed7953\"],[0.7777777777777778,\"#fb9f3a\"],[0.8888888888888888,\"#fdca26\"],[1.0,\"#f0f921\"]]}],\"contourcarpet\":[{\"type\":\"contourcarpet\",\"colorbar\":{\"outlinewidth\":0,\"ticks\":\"\"}}],\"contour\":[{\"type\":\"contour\",\"colorbar\":{\"outlinewidth\":0,\"ticks\":\"\"},\"colorscale\":[[0.0,\"#0d0887\"],[0.1111111111111111,\"#46039f\"],[0.2222222222222222,\"#7201a8\"],[0.3333333333333333,\"#9c179e\"],[0.4444444444444444,\"#bd3786\"],[0.5555555555555556,\"#d8576b\"],[0.6666666666666666,\"#ed7953\"],[0.7777777777777778,\"#fb9f3a\"],[0.8888888888888888,\"#fdca26\"],[1.0,\"#f0f921\"]]}],\"surface\":[{\"type\":\"surface\",\"colorbar\":{\"outlinewidth\":0,\"ticks\":\"\"},\"colorscale\":[[0.0,\"#0d0887\"],[0.1111111111111111,\"#46039f\"],[0.2222222222222222,\"#7201a8\"],[0.3333333333333333,\"#9c179e\"],[0.4444444444444444,\"#bd3786\"],[0.5555555555555556,\"#d8576b\"],[0.6666666666666666,\"#ed7953\"],[0.7777777777777778,\"#fb9f3a\"],[0.8888888888888888,\"#fdca26\"],[1.0,\"#f0f921\"]]}],\"mesh3d\":[{\"type\":\"mesh3d\",\"colorbar\":{\"outlinewidth\":0,\"ticks\":\"\"}}],\"scatter\":[{\"fillpattern\":{\"fillmode\":\"overlay\",\"size\":10,\"solidity\":0.2},\"type\":\"scatter\"}],\"parcoords\":[{\"type\":\"parcoords\",\"line\":{\"colorbar\":{\"outlinewidth\":0,\"ticks\":\"\"}}}],\"scatterpolargl\":[{\"type\":\"scatterpolargl\",\"marker\":{\"colorbar\":{\"outlinewidth\":0,\"ticks\":\"\"}}}],\"bar\":[{\"error_x\":{\"color\":\"#2a3f5f\"},\"error_y\":{\"color\":\"#2a3f5f\"},\"marker\":{\"line\":{\"color\":\"#E5ECF6\",\"width\":0.5},\"pattern\":{\"fillmode\":\"overlay\",\"size\":10,\"solidity\":0.2}},\"type\":\"bar\"}],\"scattergeo\":[{\"type\":\"scattergeo\",\"marker\":{\"colorbar\":{\"outlinewidth\":0,\"ticks\":\"\"}}}],\"scatterpolar\":[{\"type\":\"scatterpolar\",\"marker\":{\"colorbar\":{\"outlinewidth\":0,\"ticks\":\"\"}}}],\"histogram\":[{\"marker\":{\"pattern\":{\"fillmode\":\"overlay\",\"size\":10,\"solidity\":0.2}},\"type\":\"histogram\"}],\"scattergl\":[{\"type\":\"scattergl\",\"marker\":{\"colorbar\":{\"outlinewidth\":0,\"ticks\":\"\"}}}],\"scatter3d\":[{\"type\":\"scatter3d\",\"line\":{\"colorbar\":{\"outlinewidth\":0,\"ticks\":\"\"}},\"marker\":{\"colorbar\":{\"outlinewidth\":0,\"ticks\":\"\"}}}],\"scattermapbox\":[{\"type\":\"scattermapbox\",\"marker\":{\"colorbar\":{\"outlinewidth\":0,\"ticks\":\"\"}}}],\"scatterternary\":[{\"type\":\"scatterternary\",\"marker\":{\"colorbar\":{\"outlinewidth\":0,\"ticks\":\"\"}}}],\"scattercarpet\":[{\"type\":\"scattercarpet\",\"marker\":{\"colorbar\":{\"outlinewidth\":0,\"ticks\":\"\"}}}],\"carpet\":[{\"aaxis\":{\"endlinecolor\":\"#2a3f5f\",\"gridcolor\":\"white\",\"linecolor\":\"white\",\"minorgridcolor\":\"white\",\"startlinecolor\":\"#2a3f5f\"},\"baxis\":{\"endlinecolor\":\"#2a3f5f\",\"gridcolor\":\"white\",\"linecolor\":\"white\",\"minorgridcolor\":\"white\",\"startlinecolor\":\"#2a3f5f\"},\"type\":\"carpet\"}],\"table\":[{\"cells\":{\"fill\":{\"color\":\"#EBF0F8\"},\"line\":{\"color\":\"white\"}},\"header\":{\"fill\":{\"color\":\"#C8D4E3\"},\"line\":{\"color\":\"white\"}},\"type\":\"table\"}],\"barpolar\":[{\"marker\":{\"line\":{\"color\":\"#E5ECF6\",\"width\":0.5},\"pattern\":{\"fillmode\":\"overlay\",\"size\":10,\"solidity\":0.2}},\"type\":\"barpolar\"}],\"pie\":[{\"automargin\":true,\"type\":\"pie\"}]},\"layout\":{\"autotypenumbers\":\"strict\",\"colorway\":[\"#636efa\",\"#EF553B\",\"#00cc96\",\"#ab63fa\",\"#FFA15A\",\"#19d3f3\",\"#FF6692\",\"#B6E880\",\"#FF97FF\",\"#FECB52\"],\"font\":{\"color\":\"#2a3f5f\"},\"hovermode\":\"closest\",\"hoverlabel\":{\"align\":\"left\"},\"paper_bgcolor\":\"white\",\"plot_bgcolor\":\"#E5ECF6\",\"polar\":{\"bgcolor\":\"#E5ECF6\",\"angularaxis\":{\"gridcolor\":\"white\",\"linecolor\":\"white\",\"ticks\":\"\"},\"radialaxis\":{\"gridcolor\":\"white\",\"linecolor\":\"white\",\"ticks\":\"\"}},\"ternary\":{\"bgcolor\":\"#E5ECF6\",\"aaxis\":{\"gridcolor\":\"white\",\"linecolor\":\"white\",\"ticks\":\"\"},\"baxis\":{\"gridcolor\":\"white\",\"linecolor\":\"white\",\"ticks\":\"\"},\"caxis\":{\"gridcolor\":\"white\",\"linecolor\":\"white\",\"ticks\":\"\"}},\"coloraxis\":{\"colorbar\":{\"outlinewidth\":0,\"ticks\":\"\"}},\"colorscale\":{\"sequential\":[[0.0,\"#0d0887\"],[0.1111111111111111,\"#46039f\"],[0.2222222222222222,\"#7201a8\"],[0.3333333333333333,\"#9c179e\"],[0.4444444444444444,\"#bd3786\"],[0.5555555555555556,\"#d8576b\"],[0.6666666666666666,\"#ed7953\"],[0.7777777777777778,\"#fb9f3a\"],[0.8888888888888888,\"#fdca26\"],[1.0,\"#f0f921\"]],\"sequentialminus\":[[0.0,\"#0d0887\"],[0.1111111111111111,\"#46039f\"],[0.2222222222222222,\"#7201a8\"],[0.3333333333333333,\"#9c179e\"],[0.4444444444444444,\"#bd3786\"],[0.5555555555555556,\"#d8576b\"],[0.6666666666666666,\"#ed7953\"],[0.7777777777777778,\"#fb9f3a\"],[0.8888888888888888,\"#fdca26\"],[1.0,\"#f0f921\"]],\"diverging\":[[0,\"#8e0152\"],[0.1,\"#c51b7d\"],[0.2,\"#de77ae\"],[0.3,\"#f1b6da\"],[0.4,\"#fde0ef\"],[0.5,\"#f7f7f7\"],[0.6,\"#e6f5d0\"],[0.7,\"#b8e186\"],[0.8,\"#7fbc41\"],[0.9,\"#4d9221\"],[1,\"#276419\"]]},\"xaxis\":{\"gridcolor\":\"white\",\"linecolor\":\"white\",\"ticks\":\"\",\"title\":{\"standoff\":15},\"zerolinecolor\":\"white\",\"automargin\":true,\"zerolinewidth\":2},\"yaxis\":{\"gridcolor\":\"white\",\"linecolor\":\"white\",\"ticks\":\"\",\"title\":{\"standoff\":15},\"zerolinecolor\":\"white\",\"automargin\":true,\"zerolinewidth\":2},\"scene\":{\"xaxis\":{\"backgroundcolor\":\"#E5ECF6\",\"gridcolor\":\"white\",\"linecolor\":\"white\",\"showbackground\":true,\"ticks\":\"\",\"zerolinecolor\":\"white\",\"gridwidth\":2},\"yaxis\":{\"backgroundcolor\":\"#E5ECF6\",\"gridcolor\":\"white\",\"linecolor\":\"white\",\"showbackground\":true,\"ticks\":\"\",\"zerolinecolor\":\"white\",\"gridwidth\":2},\"zaxis\":{\"backgroundcolor\":\"#E5ECF6\",\"gridcolor\":\"white\",\"linecolor\":\"white\",\"showbackground\":true,\"ticks\":\"\",\"zerolinecolor\":\"white\",\"gridwidth\":2}},\"shapedefaults\":{\"line\":{\"color\":\"#2a3f5f\"}},\"annotationdefaults\":{\"arrowcolor\":\"#2a3f5f\",\"arrowhead\":0,\"arrowwidth\":1},\"geo\":{\"bgcolor\":\"white\",\"landcolor\":\"#E5ECF6\",\"subunitcolor\":\"white\",\"showland\":true,\"showlakes\":true,\"lakecolor\":\"white\"},\"title\":{\"x\":0.05},\"mapbox\":{\"style\":\"light\"}}},\"xaxis\":{\"anchor\":\"y\",\"domain\":[0.0,1.0],\"title\":{\"text\":\"County\"}},\"yaxis\":{\"anchor\":\"x\",\"domain\":[0.0,1.0],\"title\":{\"text\":\"Count\"}},\"legend\":{\"title\":{\"text\":\"Station \"},\"tracegroupgap\":0},\"title\":{\"text\":\"Petrol Station Distribution in relation to County\"},\"barmode\":\"group\",\"height\":500,\"width\":1500},                        {\"responsive\": true}                    ).then(function(){\n",
       "                            \n",
       "var gd = document.getElementById('238e13d8-e7cd-4f35-8f1b-3ee581ae793a');\n",
       "var x = new MutationObserver(function (mutations, observer) {{\n",
       "        var display = window.getComputedStyle(gd).display;\n",
       "        if (!display || display === 'none') {{\n",
       "            console.log([gd, 'removed!']);\n",
       "            Plotly.purge(gd);\n",
       "            observer.disconnect();\n",
       "        }}\n",
       "}});\n",
       "\n",
       "// Listen for the removal of the full notebook cells\n",
       "var notebookContainer = gd.closest('#notebook-container');\n",
       "if (notebookContainer) {{\n",
       "    x.observe(notebookContainer, {childList: true});\n",
       "}}\n",
       "\n",
       "// Listen for the clearing of the current output cell\n",
       "var outputEl = gd.closest('.output');\n",
       "if (outputEl) {{\n",
       "    x.observe(outputEl, {childList: true});\n",
       "}}\n",
       "\n",
       "                        })                };                });            </script>        </div>"
      ]
     },
     "metadata": {},
     "output_type": "display_data"
    }
   ],
   "source": [
    "#Fuel Type vs County\n",
    "fuel_station=petrol_data.loc[:,[\"Station \",\"County\"]].groupby([\"Station \",\"County\"]).size().reset_index()\n",
    "fuel_station.columns=[\"Station \",\"County\",\"Count\"]\n",
    "fig=px.bar(fuel_station,x='County',y='Count',color=\"Station \",\n",
    "          barmode='group',title=\"Petrol Station Distribution in relation to County\",\n",
    "          height=500,width=1500)\n",
    "fig.update_traces(marker_line_color='rgb(9,50,100)',marker_line_width=1.5,opacity=0.8)\n",
    "fig.show()"
   ]
  },
  {
   "cell_type": "markdown",
   "id": "09379242",
   "metadata": {
    "papermill": {
     "duration": 0.047453,
     "end_time": "2022-05-03T19:51:38.324299",
     "exception": false,
     "start_time": "2022-05-03T19:51:38.276846",
     "status": "completed"
    },
    "tags": []
   },
   "source": [
    "Majority of the petrol stations reported were within Nairobi county followed by Kiambu ,Machakos,Mombasa and Nakuru counties."
   ]
  },
  {
   "cell_type": "markdown",
   "id": "e988cdab",
   "metadata": {
    "papermill": {
     "duration": 0.0478,
     "end_time": "2022-05-03T19:51:38.419544",
     "exception": false,
     "start_time": "2022-05-03T19:51:38.371744",
     "status": "completed"
    },
    "tags": []
   },
   "source": [
    "### Petrol Station Distribution in relation to the Area"
   ]
  },
  {
   "cell_type": "code",
   "execution_count": 16,
   "id": "58efe69f",
   "metadata": {
    "execution": {
     "iopub.execute_input": "2022-05-03T19:51:38.515699Z",
     "iopub.status.busy": "2022-05-03T19:51:38.515325Z",
     "iopub.status.idle": "2022-05-03T19:51:38.594708Z",
     "shell.execute_reply": "2022-05-03T19:51:38.593980Z"
    },
    "papermill": {
     "duration": 0.129815,
     "end_time": "2022-05-03T19:51:38.596733",
     "exception": false,
     "start_time": "2022-05-03T19:51:38.466918",
     "status": "completed"
    },
    "tags": []
   },
   "outputs": [
    {
     "data": {
      "application/vnd.plotly.v1+json": {
       "config": {
        "plotlyServerURL": "https://plot.ly"
       },
       "data": [
        {
         "alignmentgroup": "True",
         "hovertemplate": "Fuel Type= Both Super & Diesel <br>Area=%{x}<br>Count=%{y}<extra></extra>",
         "legendgroup": " Both Super & Diesel ",
         "marker": {
          "color": "#636efa",
          "line": {
           "color": "rgb(9,50,100)",
           "width": 1.5
          },
          "pattern": {
           "shape": ""
          }
         },
         "name": " Both Super & Diesel ",
         "offsetgroup": " Both Super & Diesel ",
         "opacity": 0.8,
         "orientation": "v",
         "showlegend": true,
         "textposition": "auto",
         "type": "bar",
         "x": [
          " Adams Arcade",
          " Bahati ",
          " Bamburi ",
          " Buru Buru ",
          " CBD - Central Business District ",
          " Cabanas ",
          " Chaka ",
          " City Stadium ",
          " Dagoretti ",
          " Donholm ",
          " Embakasi ",
          " Garden City",
          " Gitaru ",
          " Githurai 44 ",
          " Githurai 45",
          " Hurlingham ",
          " Imara Daima ",
          " Industrial Area ",
          " Kahawa Sukari ",
          " Kamakis",
          " Kamulu ",
          " Kangemi ",
          " Karen ",
          " Kasarani ",
          " Kayole ",
          " Kikuyu ",
          " Kileleshwa ",
          " Kilimani",
          " Kinoo ",
          " Kiserian ",
          " Komarock ",
          " Kunste",
          " Langata ",
          " Lavington ",
          " Malindi",
          " Mlolongo ",
          " Muthaiga ",
          " Nairobi West ",
          " Ngong",
          " Njiru ",
          " Nyali ",
          " Ongata Rongai ",
          " Parklands ",
          " Riara Ridge",
          " Ridgeways",
          " Roasters ",
          " Roysambu ",
          " Ruai ",
          " Ruaka ",
          " Ruiru ",
          " Sabaki - Mombasa Cement Nbi ",
          " Survey of Kenya ",
          " Syokimau ",
          " Tassia ",
          " Thika",
          " Umoja ",
          " Utawala ",
          " Viwandani ",
          " Westlands ",
          " kilifi ",
          "Dagorretti",
          "Mombasa",
          "Mtwapa",
          "Nairobi",
          "Nakuru",
          "Narok",
          "Westlands ",
          "Windsor",
          "kithini "
         ],
         "xaxis": "x",
         "y": [
          6,
          1,
          2,
          6,
          18,
          1,
          2,
          3,
          2,
          3,
          4,
          9,
          10,
          2,
          1,
          13,
          6,
          7,
          2,
          1,
          1,
          7,
          22,
          3,
          2,
          5,
          8,
          9,
          5,
          4,
          3,
          8,
          12,
          6,
          1,
          3,
          6,
          9,
          1,
          2,
          4,
          5,
          10,
          1,
          3,
          1,
          2,
          2,
          10,
          10,
          2,
          4,
          3,
          1,
          3,
          1,
          2,
          1,
          15,
          1,
          1,
          2,
          2,
          1,
          1,
          3,
          2,
          1,
          1
         ],
         "yaxis": "y"
        },
        {
         "alignmentgroup": "True",
         "hovertemplate": "Fuel Type= Diesel <br>Area=%{x}<br>Count=%{y}<extra></extra>",
         "legendgroup": " Diesel ",
         "marker": {
          "color": "#EF553B",
          "line": {
           "color": "rgb(9,50,100)",
           "width": 1.5
          },
          "pattern": {
           "shape": ""
          }
         },
         "name": " Diesel ",
         "offsetgroup": " Diesel ",
         "opacity": 0.8,
         "orientation": "v",
         "showlegend": true,
         "textposition": "auto",
         "type": "bar",
         "x": [
          " CBD - Central Business District ",
          " Dagoretti ",
          " Embakasi ",
          " Hurlingham ",
          " Kahawa Wendani ",
          " Kangemi ",
          " Karen ",
          " Kasarani ",
          " Kinoo ",
          " Lavington ",
          " Muthaiga ",
          " Nyali ",
          " Ongata Rongai ",
          " Roysambu ",
          " Ruiru ",
          " Sabaki - Mombasa Cement Nbi ",
          " kilifi ",
          "Mtwapa",
          "Nairobi"
         ],
         "xaxis": "x",
         "y": [
          2,
          2,
          1,
          1,
          1,
          1,
          3,
          1,
          1,
          1,
          1,
          1,
          1,
          1,
          2,
          1,
          1,
          1,
          2
         ],
         "yaxis": "y"
        },
        {
         "alignmentgroup": "True",
         "hovertemplate": "Fuel Type= Super/Petrol <br>Area=%{x}<br>Count=%{y}<extra></extra>",
         "legendgroup": " Super/Petrol ",
         "marker": {
          "color": "#00cc96",
          "line": {
           "color": "rgb(9,50,100)",
           "width": 1.5
          },
          "pattern": {
           "shape": ""
          }
         },
         "name": " Super/Petrol ",
         "offsetgroup": " Super/Petrol ",
         "opacity": 0.8,
         "orientation": "v",
         "showlegend": true,
         "textposition": "auto",
         "type": "bar",
         "x": [
          " Adams Arcade",
          " Buru Buru ",
          " CBD - Central Business District ",
          " Cabanas ",
          " Chaka ",
          " City Stadium ",
          " Dagoretti ",
          " Donholm ",
          " Embakasi ",
          " Garden City",
          " Gikomba ",
          " Gitaru ",
          " Githurai 44 ",
          " Githurai 45",
          " Hurlingham ",
          " Imara Daima ",
          " Industrial Area ",
          " Joska ",
          " Kahawa Sukari ",
          " Kahawa Wendani ",
          " Kamulu ",
          " Kangemi ",
          " Karen ",
          " Kasarani ",
          " Kenyatta University ",
          " Kileleshwa ",
          " Kilimani",
          " Kinoo ",
          " Komarock ",
          " Kongowea ",
          " Kunste",
          " Langata ",
          " Lavington ",
          " Mihango ",
          " Mlolongo ",
          " Muthaiga ",
          " Nairobi West ",
          " Nanyuki",
          " Nyali ",
          " Ongata Rongai ",
          " Parklands ",
          " Racecourse",
          " Ridgeways",
          " Roysambu ",
          " Ruai ",
          " Ruaka ",
          " Ruiru ",
          " Sabaki - Mombasa Cement Nbi ",
          " Syokimau ",
          " Umoja ",
          " Utawala ",
          " Westlands ",
          " Zimmerman ",
          "CBD - Central Business District ",
          "Githunguri",
          "Kahawa West",
          "Kwa Ng'ethe",
          "Machakos",
          "Narok",
          "Nyayo stadium",
          "Windsor"
         ],
         "xaxis": "x",
         "y": [
          2,
          4,
          6,
          3,
          1,
          3,
          1,
          1,
          6,
          9,
          1,
          4,
          2,
          3,
          4,
          5,
          2,
          1,
          1,
          1,
          2,
          2,
          5,
          3,
          2,
          1,
          2,
          1,
          2,
          1,
          1,
          4,
          4,
          2,
          2,
          1,
          6,
          2,
          1,
          5,
          5,
          2,
          1,
          1,
          2,
          4,
          4,
          4,
          3,
          1,
          2,
          10,
          1,
          1,
          1,
          1,
          2,
          2,
          1,
          1,
          1
         ],
         "yaxis": "y"
        },
        {
         "alignmentgroup": "True",
         "hovertemplate": "Fuel Type= V-power <br>Area=%{x}<br>Count=%{y}<extra></extra>",
         "legendgroup": " V-power ",
         "marker": {
          "color": "#ab63fa",
          "line": {
           "color": "rgb(9,50,100)",
           "width": 1.5
          },
          "pattern": {
           "shape": ""
          }
         },
         "name": " V-power ",
         "offsetgroup": " V-power ",
         "opacity": 0.8,
         "orientation": "v",
         "showlegend": true,
         "textposition": "auto",
         "type": "bar",
         "x": [
          " Adams Arcade",
          " CBD - Central Business District ",
          " Dagoretti ",
          " Donholm ",
          " Hurlingham ",
          " Kangemi ",
          " Lavington ",
          " Parklands ",
          " Ruai "
         ],
         "xaxis": "x",
         "y": [
          1,
          1,
          1,
          1,
          1,
          1,
          2,
          1,
          1
         ],
         "yaxis": "y"
        }
       ],
       "layout": {
        "barmode": "group",
        "height": 800,
        "legend": {
         "title": {
          "text": "Fuel Type"
         },
         "tracegroupgap": 0
        },
        "template": {
         "data": {
          "bar": [
           {
            "error_x": {
             "color": "#2a3f5f"
            },
            "error_y": {
             "color": "#2a3f5f"
            },
            "marker": {
             "line": {
              "color": "#E5ECF6",
              "width": 0.5
             },
             "pattern": {
              "fillmode": "overlay",
              "size": 10,
              "solidity": 0.2
             }
            },
            "type": "bar"
           }
          ],
          "barpolar": [
           {
            "marker": {
             "line": {
              "color": "#E5ECF6",
              "width": 0.5
             },
             "pattern": {
              "fillmode": "overlay",
              "size": 10,
              "solidity": 0.2
             }
            },
            "type": "barpolar"
           }
          ],
          "carpet": [
           {
            "aaxis": {
             "endlinecolor": "#2a3f5f",
             "gridcolor": "white",
             "linecolor": "white",
             "minorgridcolor": "white",
             "startlinecolor": "#2a3f5f"
            },
            "baxis": {
             "endlinecolor": "#2a3f5f",
             "gridcolor": "white",
             "linecolor": "white",
             "minorgridcolor": "white",
             "startlinecolor": "#2a3f5f"
            },
            "type": "carpet"
           }
          ],
          "choropleth": [
           {
            "colorbar": {
             "outlinewidth": 0,
             "ticks": ""
            },
            "type": "choropleth"
           }
          ],
          "contour": [
           {
            "colorbar": {
             "outlinewidth": 0,
             "ticks": ""
            },
            "colorscale": [
             [
              0.0,
              "#0d0887"
             ],
             [
              0.1111111111111111,
              "#46039f"
             ],
             [
              0.2222222222222222,
              "#7201a8"
             ],
             [
              0.3333333333333333,
              "#9c179e"
             ],
             [
              0.4444444444444444,
              "#bd3786"
             ],
             [
              0.5555555555555556,
              "#d8576b"
             ],
             [
              0.6666666666666666,
              "#ed7953"
             ],
             [
              0.7777777777777778,
              "#fb9f3a"
             ],
             [
              0.8888888888888888,
              "#fdca26"
             ],
             [
              1.0,
              "#f0f921"
             ]
            ],
            "type": "contour"
           }
          ],
          "contourcarpet": [
           {
            "colorbar": {
             "outlinewidth": 0,
             "ticks": ""
            },
            "type": "contourcarpet"
           }
          ],
          "heatmap": [
           {
            "colorbar": {
             "outlinewidth": 0,
             "ticks": ""
            },
            "colorscale": [
             [
              0.0,
              "#0d0887"
             ],
             [
              0.1111111111111111,
              "#46039f"
             ],
             [
              0.2222222222222222,
              "#7201a8"
             ],
             [
              0.3333333333333333,
              "#9c179e"
             ],
             [
              0.4444444444444444,
              "#bd3786"
             ],
             [
              0.5555555555555556,
              "#d8576b"
             ],
             [
              0.6666666666666666,
              "#ed7953"
             ],
             [
              0.7777777777777778,
              "#fb9f3a"
             ],
             [
              0.8888888888888888,
              "#fdca26"
             ],
             [
              1.0,
              "#f0f921"
             ]
            ],
            "type": "heatmap"
           }
          ],
          "heatmapgl": [
           {
            "colorbar": {
             "outlinewidth": 0,
             "ticks": ""
            },
            "colorscale": [
             [
              0.0,
              "#0d0887"
             ],
             [
              0.1111111111111111,
              "#46039f"
             ],
             [
              0.2222222222222222,
              "#7201a8"
             ],
             [
              0.3333333333333333,
              "#9c179e"
             ],
             [
              0.4444444444444444,
              "#bd3786"
             ],
             [
              0.5555555555555556,
              "#d8576b"
             ],
             [
              0.6666666666666666,
              "#ed7953"
             ],
             [
              0.7777777777777778,
              "#fb9f3a"
             ],
             [
              0.8888888888888888,
              "#fdca26"
             ],
             [
              1.0,
              "#f0f921"
             ]
            ],
            "type": "heatmapgl"
           }
          ],
          "histogram": [
           {
            "marker": {
             "pattern": {
              "fillmode": "overlay",
              "size": 10,
              "solidity": 0.2
             }
            },
            "type": "histogram"
           }
          ],
          "histogram2d": [
           {
            "colorbar": {
             "outlinewidth": 0,
             "ticks": ""
            },
            "colorscale": [
             [
              0.0,
              "#0d0887"
             ],
             [
              0.1111111111111111,
              "#46039f"
             ],
             [
              0.2222222222222222,
              "#7201a8"
             ],
             [
              0.3333333333333333,
              "#9c179e"
             ],
             [
              0.4444444444444444,
              "#bd3786"
             ],
             [
              0.5555555555555556,
              "#d8576b"
             ],
             [
              0.6666666666666666,
              "#ed7953"
             ],
             [
              0.7777777777777778,
              "#fb9f3a"
             ],
             [
              0.8888888888888888,
              "#fdca26"
             ],
             [
              1.0,
              "#f0f921"
             ]
            ],
            "type": "histogram2d"
           }
          ],
          "histogram2dcontour": [
           {
            "colorbar": {
             "outlinewidth": 0,
             "ticks": ""
            },
            "colorscale": [
             [
              0.0,
              "#0d0887"
             ],
             [
              0.1111111111111111,
              "#46039f"
             ],
             [
              0.2222222222222222,
              "#7201a8"
             ],
             [
              0.3333333333333333,
              "#9c179e"
             ],
             [
              0.4444444444444444,
              "#bd3786"
             ],
             [
              0.5555555555555556,
              "#d8576b"
             ],
             [
              0.6666666666666666,
              "#ed7953"
             ],
             [
              0.7777777777777778,
              "#fb9f3a"
             ],
             [
              0.8888888888888888,
              "#fdca26"
             ],
             [
              1.0,
              "#f0f921"
             ]
            ],
            "type": "histogram2dcontour"
           }
          ],
          "mesh3d": [
           {
            "colorbar": {
             "outlinewidth": 0,
             "ticks": ""
            },
            "type": "mesh3d"
           }
          ],
          "parcoords": [
           {
            "line": {
             "colorbar": {
              "outlinewidth": 0,
              "ticks": ""
             }
            },
            "type": "parcoords"
           }
          ],
          "pie": [
           {
            "automargin": true,
            "type": "pie"
           }
          ],
          "scatter": [
           {
            "fillpattern": {
             "fillmode": "overlay",
             "size": 10,
             "solidity": 0.2
            },
            "type": "scatter"
           }
          ],
          "scatter3d": [
           {
            "line": {
             "colorbar": {
              "outlinewidth": 0,
              "ticks": ""
             }
            },
            "marker": {
             "colorbar": {
              "outlinewidth": 0,
              "ticks": ""
             }
            },
            "type": "scatter3d"
           }
          ],
          "scattercarpet": [
           {
            "marker": {
             "colorbar": {
              "outlinewidth": 0,
              "ticks": ""
             }
            },
            "type": "scattercarpet"
           }
          ],
          "scattergeo": [
           {
            "marker": {
             "colorbar": {
              "outlinewidth": 0,
              "ticks": ""
             }
            },
            "type": "scattergeo"
           }
          ],
          "scattergl": [
           {
            "marker": {
             "colorbar": {
              "outlinewidth": 0,
              "ticks": ""
             }
            },
            "type": "scattergl"
           }
          ],
          "scattermapbox": [
           {
            "marker": {
             "colorbar": {
              "outlinewidth": 0,
              "ticks": ""
             }
            },
            "type": "scattermapbox"
           }
          ],
          "scatterpolar": [
           {
            "marker": {
             "colorbar": {
              "outlinewidth": 0,
              "ticks": ""
             }
            },
            "type": "scatterpolar"
           }
          ],
          "scatterpolargl": [
           {
            "marker": {
             "colorbar": {
              "outlinewidth": 0,
              "ticks": ""
             }
            },
            "type": "scatterpolargl"
           }
          ],
          "scatterternary": [
           {
            "marker": {
             "colorbar": {
              "outlinewidth": 0,
              "ticks": ""
             }
            },
            "type": "scatterternary"
           }
          ],
          "surface": [
           {
            "colorbar": {
             "outlinewidth": 0,
             "ticks": ""
            },
            "colorscale": [
             [
              0.0,
              "#0d0887"
             ],
             [
              0.1111111111111111,
              "#46039f"
             ],
             [
              0.2222222222222222,
              "#7201a8"
             ],
             [
              0.3333333333333333,
              "#9c179e"
             ],
             [
              0.4444444444444444,
              "#bd3786"
             ],
             [
              0.5555555555555556,
              "#d8576b"
             ],
             [
              0.6666666666666666,
              "#ed7953"
             ],
             [
              0.7777777777777778,
              "#fb9f3a"
             ],
             [
              0.8888888888888888,
              "#fdca26"
             ],
             [
              1.0,
              "#f0f921"
             ]
            ],
            "type": "surface"
           }
          ],
          "table": [
           {
            "cells": {
             "fill": {
              "color": "#EBF0F8"
             },
             "line": {
              "color": "white"
             }
            },
            "header": {
             "fill": {
              "color": "#C8D4E3"
             },
             "line": {
              "color": "white"
             }
            },
            "type": "table"
           }
          ]
         },
         "layout": {
          "annotationdefaults": {
           "arrowcolor": "#2a3f5f",
           "arrowhead": 0,
           "arrowwidth": 1
          },
          "autotypenumbers": "strict",
          "coloraxis": {
           "colorbar": {
            "outlinewidth": 0,
            "ticks": ""
           }
          },
          "colorscale": {
           "diverging": [
            [
             0,
             "#8e0152"
            ],
            [
             0.1,
             "#c51b7d"
            ],
            [
             0.2,
             "#de77ae"
            ],
            [
             0.3,
             "#f1b6da"
            ],
            [
             0.4,
             "#fde0ef"
            ],
            [
             0.5,
             "#f7f7f7"
            ],
            [
             0.6,
             "#e6f5d0"
            ],
            [
             0.7,
             "#b8e186"
            ],
            [
             0.8,
             "#7fbc41"
            ],
            [
             0.9,
             "#4d9221"
            ],
            [
             1,
             "#276419"
            ]
           ],
           "sequential": [
            [
             0.0,
             "#0d0887"
            ],
            [
             0.1111111111111111,
             "#46039f"
            ],
            [
             0.2222222222222222,
             "#7201a8"
            ],
            [
             0.3333333333333333,
             "#9c179e"
            ],
            [
             0.4444444444444444,
             "#bd3786"
            ],
            [
             0.5555555555555556,
             "#d8576b"
            ],
            [
             0.6666666666666666,
             "#ed7953"
            ],
            [
             0.7777777777777778,
             "#fb9f3a"
            ],
            [
             0.8888888888888888,
             "#fdca26"
            ],
            [
             1.0,
             "#f0f921"
            ]
           ],
           "sequentialminus": [
            [
             0.0,
             "#0d0887"
            ],
            [
             0.1111111111111111,
             "#46039f"
            ],
            [
             0.2222222222222222,
             "#7201a8"
            ],
            [
             0.3333333333333333,
             "#9c179e"
            ],
            [
             0.4444444444444444,
             "#bd3786"
            ],
            [
             0.5555555555555556,
             "#d8576b"
            ],
            [
             0.6666666666666666,
             "#ed7953"
            ],
            [
             0.7777777777777778,
             "#fb9f3a"
            ],
            [
             0.8888888888888888,
             "#fdca26"
            ],
            [
             1.0,
             "#f0f921"
            ]
           ]
          },
          "colorway": [
           "#636efa",
           "#EF553B",
           "#00cc96",
           "#ab63fa",
           "#FFA15A",
           "#19d3f3",
           "#FF6692",
           "#B6E880",
           "#FF97FF",
           "#FECB52"
          ],
          "font": {
           "color": "#2a3f5f"
          },
          "geo": {
           "bgcolor": "white",
           "lakecolor": "white",
           "landcolor": "#E5ECF6",
           "showlakes": true,
           "showland": true,
           "subunitcolor": "white"
          },
          "hoverlabel": {
           "align": "left"
          },
          "hovermode": "closest",
          "mapbox": {
           "style": "light"
          },
          "paper_bgcolor": "white",
          "plot_bgcolor": "#E5ECF6",
          "polar": {
           "angularaxis": {
            "gridcolor": "white",
            "linecolor": "white",
            "ticks": ""
           },
           "bgcolor": "#E5ECF6",
           "radialaxis": {
            "gridcolor": "white",
            "linecolor": "white",
            "ticks": ""
           }
          },
          "scene": {
           "xaxis": {
            "backgroundcolor": "#E5ECF6",
            "gridcolor": "white",
            "gridwidth": 2,
            "linecolor": "white",
            "showbackground": true,
            "ticks": "",
            "zerolinecolor": "white"
           },
           "yaxis": {
            "backgroundcolor": "#E5ECF6",
            "gridcolor": "white",
            "gridwidth": 2,
            "linecolor": "white",
            "showbackground": true,
            "ticks": "",
            "zerolinecolor": "white"
           },
           "zaxis": {
            "backgroundcolor": "#E5ECF6",
            "gridcolor": "white",
            "gridwidth": 2,
            "linecolor": "white",
            "showbackground": true,
            "ticks": "",
            "zerolinecolor": "white"
           }
          },
          "shapedefaults": {
           "line": {
            "color": "#2a3f5f"
           }
          },
          "ternary": {
           "aaxis": {
            "gridcolor": "white",
            "linecolor": "white",
            "ticks": ""
           },
           "baxis": {
            "gridcolor": "white",
            "linecolor": "white",
            "ticks": ""
           },
           "bgcolor": "#E5ECF6",
           "caxis": {
            "gridcolor": "white",
            "linecolor": "white",
            "ticks": ""
           }
          },
          "title": {
           "x": 0.05
          },
          "xaxis": {
           "automargin": true,
           "gridcolor": "white",
           "linecolor": "white",
           "ticks": "",
           "title": {
            "standoff": 15
           },
           "zerolinecolor": "white",
           "zerolinewidth": 2
          },
          "yaxis": {
           "automargin": true,
           "gridcolor": "white",
           "linecolor": "white",
           "ticks": "",
           "title": {
            "standoff": 15
           },
           "zerolinecolor": "white",
           "zerolinewidth": 2
          }
         }
        },
        "title": {
         "text": "Petrol Station Distribution in relation to it's Area"
        },
        "width": 2000,
        "xaxis": {
         "anchor": "y",
         "domain": [
          0.0,
          1.0
         ],
         "title": {
          "text": "Area"
         }
        },
        "yaxis": {
         "anchor": "x",
         "domain": [
          0.0,
          1.0
         ],
         "title": {
          "text": "Count"
         }
        }
       }
      },
      "text/html": [
       "<div>                            <div id=\"7635301f-586c-4429-a6db-7db664eaef6f\" class=\"plotly-graph-div\" style=\"height:800px; width:2000px;\"></div>            <script type=\"text/javascript\">                require([\"plotly\"], function(Plotly) {                    window.PLOTLYENV=window.PLOTLYENV || {};                                    if (document.getElementById(\"7635301f-586c-4429-a6db-7db664eaef6f\")) {                    Plotly.newPlot(                        \"7635301f-586c-4429-a6db-7db664eaef6f\",                        [{\"alignmentgroup\":\"True\",\"hovertemplate\":\"Fuel Type= Both Super & Diesel <br>Area=%{x}<br>Count=%{y}<extra></extra>\",\"legendgroup\":\" Both Super & Diesel \",\"marker\":{\"color\":\"#636efa\",\"pattern\":{\"shape\":\"\"},\"line\":{\"color\":\"rgb(9,50,100)\",\"width\":1.5}},\"name\":\" Both Super & Diesel \",\"offsetgroup\":\" Both Super & Diesel \",\"orientation\":\"v\",\"showlegend\":true,\"textposition\":\"auto\",\"x\":[\" Adams Arcade\",\" Bahati \",\" Bamburi \",\" Buru Buru \",\" CBD - Central Business District \",\" Cabanas \",\" Chaka \",\" City Stadium \",\" Dagoretti \",\" Donholm \",\" Embakasi \",\" Garden City\",\" Gitaru \",\" Githurai 44 \",\" Githurai 45\",\" Hurlingham \",\" Imara Daima \",\" Industrial Area \",\" Kahawa Sukari \",\" Kamakis\",\" Kamulu \",\" Kangemi \",\" Karen \",\" Kasarani \",\" Kayole \",\" Kikuyu \",\" Kileleshwa \",\" Kilimani\",\" Kinoo \",\" Kiserian \",\" Komarock \",\" Kunste\",\" Langata \",\" Lavington \",\" Malindi\",\" Mlolongo \",\" Muthaiga \",\" Nairobi West \",\" Ngong\",\" Njiru \",\" Nyali \",\" Ongata Rongai \",\" Parklands \",\" Riara Ridge\",\" Ridgeways\",\" Roasters \",\" Roysambu \",\" Ruai \",\" Ruaka \",\" Ruiru \",\" Sabaki - Mombasa Cement Nbi \",\" Survey of Kenya \",\" Syokimau \",\" Tassia \",\" Thika\",\" Umoja \",\" Utawala \",\" Viwandani \",\" Westlands \",\" kilifi \",\"Dagorretti\",\"Mombasa\",\"Mtwapa\",\"Nairobi\",\"Nakuru\",\"Narok\",\"Westlands \",\"Windsor\",\"kithini \"],\"xaxis\":\"x\",\"y\":[6,1,2,6,18,1,2,3,2,3,4,9,10,2,1,13,6,7,2,1,1,7,22,3,2,5,8,9,5,4,3,8,12,6,1,3,6,9,1,2,4,5,10,1,3,1,2,2,10,10,2,4,3,1,3,1,2,1,15,1,1,2,2,1,1,3,2,1,1],\"yaxis\":\"y\",\"type\":\"bar\",\"opacity\":0.8},{\"alignmentgroup\":\"True\",\"hovertemplate\":\"Fuel Type= Diesel <br>Area=%{x}<br>Count=%{y}<extra></extra>\",\"legendgroup\":\" Diesel \",\"marker\":{\"color\":\"#EF553B\",\"pattern\":{\"shape\":\"\"},\"line\":{\"color\":\"rgb(9,50,100)\",\"width\":1.5}},\"name\":\" Diesel \",\"offsetgroup\":\" Diesel \",\"orientation\":\"v\",\"showlegend\":true,\"textposition\":\"auto\",\"x\":[\" CBD - Central Business District \",\" Dagoretti \",\" Embakasi \",\" Hurlingham \",\" Kahawa Wendani \",\" Kangemi \",\" Karen \",\" Kasarani \",\" Kinoo \",\" Lavington \",\" Muthaiga \",\" Nyali \",\" Ongata Rongai \",\" Roysambu \",\" Ruiru \",\" Sabaki - Mombasa Cement Nbi \",\" kilifi \",\"Mtwapa\",\"Nairobi\"],\"xaxis\":\"x\",\"y\":[2,2,1,1,1,1,3,1,1,1,1,1,1,1,2,1,1,1,2],\"yaxis\":\"y\",\"type\":\"bar\",\"opacity\":0.8},{\"alignmentgroup\":\"True\",\"hovertemplate\":\"Fuel Type= Super/Petrol <br>Area=%{x}<br>Count=%{y}<extra></extra>\",\"legendgroup\":\" Super/Petrol \",\"marker\":{\"color\":\"#00cc96\",\"pattern\":{\"shape\":\"\"},\"line\":{\"color\":\"rgb(9,50,100)\",\"width\":1.5}},\"name\":\" Super/Petrol \",\"offsetgroup\":\" Super/Petrol \",\"orientation\":\"v\",\"showlegend\":true,\"textposition\":\"auto\",\"x\":[\" Adams Arcade\",\" Buru Buru \",\" CBD - Central Business District \",\" Cabanas \",\" Chaka \",\" City Stadium \",\" Dagoretti \",\" Donholm \",\" Embakasi \",\" Garden City\",\" Gikomba \",\" Gitaru \",\" Githurai 44 \",\" Githurai 45\",\" Hurlingham \",\" Imara Daima \",\" Industrial Area \",\" Joska \",\" Kahawa Sukari \",\" Kahawa Wendani \",\" Kamulu \",\" Kangemi \",\" Karen \",\" Kasarani \",\" Kenyatta University \",\" Kileleshwa \",\" Kilimani\",\" Kinoo \",\" Komarock \",\" Kongowea \",\" Kunste\",\" Langata \",\" Lavington \",\" Mihango \",\" Mlolongo \",\" Muthaiga \",\" Nairobi West \",\" Nanyuki\",\" Nyali \",\" Ongata Rongai \",\" Parklands \",\" Racecourse\",\" Ridgeways\",\" Roysambu \",\" Ruai \",\" Ruaka \",\" Ruiru \",\" Sabaki - Mombasa Cement Nbi \",\" Syokimau \",\" Umoja \",\" Utawala \",\" Westlands \",\" Zimmerman \",\"CBD - Central Business District \",\"Githunguri\",\"Kahawa West\",\"Kwa Ng'ethe\",\"Machakos\",\"Narok\",\"Nyayo stadium\",\"Windsor\"],\"xaxis\":\"x\",\"y\":[2,4,6,3,1,3,1,1,6,9,1,4,2,3,4,5,2,1,1,1,2,2,5,3,2,1,2,1,2,1,1,4,4,2,2,1,6,2,1,5,5,2,1,1,2,4,4,4,3,1,2,10,1,1,1,1,2,2,1,1,1],\"yaxis\":\"y\",\"type\":\"bar\",\"opacity\":0.8},{\"alignmentgroup\":\"True\",\"hovertemplate\":\"Fuel Type= V-power <br>Area=%{x}<br>Count=%{y}<extra></extra>\",\"legendgroup\":\" V-power \",\"marker\":{\"color\":\"#ab63fa\",\"pattern\":{\"shape\":\"\"},\"line\":{\"color\":\"rgb(9,50,100)\",\"width\":1.5}},\"name\":\" V-power \",\"offsetgroup\":\" V-power \",\"orientation\":\"v\",\"showlegend\":true,\"textposition\":\"auto\",\"x\":[\" Adams Arcade\",\" CBD - Central Business District \",\" Dagoretti \",\" Donholm \",\" Hurlingham \",\" Kangemi \",\" Lavington \",\" Parklands \",\" Ruai \"],\"xaxis\":\"x\",\"y\":[1,1,1,1,1,1,2,1,1],\"yaxis\":\"y\",\"type\":\"bar\",\"opacity\":0.8}],                        {\"template\":{\"data\":{\"histogram2dcontour\":[{\"type\":\"histogram2dcontour\",\"colorbar\":{\"outlinewidth\":0,\"ticks\":\"\"},\"colorscale\":[[0.0,\"#0d0887\"],[0.1111111111111111,\"#46039f\"],[0.2222222222222222,\"#7201a8\"],[0.3333333333333333,\"#9c179e\"],[0.4444444444444444,\"#bd3786\"],[0.5555555555555556,\"#d8576b\"],[0.6666666666666666,\"#ed7953\"],[0.7777777777777778,\"#fb9f3a\"],[0.8888888888888888,\"#fdca26\"],[1.0,\"#f0f921\"]]}],\"choropleth\":[{\"type\":\"choropleth\",\"colorbar\":{\"outlinewidth\":0,\"ticks\":\"\"}}],\"histogram2d\":[{\"type\":\"histogram2d\",\"colorbar\":{\"outlinewidth\":0,\"ticks\":\"\"},\"colorscale\":[[0.0,\"#0d0887\"],[0.1111111111111111,\"#46039f\"],[0.2222222222222222,\"#7201a8\"],[0.3333333333333333,\"#9c179e\"],[0.4444444444444444,\"#bd3786\"],[0.5555555555555556,\"#d8576b\"],[0.6666666666666666,\"#ed7953\"],[0.7777777777777778,\"#fb9f3a\"],[0.8888888888888888,\"#fdca26\"],[1.0,\"#f0f921\"]]}],\"heatmap\":[{\"type\":\"heatmap\",\"colorbar\":{\"outlinewidth\":0,\"ticks\":\"\"},\"colorscale\":[[0.0,\"#0d0887\"],[0.1111111111111111,\"#46039f\"],[0.2222222222222222,\"#7201a8\"],[0.3333333333333333,\"#9c179e\"],[0.4444444444444444,\"#bd3786\"],[0.5555555555555556,\"#d8576b\"],[0.6666666666666666,\"#ed7953\"],[0.7777777777777778,\"#fb9f3a\"],[0.8888888888888888,\"#fdca26\"],[1.0,\"#f0f921\"]]}],\"heatmapgl\":[{\"type\":\"heatmapgl\",\"colorbar\":{\"outlinewidth\":0,\"ticks\":\"\"},\"colorscale\":[[0.0,\"#0d0887\"],[0.1111111111111111,\"#46039f\"],[0.2222222222222222,\"#7201a8\"],[0.3333333333333333,\"#9c179e\"],[0.4444444444444444,\"#bd3786\"],[0.5555555555555556,\"#d8576b\"],[0.6666666666666666,\"#ed7953\"],[0.7777777777777778,\"#fb9f3a\"],[0.8888888888888888,\"#fdca26\"],[1.0,\"#f0f921\"]]}],\"contourcarpet\":[{\"type\":\"contourcarpet\",\"colorbar\":{\"outlinewidth\":0,\"ticks\":\"\"}}],\"contour\":[{\"type\":\"contour\",\"colorbar\":{\"outlinewidth\":0,\"ticks\":\"\"},\"colorscale\":[[0.0,\"#0d0887\"],[0.1111111111111111,\"#46039f\"],[0.2222222222222222,\"#7201a8\"],[0.3333333333333333,\"#9c179e\"],[0.4444444444444444,\"#bd3786\"],[0.5555555555555556,\"#d8576b\"],[0.6666666666666666,\"#ed7953\"],[0.7777777777777778,\"#fb9f3a\"],[0.8888888888888888,\"#fdca26\"],[1.0,\"#f0f921\"]]}],\"surface\":[{\"type\":\"surface\",\"colorbar\":{\"outlinewidth\":0,\"ticks\":\"\"},\"colorscale\":[[0.0,\"#0d0887\"],[0.1111111111111111,\"#46039f\"],[0.2222222222222222,\"#7201a8\"],[0.3333333333333333,\"#9c179e\"],[0.4444444444444444,\"#bd3786\"],[0.5555555555555556,\"#d8576b\"],[0.6666666666666666,\"#ed7953\"],[0.7777777777777778,\"#fb9f3a\"],[0.8888888888888888,\"#fdca26\"],[1.0,\"#f0f921\"]]}],\"mesh3d\":[{\"type\":\"mesh3d\",\"colorbar\":{\"outlinewidth\":0,\"ticks\":\"\"}}],\"scatter\":[{\"fillpattern\":{\"fillmode\":\"overlay\",\"size\":10,\"solidity\":0.2},\"type\":\"scatter\"}],\"parcoords\":[{\"type\":\"parcoords\",\"line\":{\"colorbar\":{\"outlinewidth\":0,\"ticks\":\"\"}}}],\"scatterpolargl\":[{\"type\":\"scatterpolargl\",\"marker\":{\"colorbar\":{\"outlinewidth\":0,\"ticks\":\"\"}}}],\"bar\":[{\"error_x\":{\"color\":\"#2a3f5f\"},\"error_y\":{\"color\":\"#2a3f5f\"},\"marker\":{\"line\":{\"color\":\"#E5ECF6\",\"width\":0.5},\"pattern\":{\"fillmode\":\"overlay\",\"size\":10,\"solidity\":0.2}},\"type\":\"bar\"}],\"scattergeo\":[{\"type\":\"scattergeo\",\"marker\":{\"colorbar\":{\"outlinewidth\":0,\"ticks\":\"\"}}}],\"scatterpolar\":[{\"type\":\"scatterpolar\",\"marker\":{\"colorbar\":{\"outlinewidth\":0,\"ticks\":\"\"}}}],\"histogram\":[{\"marker\":{\"pattern\":{\"fillmode\":\"overlay\",\"size\":10,\"solidity\":0.2}},\"type\":\"histogram\"}],\"scattergl\":[{\"type\":\"scattergl\",\"marker\":{\"colorbar\":{\"outlinewidth\":0,\"ticks\":\"\"}}}],\"scatter3d\":[{\"type\":\"scatter3d\",\"line\":{\"colorbar\":{\"outlinewidth\":0,\"ticks\":\"\"}},\"marker\":{\"colorbar\":{\"outlinewidth\":0,\"ticks\":\"\"}}}],\"scattermapbox\":[{\"type\":\"scattermapbox\",\"marker\":{\"colorbar\":{\"outlinewidth\":0,\"ticks\":\"\"}}}],\"scatterternary\":[{\"type\":\"scatterternary\",\"marker\":{\"colorbar\":{\"outlinewidth\":0,\"ticks\":\"\"}}}],\"scattercarpet\":[{\"type\":\"scattercarpet\",\"marker\":{\"colorbar\":{\"outlinewidth\":0,\"ticks\":\"\"}}}],\"carpet\":[{\"aaxis\":{\"endlinecolor\":\"#2a3f5f\",\"gridcolor\":\"white\",\"linecolor\":\"white\",\"minorgridcolor\":\"white\",\"startlinecolor\":\"#2a3f5f\"},\"baxis\":{\"endlinecolor\":\"#2a3f5f\",\"gridcolor\":\"white\",\"linecolor\":\"white\",\"minorgridcolor\":\"white\",\"startlinecolor\":\"#2a3f5f\"},\"type\":\"carpet\"}],\"table\":[{\"cells\":{\"fill\":{\"color\":\"#EBF0F8\"},\"line\":{\"color\":\"white\"}},\"header\":{\"fill\":{\"color\":\"#C8D4E3\"},\"line\":{\"color\":\"white\"}},\"type\":\"table\"}],\"barpolar\":[{\"marker\":{\"line\":{\"color\":\"#E5ECF6\",\"width\":0.5},\"pattern\":{\"fillmode\":\"overlay\",\"size\":10,\"solidity\":0.2}},\"type\":\"barpolar\"}],\"pie\":[{\"automargin\":true,\"type\":\"pie\"}]},\"layout\":{\"autotypenumbers\":\"strict\",\"colorway\":[\"#636efa\",\"#EF553B\",\"#00cc96\",\"#ab63fa\",\"#FFA15A\",\"#19d3f3\",\"#FF6692\",\"#B6E880\",\"#FF97FF\",\"#FECB52\"],\"font\":{\"color\":\"#2a3f5f\"},\"hovermode\":\"closest\",\"hoverlabel\":{\"align\":\"left\"},\"paper_bgcolor\":\"white\",\"plot_bgcolor\":\"#E5ECF6\",\"polar\":{\"bgcolor\":\"#E5ECF6\",\"angularaxis\":{\"gridcolor\":\"white\",\"linecolor\":\"white\",\"ticks\":\"\"},\"radialaxis\":{\"gridcolor\":\"white\",\"linecolor\":\"white\",\"ticks\":\"\"}},\"ternary\":{\"bgcolor\":\"#E5ECF6\",\"aaxis\":{\"gridcolor\":\"white\",\"linecolor\":\"white\",\"ticks\":\"\"},\"baxis\":{\"gridcolor\":\"white\",\"linecolor\":\"white\",\"ticks\":\"\"},\"caxis\":{\"gridcolor\":\"white\",\"linecolor\":\"white\",\"ticks\":\"\"}},\"coloraxis\":{\"colorbar\":{\"outlinewidth\":0,\"ticks\":\"\"}},\"colorscale\":{\"sequential\":[[0.0,\"#0d0887\"],[0.1111111111111111,\"#46039f\"],[0.2222222222222222,\"#7201a8\"],[0.3333333333333333,\"#9c179e\"],[0.4444444444444444,\"#bd3786\"],[0.5555555555555556,\"#d8576b\"],[0.6666666666666666,\"#ed7953\"],[0.7777777777777778,\"#fb9f3a\"],[0.8888888888888888,\"#fdca26\"],[1.0,\"#f0f921\"]],\"sequentialminus\":[[0.0,\"#0d0887\"],[0.1111111111111111,\"#46039f\"],[0.2222222222222222,\"#7201a8\"],[0.3333333333333333,\"#9c179e\"],[0.4444444444444444,\"#bd3786\"],[0.5555555555555556,\"#d8576b\"],[0.6666666666666666,\"#ed7953\"],[0.7777777777777778,\"#fb9f3a\"],[0.8888888888888888,\"#fdca26\"],[1.0,\"#f0f921\"]],\"diverging\":[[0,\"#8e0152\"],[0.1,\"#c51b7d\"],[0.2,\"#de77ae\"],[0.3,\"#f1b6da\"],[0.4,\"#fde0ef\"],[0.5,\"#f7f7f7\"],[0.6,\"#e6f5d0\"],[0.7,\"#b8e186\"],[0.8,\"#7fbc41\"],[0.9,\"#4d9221\"],[1,\"#276419\"]]},\"xaxis\":{\"gridcolor\":\"white\",\"linecolor\":\"white\",\"ticks\":\"\",\"title\":{\"standoff\":15},\"zerolinecolor\":\"white\",\"automargin\":true,\"zerolinewidth\":2},\"yaxis\":{\"gridcolor\":\"white\",\"linecolor\":\"white\",\"ticks\":\"\",\"title\":{\"standoff\":15},\"zerolinecolor\":\"white\",\"automargin\":true,\"zerolinewidth\":2},\"scene\":{\"xaxis\":{\"backgroundcolor\":\"#E5ECF6\",\"gridcolor\":\"white\",\"linecolor\":\"white\",\"showbackground\":true,\"ticks\":\"\",\"zerolinecolor\":\"white\",\"gridwidth\":2},\"yaxis\":{\"backgroundcolor\":\"#E5ECF6\",\"gridcolor\":\"white\",\"linecolor\":\"white\",\"showbackground\":true,\"ticks\":\"\",\"zerolinecolor\":\"white\",\"gridwidth\":2},\"zaxis\":{\"backgroundcolor\":\"#E5ECF6\",\"gridcolor\":\"white\",\"linecolor\":\"white\",\"showbackground\":true,\"ticks\":\"\",\"zerolinecolor\":\"white\",\"gridwidth\":2}},\"shapedefaults\":{\"line\":{\"color\":\"#2a3f5f\"}},\"annotationdefaults\":{\"arrowcolor\":\"#2a3f5f\",\"arrowhead\":0,\"arrowwidth\":1},\"geo\":{\"bgcolor\":\"white\",\"landcolor\":\"#E5ECF6\",\"subunitcolor\":\"white\",\"showland\":true,\"showlakes\":true,\"lakecolor\":\"white\"},\"title\":{\"x\":0.05},\"mapbox\":{\"style\":\"light\"}}},\"xaxis\":{\"anchor\":\"y\",\"domain\":[0.0,1.0],\"title\":{\"text\":\"Area\"}},\"yaxis\":{\"anchor\":\"x\",\"domain\":[0.0,1.0],\"title\":{\"text\":\"Count\"}},\"legend\":{\"title\":{\"text\":\"Fuel Type\"},\"tracegroupgap\":0},\"title\":{\"text\":\"Petrol Station Distribution in relation to it's Area\"},\"barmode\":\"group\",\"height\":800,\"width\":2000},                        {\"responsive\": true}                    ).then(function(){\n",
       "                            \n",
       "var gd = document.getElementById('7635301f-586c-4429-a6db-7db664eaef6f');\n",
       "var x = new MutationObserver(function (mutations, observer) {{\n",
       "        var display = window.getComputedStyle(gd).display;\n",
       "        if (!display || display === 'none') {{\n",
       "            console.log([gd, 'removed!']);\n",
       "            Plotly.purge(gd);\n",
       "            observer.disconnect();\n",
       "        }}\n",
       "}});\n",
       "\n",
       "// Listen for the removal of the full notebook cells\n",
       "var notebookContainer = gd.closest('#notebook-container');\n",
       "if (notebookContainer) {{\n",
       "    x.observe(notebookContainer, {childList: true});\n",
       "}}\n",
       "\n",
       "// Listen for the clearing of the current output cell\n",
       "var outputEl = gd.closest('.output');\n",
       "if (outputEl) {{\n",
       "    x.observe(outputEl, {childList: true});\n",
       "}}\n",
       "\n",
       "                        })                };                });            </script>        </div>"
      ]
     },
     "metadata": {},
     "output_type": "display_data"
    }
   ],
   "source": [
    "#Fuel Type vs Area\n",
    "fuel_station=petrol_data.loc[:,[\"Fuel Type\",\"Area\"]].groupby([\"Fuel Type\",\"Area\"]).size().reset_index()\n",
    "fuel_station.columns=[\"Fuel Type\",\"Area\",\"Count\"]\n",
    "fig=px.bar(fuel_station,x='Area',y='Count',color=\"Fuel Type\",\n",
    "          barmode='group',title=\"Petrol Station Distribution in relation to it's Area\",\n",
    "          height=800,width=2000)\n",
    "fig.update_traces(marker_line_color='rgb(9,50,100)',marker_line_width=1.5,opacity=0.8)\n",
    "fig.show()"
   ]
  },
  {
   "cell_type": "markdown",
   "id": "00f7323b",
   "metadata": {
    "papermill": {
     "duration": 0.053656,
     "end_time": "2022-05-03T19:51:38.706406",
     "exception": false,
     "start_time": "2022-05-03T19:51:38.652750",
     "status": "completed"
    },
    "tags": []
   },
   "source": [
    "Karen are reported high availability of both Super&Diesel fuel type,followed by Nairobi's CBD area,Westlands area ,Hurlingham,Langata,Ruiru and Ruaka areas respectively.\n",
    "\n",
    "Petrol stations with only super/petrol were found in areas such as Gikomba,Joska,Kenyatta University,Kongowea,Mihango,Nanyuki,Racecourse,Zimmerman,Githunguri,Kahawest,Kangemi,Kwa Ng'ethe,Machakos,Nyayo stadium and Parklands."
   ]
  },
  {
   "cell_type": "markdown",
   "id": "76d1ad41",
   "metadata": {
    "papermill": {
     "duration": 0.053479,
     "end_time": "2022-05-03T19:51:38.814131",
     "exception": false,
     "start_time": "2022-05-03T19:51:38.760652",
     "status": "completed"
    },
    "tags": []
   },
   "source": [
    "### Petrol Station fuel availability in relation to the Road"
   ]
  },
  {
   "cell_type": "code",
   "execution_count": 17,
   "id": "c5f36e0c",
   "metadata": {
    "execution": {
     "iopub.execute_input": "2022-05-03T19:51:38.923862Z",
     "iopub.status.busy": "2022-05-03T19:51:38.923295Z",
     "iopub.status.idle": "2022-05-03T19:51:39.067060Z",
     "shell.execute_reply": "2022-05-03T19:51:39.066196Z"
    },
    "papermill": {
     "duration": 0.201143,
     "end_time": "2022-05-03T19:51:39.069175",
     "exception": false,
     "start_time": "2022-05-03T19:51:38.868032",
     "status": "completed"
    },
    "tags": []
   },
   "outputs": [
    {
     "data": {
      "application/vnd.plotly.v1+json": {
       "config": {
        "plotlyServerURL": "https://plot.ly"
       },
       "data": [
        {
         "alignmentgroup": "True",
         "hovertemplate": "Station= Astrol <br>Road=%{x}<br>Count=%{y}<extra></extra>",
         "legendgroup": " Astrol ",
         "marker": {
          "color": "#636efa",
          "line": {
           "color": "rgb(9,50,100)",
           "width": 1.5
          },
          "pattern": {
           "shape": ""
          }
         },
         "name": " Astrol ",
         "offsetgroup": " Astrol ",
         "opacity": 0.8,
         "orientation": "v",
         "showlegend": true,
         "textposition": "auto",
         "type": "bar",
         "x": [
          " Airport North rd ",
          " Eastern Bypass rd ",
          " Kiambu rd "
         ],
         "xaxis": "x",
         "y": [
          1,
          2,
          1
         ],
         "yaxis": "y"
        },
        {
         "alignmentgroup": "True",
         "hovertemplate": "Station= Delta <br>Road=%{x}<br>Count=%{y}<extra></extra>",
         "legendgroup": " Delta ",
         "marker": {
          "color": "#EF553B",
          "line": {
           "color": "rgb(9,50,100)",
           "width": 1.5
          },
          "pattern": {
           "shape": ""
          }
         },
         "name": " Delta ",
         "offsetgroup": " Delta ",
         "opacity": 0.8,
         "orientation": "v",
         "showlegend": true,
         "textposition": "auto",
         "type": "bar",
         "x": [
          " Eastern Bypass rd ",
          " Limuru rd ",
          " Magadi rd ",
          " Naivasha rd ",
          " Thika rd ",
          "Magadi rd",
          "Makutano-Kitui Rd"
         ],
         "xaxis": "x",
         "y": [
          1,
          1,
          2,
          1,
          2,
          1,
          1
         ],
         "yaxis": "y"
        },
        {
         "alignmentgroup": "True",
         "hovertemplate": "Station= Gulf <br>Road=%{x}<br>Count=%{y}<extra></extra>",
         "legendgroup": " Gulf ",
         "marker": {
          "color": "#00cc96",
          "line": {
           "color": "rgb(9,50,100)",
           "width": 1.5
          },
          "pattern": {
           "shape": ""
          }
         },
         "name": " Gulf ",
         "offsetgroup": " Gulf ",
         "opacity": 0.8,
         "orientation": "v",
         "showlegend": true,
         "textposition": "auto",
         "type": "bar",
         "x": [
          " George Morara rd",
          " Limuru rd "
         ],
         "xaxis": "x",
         "y": [
          1,
          1
         ],
         "yaxis": "y"
        },
        {
         "alignmentgroup": "True",
         "hovertemplate": "Station= Hass <br>Road=%{x}<br>Count=%{y}<extra></extra>",
         "legendgroup": " Hass ",
         "marker": {
          "color": "#ab63fa",
          "line": {
           "color": "rgb(9,50,100)",
           "width": 1.5
          },
          "pattern": {
           "shape": ""
          }
         },
         "name": " Hass ",
         "offsetgroup": " Hass ",
         "opacity": 0.8,
         "orientation": "v",
         "showlegend": true,
         "textposition": "auto",
         "type": "bar",
         "x": [
          " Kasarani Mwiki rd ",
          " Langata rd ",
          " Magadi rd ",
          "Nyeri Nanyuki rd"
         ],
         "xaxis": "x",
         "y": [
          1,
          4,
          1,
          1
         ],
         "yaxis": "y"
        },
        {
         "alignmentgroup": "True",
         "hovertemplate": "Station= Kobil <br>Road=%{x}<br>Count=%{y}<extra></extra>",
         "legendgroup": " Kobil ",
         "marker": {
          "color": "#FFA15A",
          "line": {
           "color": "rgb(9,50,100)",
           "width": 1.5
          },
          "pattern": {
           "shape": ""
          }
         },
         "name": " Kobil ",
         "offsetgroup": " Kobil ",
         "opacity": 0.8,
         "orientation": "v",
         "showlegend": true,
         "textposition": "auto",
         "type": "bar",
         "x": [
          " Kikuyu rd "
         ],
         "xaxis": "x",
         "y": [
          2
         ],
         "yaxis": "y"
        },
        {
         "alignmentgroup": "True",
         "hovertemplate": "Station= Lexo <br>Road=%{x}<br>Count=%{y}<extra></extra>",
         "legendgroup": " Lexo ",
         "marker": {
          "color": "#19d3f3",
          "line": {
           "color": "rgb(9,50,100)",
           "width": 1.5
          },
          "pattern": {
           "shape": ""
          }
         },
         "name": " Lexo ",
         "offsetgroup": " Lexo ",
         "opacity": 0.8,
         "orientation": "v",
         "showlegend": true,
         "textposition": "auto",
         "type": "bar",
         "x": [
          " Nairobi - Nakuru rd A104 ",
          " Ngong rd "
         ],
         "xaxis": "x",
         "y": [
          1,
          1
         ],
         "yaxis": "y"
        },
        {
         "alignmentgroup": "True",
         "hovertemplate": "Station= Luqman <br>Road=%{x}<br>Count=%{y}<extra></extra>",
         "legendgroup": " Luqman ",
         "marker": {
          "color": "#FF6692",
          "line": {
           "color": "rgb(9,50,100)",
           "width": 1.5
          },
          "pattern": {
           "shape": ""
          }
         },
         "name": " Luqman ",
         "offsetgroup": " Luqman ",
         "opacity": 0.8,
         "orientation": "v",
         "showlegend": true,
         "textposition": "auto",
         "type": "bar",
         "x": [
          " Langata rd ",
          " Mombasa rd ",
          " Outering rd "
         ],
         "xaxis": "x",
         "y": [
          2,
          3,
          1
         ],
         "yaxis": "y"
        },
        {
         "alignmentgroup": "True",
         "hovertemplate": "Station= National Oil <br>Road=%{x}<br>Count=%{y}<extra></extra>",
         "legendgroup": " National Oil ",
         "marker": {
          "color": "#B6E880",
          "line": {
           "color": "rgb(9,50,100)",
           "width": 1.5
          },
          "pattern": {
           "shape": ""
          }
         },
         "name": " National Oil ",
         "offsetgroup": " National Oil ",
         "opacity": 0.8,
         "orientation": "v",
         "showlegend": true,
         "textposition": "auto",
         "type": "bar",
         "x": [
          " Haile Selassie ave ",
          " Langata rd ",
          " Moi ave ",
          " Ngong rd "
         ],
         "xaxis": "x",
         "y": [
          5,
          1,
          1,
          1
         ],
         "yaxis": "y"
        },
        {
         "alignmentgroup": "True",
         "hovertemplate": "Station= Ola/Oil Libya <br>Road=%{x}<br>Count=%{y}<extra></extra>",
         "legendgroup": " Ola/Oil Libya ",
         "marker": {
          "color": "#FF97FF",
          "line": {
           "color": "rgb(9,50,100)",
           "width": 1.5
          },
          "pattern": {
           "shape": ""
          }
         },
         "name": " Ola/Oil Libya ",
         "offsetgroup": " Ola/Oil Libya ",
         "opacity": 0.8,
         "orientation": "v",
         "showlegend": true,
         "textposition": "auto",
         "type": "bar",
         "x": [
          " Jogoo rd ",
          " Kangundo rd ",
          " Langata rd ",
          " Limuru rd ",
          " Lusaka rd ",
          " Magadi rd ",
          " Moi ave ",
          " Nairobi - Nakuru rd A104 ",
          " Thika rd ",
          " Waiyaki way "
         ],
         "xaxis": "x",
         "y": [
          1,
          3,
          2,
          1,
          1,
          1,
          1,
          1,
          1,
          5
         ],
         "yaxis": "y"
        },
        {
         "alignmentgroup": "True",
         "hovertemplate": "Station= Other (not listed) <br>Road=%{x}<br>Count=%{y}<extra></extra>",
         "legendgroup": " Other (not listed) ",
         "marker": {
          "color": "#FECB52",
          "line": {
           "color": "rgb(9,50,100)",
           "width": 1.5
          },
          "pattern": {
           "shape": ""
          }
         },
         "name": " Other (not listed) ",
         "offsetgroup": " Other (not listed) ",
         "opacity": 0.8,
         "orientation": "v",
         "showlegend": true,
         "textposition": "auto",
         "type": "bar",
         "x": [
          " Kakamega-Webuye Road",
          " Kangundo rd ",
          " Langata rd ",
          " Moi ave ",
          " Mombasa rd ",
          " Nairobi - Nakuru rd A104 ",
          " Northern Bypass rd "
         ],
         "xaxis": "x",
         "y": [
          1,
          1,
          2,
          1,
          1,
          1,
          1
         ],
         "yaxis": "y"
        },
        {
         "alignmentgroup": "True",
         "hovertemplate": "Station= Petrocity <br>Road=%{x}<br>Count=%{y}<extra></extra>",
         "legendgroup": " Petrocity ",
         "marker": {
          "color": "#636efa",
          "line": {
           "color": "rgb(9,50,100)",
           "width": 1.5
          },
          "pattern": {
           "shape": ""
          }
         },
         "name": " Petrocity ",
         "offsetgroup": " Petrocity ",
         "opacity": 0.8,
         "orientation": "v",
         "showlegend": true,
         "textposition": "auto",
         "type": "bar",
         "x": [
          " Limuru rd ",
          " Magadi rd ",
          " Malindi rd ",
          " Mombasa rd ",
          " Ngong rd ",
          " Nyali rd "
         ],
         "xaxis": "x",
         "y": [
          3,
          3,
          1,
          2,
          2,
          2
         ],
         "yaxis": "y"
        },
        {
         "alignmentgroup": "True",
         "hovertemplate": "Station= Riva <br>Road=%{x}<br>Count=%{y}<extra></extra>",
         "legendgroup": " Riva ",
         "marker": {
          "color": "#EF553B",
          "line": {
           "color": "rgb(9,50,100)",
           "width": 1.5
          },
          "pattern": {
           "shape": ""
          }
         },
         "name": " Riva ",
         "offsetgroup": " Riva ",
         "opacity": 0.8,
         "orientation": "v",
         "showlegend": true,
         "textposition": "auto",
         "type": "bar",
         "x": [
          " Waiyaki way "
         ],
         "xaxis": "x",
         "y": [
          2
         ],
         "yaxis": "y"
        },
        {
         "alignmentgroup": "True",
         "hovertemplate": "Station= Rubis <br>Road=%{x}<br>Count=%{y}<extra></extra>",
         "legendgroup": " Rubis ",
         "marker": {
          "color": "#00cc96",
          "line": {
           "color": "rgb(9,50,100)",
           "width": 1.5
          },
          "pattern": {
           "shape": ""
          }
         },
         "name": " Rubis ",
         "offsetgroup": " Rubis ",
         "opacity": 0.8,
         "orientation": "v",
         "showlegend": true,
         "textposition": "auto",
         "type": "bar",
         "x": [
          "  Argwings Kodhek Rd ",
          " Airport North rd ",
          " Dagoretti rd ",
          " Eastern Bypass rd ",
          " Enterprise rd ",
          " James Gichuru rd ",
          " Jogoo rd ",
          " Kamiti rd ",
          " Kangundo rd ",
          " Kasarani Mwiki rd ",
          " Kenyatta Ave",
          " Kikuyu rd ",
          " Koinange St ",
          " Langata rd ",
          " Limuru rd ",
          " Lusaka rd ",
          " Magadi rd ",
          " Malindi rd ",
          " Moi ave ",
          " Mombasa - Malindi Road",
          " Mombasa rd ",
          " Nairobi - Nakuru rd A104 ",
          " Naivasha rd ",
          " Ngong rd ",
          " Northern Bypass rd ",
          " Nyali rd ",
          " Ojijo rd ",
          " Southern Bypass rd ",
          " Thika rd ",
          " Uhuru St",
          " Waiyaki way ",
          " Western Bypass rd "
         ],
         "xaxis": "x",
         "y": [
          14,
          3,
          1,
          2,
          3,
          1,
          5,
          2,
          3,
          1,
          1,
          2,
          1,
          11,
          4,
          4,
          1,
          2,
          1,
          1,
          11,
          2,
          3,
          9,
          1,
          1,
          5,
          1,
          6,
          1,
          2,
          1
         ],
         "yaxis": "y"
        },
        {
         "alignmentgroup": "True",
         "hovertemplate": "Station= Shell <br>Road=%{x}<br>Count=%{y}<extra></extra>",
         "legendgroup": " Shell ",
         "marker": {
          "color": "#ab63fa",
          "line": {
           "color": "rgb(9,50,100)",
           "width": 1.5
          },
          "pattern": {
           "shape": ""
          }
         },
         "name": " Shell ",
         "offsetgroup": " Shell ",
         "opacity": 0.8,
         "orientation": "v",
         "showlegend": true,
         "textposition": "auto",
         "type": "bar",
         "x": [
          "  Argwings Kodhek Rd ",
          " Airport North rd ",
          " Eastern Bypass rd ",
          " Enterprise rd ",
          " James Gichuru rd ",
          " Jogoo rd ",
          " Kakamega-Webuye Road",
          " Kamiti rd ",
          " Kangundo rd ",
          " Kenyatta Ave",
          " Kikuyu rd ",
          " Langata rd ",
          " Lower Kabete rd ",
          " Lumumba rd ",
          " Lusaka rd ",
          " Magadi rd ",
          " Mai Mahiu - Narok rd ",
          " Malindi rd ",
          " Mombasa rd ",
          " Nairobi - Nakuru rd A104 ",
          " Ngong rd ",
          " Northern Bypass rd ",
          " Nyali rd ",
          " Nyeri - Nanyuki rd ",
          " Outering rd ",
          " Parklands rd ",
          " Ring rd parklands ",
          " Thika rd ",
          " Valley Rd Panafric hotel",
          " Valley Rd Panafric hotel ",
          " Waiyaki way ",
          "Eastern Bypass rd ",
          "Embu-Nairobi hway",
          "Ngong rd",
          "Ruiru Kamiti Road"
         ],
         "xaxis": "x",
         "y": [
          4,
          2,
          11,
          3,
          12,
          4,
          1,
          1,
          10,
          5,
          1,
          3,
          1,
          1,
          1,
          2,
          1,
          2,
          9,
          7,
          10,
          4,
          3,
          4,
          2,
          3,
          1,
          16,
          2,
          1,
          15,
          1,
          1,
          2,
          1
         ],
         "yaxis": "y"
        },
        {
         "alignmentgroup": "True",
         "hovertemplate": "Station= Tosha <br>Road=%{x}<br>Count=%{y}<extra></extra>",
         "legendgroup": " Tosha ",
         "marker": {
          "color": "#FFA15A",
          "line": {
           "color": "rgb(9,50,100)",
           "width": 1.5
          },
          "pattern": {
           "shape": ""
          }
         },
         "name": " Tosha ",
         "offsetgroup": " Tosha ",
         "opacity": 0.8,
         "orientation": "v",
         "showlegend": true,
         "textposition": "auto",
         "type": "bar",
         "x": [
          " Gakere str ",
          " Magadi rd ",
          " Waiyaki way "
         ],
         "xaxis": "x",
         "y": [
          1,
          1,
          2
         ],
         "yaxis": "y"
        },
        {
         "alignmentgroup": "True",
         "hovertemplate": "Station= Total <br>Road=%{x}<br>Count=%{y}<extra></extra>",
         "legendgroup": " Total ",
         "marker": {
          "color": "#19d3f3",
          "line": {
           "color": "rgb(9,50,100)",
           "width": 1.5
          },
          "pattern": {
           "shape": ""
          }
         },
         "name": " Total ",
         "offsetgroup": " Total ",
         "opacity": 0.8,
         "orientation": "v",
         "showlegend": true,
         "textposition": "auto",
         "type": "bar",
         "x": [
          "  Argwings Kodhek Rd ",
          " Airport North rd ",
          " Dennis Pritt rd ",
          " Eastern Bypass rd ",
          " Enterprise rd ",
          " James Gichuru rd ",
          " Jogoo rd ",
          " Kakamega-Webuye Road",
          " Kamiti rd ",
          " Kangundo rd ",
          " Kasarani Mwiki rd ",
          " Kenyatta rd ",
          " Kiambu rd ",
          " Kikuyu rd ",
          " Langata rd ",
          " Limuru rd ",
          " Lower Kabete rd ",
          " Lusaka rd ",
          " Magadi rd ",
          " Mai Mahiu - Narok rd ",
          " Makadara rd ",
          " Malindi rd ",
          " Mirema rd ",
          " Mombasa rd ",
          " Nairobi - Nakuru rd A104 ",
          " Ngong rd ",
          " Nyali rd ",
          " Olengruone Ave",
          " Outering rd ",
          " Parklands rd ",
          " Pumwani Rd",
          " Thika rd ",
          " Waiyaki way ",
          "Bamburi - Mtambo Road",
          "Garissa rd",
          "Nyerere Ave"
         ],
         "xaxis": "x",
         "y": [
          2,
          1,
          11,
          2,
          2,
          2,
          2,
          2,
          2,
          7,
          4,
          2,
          5,
          1,
          10,
          21,
          5,
          4,
          3,
          3,
          1,
          1,
          2,
          16,
          6,
          8,
          1,
          5,
          3,
          3,
          1,
          14,
          11,
          1,
          2,
          2
         ],
         "yaxis": "y"
        }
       ],
       "layout": {
        "barmode": "group",
        "height": 500,
        "legend": {
         "title": {
          "text": "Station"
         },
         "tracegroupgap": 0
        },
        "template": {
         "data": {
          "bar": [
           {
            "error_x": {
             "color": "#2a3f5f"
            },
            "error_y": {
             "color": "#2a3f5f"
            },
            "marker": {
             "line": {
              "color": "#E5ECF6",
              "width": 0.5
             },
             "pattern": {
              "fillmode": "overlay",
              "size": 10,
              "solidity": 0.2
             }
            },
            "type": "bar"
           }
          ],
          "barpolar": [
           {
            "marker": {
             "line": {
              "color": "#E5ECF6",
              "width": 0.5
             },
             "pattern": {
              "fillmode": "overlay",
              "size": 10,
              "solidity": 0.2
             }
            },
            "type": "barpolar"
           }
          ],
          "carpet": [
           {
            "aaxis": {
             "endlinecolor": "#2a3f5f",
             "gridcolor": "white",
             "linecolor": "white",
             "minorgridcolor": "white",
             "startlinecolor": "#2a3f5f"
            },
            "baxis": {
             "endlinecolor": "#2a3f5f",
             "gridcolor": "white",
             "linecolor": "white",
             "minorgridcolor": "white",
             "startlinecolor": "#2a3f5f"
            },
            "type": "carpet"
           }
          ],
          "choropleth": [
           {
            "colorbar": {
             "outlinewidth": 0,
             "ticks": ""
            },
            "type": "choropleth"
           }
          ],
          "contour": [
           {
            "colorbar": {
             "outlinewidth": 0,
             "ticks": ""
            },
            "colorscale": [
             [
              0.0,
              "#0d0887"
             ],
             [
              0.1111111111111111,
              "#46039f"
             ],
             [
              0.2222222222222222,
              "#7201a8"
             ],
             [
              0.3333333333333333,
              "#9c179e"
             ],
             [
              0.4444444444444444,
              "#bd3786"
             ],
             [
              0.5555555555555556,
              "#d8576b"
             ],
             [
              0.6666666666666666,
              "#ed7953"
             ],
             [
              0.7777777777777778,
              "#fb9f3a"
             ],
             [
              0.8888888888888888,
              "#fdca26"
             ],
             [
              1.0,
              "#f0f921"
             ]
            ],
            "type": "contour"
           }
          ],
          "contourcarpet": [
           {
            "colorbar": {
             "outlinewidth": 0,
             "ticks": ""
            },
            "type": "contourcarpet"
           }
          ],
          "heatmap": [
           {
            "colorbar": {
             "outlinewidth": 0,
             "ticks": ""
            },
            "colorscale": [
             [
              0.0,
              "#0d0887"
             ],
             [
              0.1111111111111111,
              "#46039f"
             ],
             [
              0.2222222222222222,
              "#7201a8"
             ],
             [
              0.3333333333333333,
              "#9c179e"
             ],
             [
              0.4444444444444444,
              "#bd3786"
             ],
             [
              0.5555555555555556,
              "#d8576b"
             ],
             [
              0.6666666666666666,
              "#ed7953"
             ],
             [
              0.7777777777777778,
              "#fb9f3a"
             ],
             [
              0.8888888888888888,
              "#fdca26"
             ],
             [
              1.0,
              "#f0f921"
             ]
            ],
            "type": "heatmap"
           }
          ],
          "heatmapgl": [
           {
            "colorbar": {
             "outlinewidth": 0,
             "ticks": ""
            },
            "colorscale": [
             [
              0.0,
              "#0d0887"
             ],
             [
              0.1111111111111111,
              "#46039f"
             ],
             [
              0.2222222222222222,
              "#7201a8"
             ],
             [
              0.3333333333333333,
              "#9c179e"
             ],
             [
              0.4444444444444444,
              "#bd3786"
             ],
             [
              0.5555555555555556,
              "#d8576b"
             ],
             [
              0.6666666666666666,
              "#ed7953"
             ],
             [
              0.7777777777777778,
              "#fb9f3a"
             ],
             [
              0.8888888888888888,
              "#fdca26"
             ],
             [
              1.0,
              "#f0f921"
             ]
            ],
            "type": "heatmapgl"
           }
          ],
          "histogram": [
           {
            "marker": {
             "pattern": {
              "fillmode": "overlay",
              "size": 10,
              "solidity": 0.2
             }
            },
            "type": "histogram"
           }
          ],
          "histogram2d": [
           {
            "colorbar": {
             "outlinewidth": 0,
             "ticks": ""
            },
            "colorscale": [
             [
              0.0,
              "#0d0887"
             ],
             [
              0.1111111111111111,
              "#46039f"
             ],
             [
              0.2222222222222222,
              "#7201a8"
             ],
             [
              0.3333333333333333,
              "#9c179e"
             ],
             [
              0.4444444444444444,
              "#bd3786"
             ],
             [
              0.5555555555555556,
              "#d8576b"
             ],
             [
              0.6666666666666666,
              "#ed7953"
             ],
             [
              0.7777777777777778,
              "#fb9f3a"
             ],
             [
              0.8888888888888888,
              "#fdca26"
             ],
             [
              1.0,
              "#f0f921"
             ]
            ],
            "type": "histogram2d"
           }
          ],
          "histogram2dcontour": [
           {
            "colorbar": {
             "outlinewidth": 0,
             "ticks": ""
            },
            "colorscale": [
             [
              0.0,
              "#0d0887"
             ],
             [
              0.1111111111111111,
              "#46039f"
             ],
             [
              0.2222222222222222,
              "#7201a8"
             ],
             [
              0.3333333333333333,
              "#9c179e"
             ],
             [
              0.4444444444444444,
              "#bd3786"
             ],
             [
              0.5555555555555556,
              "#d8576b"
             ],
             [
              0.6666666666666666,
              "#ed7953"
             ],
             [
              0.7777777777777778,
              "#fb9f3a"
             ],
             [
              0.8888888888888888,
              "#fdca26"
             ],
             [
              1.0,
              "#f0f921"
             ]
            ],
            "type": "histogram2dcontour"
           }
          ],
          "mesh3d": [
           {
            "colorbar": {
             "outlinewidth": 0,
             "ticks": ""
            },
            "type": "mesh3d"
           }
          ],
          "parcoords": [
           {
            "line": {
             "colorbar": {
              "outlinewidth": 0,
              "ticks": ""
             }
            },
            "type": "parcoords"
           }
          ],
          "pie": [
           {
            "automargin": true,
            "type": "pie"
           }
          ],
          "scatter": [
           {
            "fillpattern": {
             "fillmode": "overlay",
             "size": 10,
             "solidity": 0.2
            },
            "type": "scatter"
           }
          ],
          "scatter3d": [
           {
            "line": {
             "colorbar": {
              "outlinewidth": 0,
              "ticks": ""
             }
            },
            "marker": {
             "colorbar": {
              "outlinewidth": 0,
              "ticks": ""
             }
            },
            "type": "scatter3d"
           }
          ],
          "scattercarpet": [
           {
            "marker": {
             "colorbar": {
              "outlinewidth": 0,
              "ticks": ""
             }
            },
            "type": "scattercarpet"
           }
          ],
          "scattergeo": [
           {
            "marker": {
             "colorbar": {
              "outlinewidth": 0,
              "ticks": ""
             }
            },
            "type": "scattergeo"
           }
          ],
          "scattergl": [
           {
            "marker": {
             "colorbar": {
              "outlinewidth": 0,
              "ticks": ""
             }
            },
            "type": "scattergl"
           }
          ],
          "scattermapbox": [
           {
            "marker": {
             "colorbar": {
              "outlinewidth": 0,
              "ticks": ""
             }
            },
            "type": "scattermapbox"
           }
          ],
          "scatterpolar": [
           {
            "marker": {
             "colorbar": {
              "outlinewidth": 0,
              "ticks": ""
             }
            },
            "type": "scatterpolar"
           }
          ],
          "scatterpolargl": [
           {
            "marker": {
             "colorbar": {
              "outlinewidth": 0,
              "ticks": ""
             }
            },
            "type": "scatterpolargl"
           }
          ],
          "scatterternary": [
           {
            "marker": {
             "colorbar": {
              "outlinewidth": 0,
              "ticks": ""
             }
            },
            "type": "scatterternary"
           }
          ],
          "surface": [
           {
            "colorbar": {
             "outlinewidth": 0,
             "ticks": ""
            },
            "colorscale": [
             [
              0.0,
              "#0d0887"
             ],
             [
              0.1111111111111111,
              "#46039f"
             ],
             [
              0.2222222222222222,
              "#7201a8"
             ],
             [
              0.3333333333333333,
              "#9c179e"
             ],
             [
              0.4444444444444444,
              "#bd3786"
             ],
             [
              0.5555555555555556,
              "#d8576b"
             ],
             [
              0.6666666666666666,
              "#ed7953"
             ],
             [
              0.7777777777777778,
              "#fb9f3a"
             ],
             [
              0.8888888888888888,
              "#fdca26"
             ],
             [
              1.0,
              "#f0f921"
             ]
            ],
            "type": "surface"
           }
          ],
          "table": [
           {
            "cells": {
             "fill": {
              "color": "#EBF0F8"
             },
             "line": {
              "color": "white"
             }
            },
            "header": {
             "fill": {
              "color": "#C8D4E3"
             },
             "line": {
              "color": "white"
             }
            },
            "type": "table"
           }
          ]
         },
         "layout": {
          "annotationdefaults": {
           "arrowcolor": "#2a3f5f",
           "arrowhead": 0,
           "arrowwidth": 1
          },
          "autotypenumbers": "strict",
          "coloraxis": {
           "colorbar": {
            "outlinewidth": 0,
            "ticks": ""
           }
          },
          "colorscale": {
           "diverging": [
            [
             0,
             "#8e0152"
            ],
            [
             0.1,
             "#c51b7d"
            ],
            [
             0.2,
             "#de77ae"
            ],
            [
             0.3,
             "#f1b6da"
            ],
            [
             0.4,
             "#fde0ef"
            ],
            [
             0.5,
             "#f7f7f7"
            ],
            [
             0.6,
             "#e6f5d0"
            ],
            [
             0.7,
             "#b8e186"
            ],
            [
             0.8,
             "#7fbc41"
            ],
            [
             0.9,
             "#4d9221"
            ],
            [
             1,
             "#276419"
            ]
           ],
           "sequential": [
            [
             0.0,
             "#0d0887"
            ],
            [
             0.1111111111111111,
             "#46039f"
            ],
            [
             0.2222222222222222,
             "#7201a8"
            ],
            [
             0.3333333333333333,
             "#9c179e"
            ],
            [
             0.4444444444444444,
             "#bd3786"
            ],
            [
             0.5555555555555556,
             "#d8576b"
            ],
            [
             0.6666666666666666,
             "#ed7953"
            ],
            [
             0.7777777777777778,
             "#fb9f3a"
            ],
            [
             0.8888888888888888,
             "#fdca26"
            ],
            [
             1.0,
             "#f0f921"
            ]
           ],
           "sequentialminus": [
            [
             0.0,
             "#0d0887"
            ],
            [
             0.1111111111111111,
             "#46039f"
            ],
            [
             0.2222222222222222,
             "#7201a8"
            ],
            [
             0.3333333333333333,
             "#9c179e"
            ],
            [
             0.4444444444444444,
             "#bd3786"
            ],
            [
             0.5555555555555556,
             "#d8576b"
            ],
            [
             0.6666666666666666,
             "#ed7953"
            ],
            [
             0.7777777777777778,
             "#fb9f3a"
            ],
            [
             0.8888888888888888,
             "#fdca26"
            ],
            [
             1.0,
             "#f0f921"
            ]
           ]
          },
          "colorway": [
           "#636efa",
           "#EF553B",
           "#00cc96",
           "#ab63fa",
           "#FFA15A",
           "#19d3f3",
           "#FF6692",
           "#B6E880",
           "#FF97FF",
           "#FECB52"
          ],
          "font": {
           "color": "#2a3f5f"
          },
          "geo": {
           "bgcolor": "white",
           "lakecolor": "white",
           "landcolor": "#E5ECF6",
           "showlakes": true,
           "showland": true,
           "subunitcolor": "white"
          },
          "hoverlabel": {
           "align": "left"
          },
          "hovermode": "closest",
          "mapbox": {
           "style": "light"
          },
          "paper_bgcolor": "white",
          "plot_bgcolor": "#E5ECF6",
          "polar": {
           "angularaxis": {
            "gridcolor": "white",
            "linecolor": "white",
            "ticks": ""
           },
           "bgcolor": "#E5ECF6",
           "radialaxis": {
            "gridcolor": "white",
            "linecolor": "white",
            "ticks": ""
           }
          },
          "scene": {
           "xaxis": {
            "backgroundcolor": "#E5ECF6",
            "gridcolor": "white",
            "gridwidth": 2,
            "linecolor": "white",
            "showbackground": true,
            "ticks": "",
            "zerolinecolor": "white"
           },
           "yaxis": {
            "backgroundcolor": "#E5ECF6",
            "gridcolor": "white",
            "gridwidth": 2,
            "linecolor": "white",
            "showbackground": true,
            "ticks": "",
            "zerolinecolor": "white"
           },
           "zaxis": {
            "backgroundcolor": "#E5ECF6",
            "gridcolor": "white",
            "gridwidth": 2,
            "linecolor": "white",
            "showbackground": true,
            "ticks": "",
            "zerolinecolor": "white"
           }
          },
          "shapedefaults": {
           "line": {
            "color": "#2a3f5f"
           }
          },
          "ternary": {
           "aaxis": {
            "gridcolor": "white",
            "linecolor": "white",
            "ticks": ""
           },
           "baxis": {
            "gridcolor": "white",
            "linecolor": "white",
            "ticks": ""
           },
           "bgcolor": "#E5ECF6",
           "caxis": {
            "gridcolor": "white",
            "linecolor": "white",
            "ticks": ""
           }
          },
          "title": {
           "x": 0.05
          },
          "xaxis": {
           "automargin": true,
           "gridcolor": "white",
           "linecolor": "white",
           "ticks": "",
           "title": {
            "standoff": 15
           },
           "zerolinecolor": "white",
           "zerolinewidth": 2
          },
          "yaxis": {
           "automargin": true,
           "gridcolor": "white",
           "linecolor": "white",
           "ticks": "",
           "title": {
            "standoff": 15
           },
           "zerolinecolor": "white",
           "zerolinewidth": 2
          }
         }
        },
        "title": {
         "text": "Petrol Station fuel availability vs Reported Road"
        },
        "width": 3100,
        "xaxis": {
         "anchor": "y",
         "domain": [
          0.0,
          1.0
         ],
         "title": {
          "text": "Road"
         }
        },
        "yaxis": {
         "anchor": "x",
         "domain": [
          0.0,
          1.0
         ],
         "title": {
          "text": "Count"
         }
        }
       }
      },
      "text/html": [
       "<div>                            <div id=\"abdaaf88-f048-4fad-8b93-3a28cefd76e8\" class=\"plotly-graph-div\" style=\"height:500px; width:3100px;\"></div>            <script type=\"text/javascript\">                require([\"plotly\"], function(Plotly) {                    window.PLOTLYENV=window.PLOTLYENV || {};                                    if (document.getElementById(\"abdaaf88-f048-4fad-8b93-3a28cefd76e8\")) {                    Plotly.newPlot(                        \"abdaaf88-f048-4fad-8b93-3a28cefd76e8\",                        [{\"alignmentgroup\":\"True\",\"hovertemplate\":\"Station= Astrol <br>Road=%{x}<br>Count=%{y}<extra></extra>\",\"legendgroup\":\" Astrol \",\"marker\":{\"color\":\"#636efa\",\"pattern\":{\"shape\":\"\"},\"line\":{\"color\":\"rgb(9,50,100)\",\"width\":1.5}},\"name\":\" Astrol \",\"offsetgroup\":\" Astrol \",\"orientation\":\"v\",\"showlegend\":true,\"textposition\":\"auto\",\"x\":[\" Airport North rd \",\" Eastern Bypass rd \",\" Kiambu rd \"],\"xaxis\":\"x\",\"y\":[1,2,1],\"yaxis\":\"y\",\"type\":\"bar\",\"opacity\":0.8},{\"alignmentgroup\":\"True\",\"hovertemplate\":\"Station= Delta <br>Road=%{x}<br>Count=%{y}<extra></extra>\",\"legendgroup\":\" Delta \",\"marker\":{\"color\":\"#EF553B\",\"pattern\":{\"shape\":\"\"},\"line\":{\"color\":\"rgb(9,50,100)\",\"width\":1.5}},\"name\":\" Delta \",\"offsetgroup\":\" Delta \",\"orientation\":\"v\",\"showlegend\":true,\"textposition\":\"auto\",\"x\":[\" Eastern Bypass rd \",\" Limuru rd \",\" Magadi rd \",\" Naivasha rd \",\" Thika rd \",\"Magadi rd\",\"Makutano-Kitui Rd\"],\"xaxis\":\"x\",\"y\":[1,1,2,1,2,1,1],\"yaxis\":\"y\",\"type\":\"bar\",\"opacity\":0.8},{\"alignmentgroup\":\"True\",\"hovertemplate\":\"Station= Gulf <br>Road=%{x}<br>Count=%{y}<extra></extra>\",\"legendgroup\":\" Gulf \",\"marker\":{\"color\":\"#00cc96\",\"pattern\":{\"shape\":\"\"},\"line\":{\"color\":\"rgb(9,50,100)\",\"width\":1.5}},\"name\":\" Gulf \",\"offsetgroup\":\" Gulf \",\"orientation\":\"v\",\"showlegend\":true,\"textposition\":\"auto\",\"x\":[\" George Morara rd\",\" Limuru rd \"],\"xaxis\":\"x\",\"y\":[1,1],\"yaxis\":\"y\",\"type\":\"bar\",\"opacity\":0.8},{\"alignmentgroup\":\"True\",\"hovertemplate\":\"Station= Hass <br>Road=%{x}<br>Count=%{y}<extra></extra>\",\"legendgroup\":\" Hass \",\"marker\":{\"color\":\"#ab63fa\",\"pattern\":{\"shape\":\"\"},\"line\":{\"color\":\"rgb(9,50,100)\",\"width\":1.5}},\"name\":\" Hass \",\"offsetgroup\":\" Hass \",\"orientation\":\"v\",\"showlegend\":true,\"textposition\":\"auto\",\"x\":[\" Kasarani Mwiki rd \",\" Langata rd \",\" Magadi rd \",\"Nyeri Nanyuki rd\"],\"xaxis\":\"x\",\"y\":[1,4,1,1],\"yaxis\":\"y\",\"type\":\"bar\",\"opacity\":0.8},{\"alignmentgroup\":\"True\",\"hovertemplate\":\"Station= Kobil <br>Road=%{x}<br>Count=%{y}<extra></extra>\",\"legendgroup\":\" Kobil \",\"marker\":{\"color\":\"#FFA15A\",\"pattern\":{\"shape\":\"\"},\"line\":{\"color\":\"rgb(9,50,100)\",\"width\":1.5}},\"name\":\" Kobil \",\"offsetgroup\":\" Kobil \",\"orientation\":\"v\",\"showlegend\":true,\"textposition\":\"auto\",\"x\":[\" Kikuyu rd \"],\"xaxis\":\"x\",\"y\":[2],\"yaxis\":\"y\",\"type\":\"bar\",\"opacity\":0.8},{\"alignmentgroup\":\"True\",\"hovertemplate\":\"Station= Lexo <br>Road=%{x}<br>Count=%{y}<extra></extra>\",\"legendgroup\":\" Lexo \",\"marker\":{\"color\":\"#19d3f3\",\"pattern\":{\"shape\":\"\"},\"line\":{\"color\":\"rgb(9,50,100)\",\"width\":1.5}},\"name\":\" Lexo \",\"offsetgroup\":\" Lexo \",\"orientation\":\"v\",\"showlegend\":true,\"textposition\":\"auto\",\"x\":[\" Nairobi - Nakuru rd A104 \",\" Ngong rd \"],\"xaxis\":\"x\",\"y\":[1,1],\"yaxis\":\"y\",\"type\":\"bar\",\"opacity\":0.8},{\"alignmentgroup\":\"True\",\"hovertemplate\":\"Station= Luqman <br>Road=%{x}<br>Count=%{y}<extra></extra>\",\"legendgroup\":\" Luqman \",\"marker\":{\"color\":\"#FF6692\",\"pattern\":{\"shape\":\"\"},\"line\":{\"color\":\"rgb(9,50,100)\",\"width\":1.5}},\"name\":\" Luqman \",\"offsetgroup\":\" Luqman \",\"orientation\":\"v\",\"showlegend\":true,\"textposition\":\"auto\",\"x\":[\" Langata rd \",\" Mombasa rd \",\" Outering rd \"],\"xaxis\":\"x\",\"y\":[2,3,1],\"yaxis\":\"y\",\"type\":\"bar\",\"opacity\":0.8},{\"alignmentgroup\":\"True\",\"hovertemplate\":\"Station= National Oil <br>Road=%{x}<br>Count=%{y}<extra></extra>\",\"legendgroup\":\" National Oil \",\"marker\":{\"color\":\"#B6E880\",\"pattern\":{\"shape\":\"\"},\"line\":{\"color\":\"rgb(9,50,100)\",\"width\":1.5}},\"name\":\" National Oil \",\"offsetgroup\":\" National Oil \",\"orientation\":\"v\",\"showlegend\":true,\"textposition\":\"auto\",\"x\":[\" Haile Selassie ave \",\" Langata rd \",\" Moi ave \",\" Ngong rd \"],\"xaxis\":\"x\",\"y\":[5,1,1,1],\"yaxis\":\"y\",\"type\":\"bar\",\"opacity\":0.8},{\"alignmentgroup\":\"True\",\"hovertemplate\":\"Station= Ola/Oil Libya <br>Road=%{x}<br>Count=%{y}<extra></extra>\",\"legendgroup\":\" Ola/Oil Libya \",\"marker\":{\"color\":\"#FF97FF\",\"pattern\":{\"shape\":\"\"},\"line\":{\"color\":\"rgb(9,50,100)\",\"width\":1.5}},\"name\":\" Ola/Oil Libya \",\"offsetgroup\":\" Ola/Oil Libya \",\"orientation\":\"v\",\"showlegend\":true,\"textposition\":\"auto\",\"x\":[\" Jogoo rd \",\" Kangundo rd \",\" Langata rd \",\" Limuru rd \",\" Lusaka rd \",\" Magadi rd \",\" Moi ave \",\" Nairobi - Nakuru rd A104 \",\" Thika rd \",\" Waiyaki way \"],\"xaxis\":\"x\",\"y\":[1,3,2,1,1,1,1,1,1,5],\"yaxis\":\"y\",\"type\":\"bar\",\"opacity\":0.8},{\"alignmentgroup\":\"True\",\"hovertemplate\":\"Station= Other (not listed) <br>Road=%{x}<br>Count=%{y}<extra></extra>\",\"legendgroup\":\" Other (not listed) \",\"marker\":{\"color\":\"#FECB52\",\"pattern\":{\"shape\":\"\"},\"line\":{\"color\":\"rgb(9,50,100)\",\"width\":1.5}},\"name\":\" Other (not listed) \",\"offsetgroup\":\" Other (not listed) \",\"orientation\":\"v\",\"showlegend\":true,\"textposition\":\"auto\",\"x\":[\" Kakamega-Webuye Road\",\" Kangundo rd \",\" Langata rd \",\" Moi ave \",\" Mombasa rd \",\" Nairobi - Nakuru rd A104 \",\" Northern Bypass rd \"],\"xaxis\":\"x\",\"y\":[1,1,2,1,1,1,1],\"yaxis\":\"y\",\"type\":\"bar\",\"opacity\":0.8},{\"alignmentgroup\":\"True\",\"hovertemplate\":\"Station= Petrocity <br>Road=%{x}<br>Count=%{y}<extra></extra>\",\"legendgroup\":\" Petrocity \",\"marker\":{\"color\":\"#636efa\",\"pattern\":{\"shape\":\"\"},\"line\":{\"color\":\"rgb(9,50,100)\",\"width\":1.5}},\"name\":\" Petrocity \",\"offsetgroup\":\" Petrocity \",\"orientation\":\"v\",\"showlegend\":true,\"textposition\":\"auto\",\"x\":[\" Limuru rd \",\" Magadi rd \",\" Malindi rd \",\" Mombasa rd \",\" Ngong rd \",\" Nyali rd \"],\"xaxis\":\"x\",\"y\":[3,3,1,2,2,2],\"yaxis\":\"y\",\"type\":\"bar\",\"opacity\":0.8},{\"alignmentgroup\":\"True\",\"hovertemplate\":\"Station= Riva <br>Road=%{x}<br>Count=%{y}<extra></extra>\",\"legendgroup\":\" Riva \",\"marker\":{\"color\":\"#EF553B\",\"pattern\":{\"shape\":\"\"},\"line\":{\"color\":\"rgb(9,50,100)\",\"width\":1.5}},\"name\":\" Riva \",\"offsetgroup\":\" Riva \",\"orientation\":\"v\",\"showlegend\":true,\"textposition\":\"auto\",\"x\":[\" Waiyaki way \"],\"xaxis\":\"x\",\"y\":[2],\"yaxis\":\"y\",\"type\":\"bar\",\"opacity\":0.8},{\"alignmentgroup\":\"True\",\"hovertemplate\":\"Station= Rubis <br>Road=%{x}<br>Count=%{y}<extra></extra>\",\"legendgroup\":\" Rubis \",\"marker\":{\"color\":\"#00cc96\",\"pattern\":{\"shape\":\"\"},\"line\":{\"color\":\"rgb(9,50,100)\",\"width\":1.5}},\"name\":\" Rubis \",\"offsetgroup\":\" Rubis \",\"orientation\":\"v\",\"showlegend\":true,\"textposition\":\"auto\",\"x\":[\"  Argwings Kodhek Rd \",\" Airport North rd \",\" Dagoretti rd \",\" Eastern Bypass rd \",\" Enterprise rd \",\" James Gichuru rd \",\" Jogoo rd \",\" Kamiti rd \",\" Kangundo rd \",\" Kasarani Mwiki rd \",\" Kenyatta Ave\",\" Kikuyu rd \",\" Koinange St \",\" Langata rd \",\" Limuru rd \",\" Lusaka rd \",\" Magadi rd \",\" Malindi rd \",\" Moi ave \",\" Mombasa - Malindi Road\",\" Mombasa rd \",\" Nairobi - Nakuru rd A104 \",\" Naivasha rd \",\" Ngong rd \",\" Northern Bypass rd \",\" Nyali rd \",\" Ojijo rd \",\" Southern Bypass rd \",\" Thika rd \",\" Uhuru St\",\" Waiyaki way \",\" Western Bypass rd \"],\"xaxis\":\"x\",\"y\":[14,3,1,2,3,1,5,2,3,1,1,2,1,11,4,4,1,2,1,1,11,2,3,9,1,1,5,1,6,1,2,1],\"yaxis\":\"y\",\"type\":\"bar\",\"opacity\":0.8},{\"alignmentgroup\":\"True\",\"hovertemplate\":\"Station= Shell <br>Road=%{x}<br>Count=%{y}<extra></extra>\",\"legendgroup\":\" Shell \",\"marker\":{\"color\":\"#ab63fa\",\"pattern\":{\"shape\":\"\"},\"line\":{\"color\":\"rgb(9,50,100)\",\"width\":1.5}},\"name\":\" Shell \",\"offsetgroup\":\" Shell \",\"orientation\":\"v\",\"showlegend\":true,\"textposition\":\"auto\",\"x\":[\"  Argwings Kodhek Rd \",\" Airport North rd \",\" Eastern Bypass rd \",\" Enterprise rd \",\" James Gichuru rd \",\" Jogoo rd \",\" Kakamega-Webuye Road\",\" Kamiti rd \",\" Kangundo rd \",\" Kenyatta Ave\",\" Kikuyu rd \",\" Langata rd \",\" Lower Kabete rd \",\" Lumumba rd \",\" Lusaka rd \",\" Magadi rd \",\" Mai Mahiu - Narok rd \",\" Malindi rd \",\" Mombasa rd \",\" Nairobi - Nakuru rd A104 \",\" Ngong rd \",\" Northern Bypass rd \",\" Nyali rd \",\" Nyeri - Nanyuki rd \",\" Outering rd \",\" Parklands rd \",\" Ring rd parklands \",\" Thika rd \",\" Valley Rd Panafric hotel\",\" Valley Rd Panafric hotel \",\" Waiyaki way \",\"Eastern Bypass rd \",\"Embu-Nairobi hway\",\"Ngong rd\",\"Ruiru Kamiti Road\"],\"xaxis\":\"x\",\"y\":[4,2,11,3,12,4,1,1,10,5,1,3,1,1,1,2,1,2,9,7,10,4,3,4,2,3,1,16,2,1,15,1,1,2,1],\"yaxis\":\"y\",\"type\":\"bar\",\"opacity\":0.8},{\"alignmentgroup\":\"True\",\"hovertemplate\":\"Station= Tosha <br>Road=%{x}<br>Count=%{y}<extra></extra>\",\"legendgroup\":\" Tosha \",\"marker\":{\"color\":\"#FFA15A\",\"pattern\":{\"shape\":\"\"},\"line\":{\"color\":\"rgb(9,50,100)\",\"width\":1.5}},\"name\":\" Tosha \",\"offsetgroup\":\" Tosha \",\"orientation\":\"v\",\"showlegend\":true,\"textposition\":\"auto\",\"x\":[\" Gakere str \",\" Magadi rd \",\" Waiyaki way \"],\"xaxis\":\"x\",\"y\":[1,1,2],\"yaxis\":\"y\",\"type\":\"bar\",\"opacity\":0.8},{\"alignmentgroup\":\"True\",\"hovertemplate\":\"Station= Total <br>Road=%{x}<br>Count=%{y}<extra></extra>\",\"legendgroup\":\" Total \",\"marker\":{\"color\":\"#19d3f3\",\"pattern\":{\"shape\":\"\"},\"line\":{\"color\":\"rgb(9,50,100)\",\"width\":1.5}},\"name\":\" Total \",\"offsetgroup\":\" Total \",\"orientation\":\"v\",\"showlegend\":true,\"textposition\":\"auto\",\"x\":[\"  Argwings Kodhek Rd \",\" Airport North rd \",\" Dennis Pritt rd \",\" Eastern Bypass rd \",\" Enterprise rd \",\" James Gichuru rd \",\" Jogoo rd \",\" Kakamega-Webuye Road\",\" Kamiti rd \",\" Kangundo rd \",\" Kasarani Mwiki rd \",\" Kenyatta rd \",\" Kiambu rd \",\" Kikuyu rd \",\" Langata rd \",\" Limuru rd \",\" Lower Kabete rd \",\" Lusaka rd \",\" Magadi rd \",\" Mai Mahiu - Narok rd \",\" Makadara rd \",\" Malindi rd \",\" Mirema rd \",\" Mombasa rd \",\" Nairobi - Nakuru rd A104 \",\" Ngong rd \",\" Nyali rd \",\" Olengruone Ave\",\" Outering rd \",\" Parklands rd \",\" Pumwani Rd\",\" Thika rd \",\" Waiyaki way \",\"Bamburi - Mtambo Road\",\"Garissa rd\",\"Nyerere Ave\"],\"xaxis\":\"x\",\"y\":[2,1,11,2,2,2,2,2,2,7,4,2,5,1,10,21,5,4,3,3,1,1,2,16,6,8,1,5,3,3,1,14,11,1,2,2],\"yaxis\":\"y\",\"type\":\"bar\",\"opacity\":0.8}],                        {\"template\":{\"data\":{\"histogram2dcontour\":[{\"type\":\"histogram2dcontour\",\"colorbar\":{\"outlinewidth\":0,\"ticks\":\"\"},\"colorscale\":[[0.0,\"#0d0887\"],[0.1111111111111111,\"#46039f\"],[0.2222222222222222,\"#7201a8\"],[0.3333333333333333,\"#9c179e\"],[0.4444444444444444,\"#bd3786\"],[0.5555555555555556,\"#d8576b\"],[0.6666666666666666,\"#ed7953\"],[0.7777777777777778,\"#fb9f3a\"],[0.8888888888888888,\"#fdca26\"],[1.0,\"#f0f921\"]]}],\"choropleth\":[{\"type\":\"choropleth\",\"colorbar\":{\"outlinewidth\":0,\"ticks\":\"\"}}],\"histogram2d\":[{\"type\":\"histogram2d\",\"colorbar\":{\"outlinewidth\":0,\"ticks\":\"\"},\"colorscale\":[[0.0,\"#0d0887\"],[0.1111111111111111,\"#46039f\"],[0.2222222222222222,\"#7201a8\"],[0.3333333333333333,\"#9c179e\"],[0.4444444444444444,\"#bd3786\"],[0.5555555555555556,\"#d8576b\"],[0.6666666666666666,\"#ed7953\"],[0.7777777777777778,\"#fb9f3a\"],[0.8888888888888888,\"#fdca26\"],[1.0,\"#f0f921\"]]}],\"heatmap\":[{\"type\":\"heatmap\",\"colorbar\":{\"outlinewidth\":0,\"ticks\":\"\"},\"colorscale\":[[0.0,\"#0d0887\"],[0.1111111111111111,\"#46039f\"],[0.2222222222222222,\"#7201a8\"],[0.3333333333333333,\"#9c179e\"],[0.4444444444444444,\"#bd3786\"],[0.5555555555555556,\"#d8576b\"],[0.6666666666666666,\"#ed7953\"],[0.7777777777777778,\"#fb9f3a\"],[0.8888888888888888,\"#fdca26\"],[1.0,\"#f0f921\"]]}],\"heatmapgl\":[{\"type\":\"heatmapgl\",\"colorbar\":{\"outlinewidth\":0,\"ticks\":\"\"},\"colorscale\":[[0.0,\"#0d0887\"],[0.1111111111111111,\"#46039f\"],[0.2222222222222222,\"#7201a8\"],[0.3333333333333333,\"#9c179e\"],[0.4444444444444444,\"#bd3786\"],[0.5555555555555556,\"#d8576b\"],[0.6666666666666666,\"#ed7953\"],[0.7777777777777778,\"#fb9f3a\"],[0.8888888888888888,\"#fdca26\"],[1.0,\"#f0f921\"]]}],\"contourcarpet\":[{\"type\":\"contourcarpet\",\"colorbar\":{\"outlinewidth\":0,\"ticks\":\"\"}}],\"contour\":[{\"type\":\"contour\",\"colorbar\":{\"outlinewidth\":0,\"ticks\":\"\"},\"colorscale\":[[0.0,\"#0d0887\"],[0.1111111111111111,\"#46039f\"],[0.2222222222222222,\"#7201a8\"],[0.3333333333333333,\"#9c179e\"],[0.4444444444444444,\"#bd3786\"],[0.5555555555555556,\"#d8576b\"],[0.6666666666666666,\"#ed7953\"],[0.7777777777777778,\"#fb9f3a\"],[0.8888888888888888,\"#fdca26\"],[1.0,\"#f0f921\"]]}],\"surface\":[{\"type\":\"surface\",\"colorbar\":{\"outlinewidth\":0,\"ticks\":\"\"},\"colorscale\":[[0.0,\"#0d0887\"],[0.1111111111111111,\"#46039f\"],[0.2222222222222222,\"#7201a8\"],[0.3333333333333333,\"#9c179e\"],[0.4444444444444444,\"#bd3786\"],[0.5555555555555556,\"#d8576b\"],[0.6666666666666666,\"#ed7953\"],[0.7777777777777778,\"#fb9f3a\"],[0.8888888888888888,\"#fdca26\"],[1.0,\"#f0f921\"]]}],\"mesh3d\":[{\"type\":\"mesh3d\",\"colorbar\":{\"outlinewidth\":0,\"ticks\":\"\"}}],\"scatter\":[{\"fillpattern\":{\"fillmode\":\"overlay\",\"size\":10,\"solidity\":0.2},\"type\":\"scatter\"}],\"parcoords\":[{\"type\":\"parcoords\",\"line\":{\"colorbar\":{\"outlinewidth\":0,\"ticks\":\"\"}}}],\"scatterpolargl\":[{\"type\":\"scatterpolargl\",\"marker\":{\"colorbar\":{\"outlinewidth\":0,\"ticks\":\"\"}}}],\"bar\":[{\"error_x\":{\"color\":\"#2a3f5f\"},\"error_y\":{\"color\":\"#2a3f5f\"},\"marker\":{\"line\":{\"color\":\"#E5ECF6\",\"width\":0.5},\"pattern\":{\"fillmode\":\"overlay\",\"size\":10,\"solidity\":0.2}},\"type\":\"bar\"}],\"scattergeo\":[{\"type\":\"scattergeo\",\"marker\":{\"colorbar\":{\"outlinewidth\":0,\"ticks\":\"\"}}}],\"scatterpolar\":[{\"type\":\"scatterpolar\",\"marker\":{\"colorbar\":{\"outlinewidth\":0,\"ticks\":\"\"}}}],\"histogram\":[{\"marker\":{\"pattern\":{\"fillmode\":\"overlay\",\"size\":10,\"solidity\":0.2}},\"type\":\"histogram\"}],\"scattergl\":[{\"type\":\"scattergl\",\"marker\":{\"colorbar\":{\"outlinewidth\":0,\"ticks\":\"\"}}}],\"scatter3d\":[{\"type\":\"scatter3d\",\"line\":{\"colorbar\":{\"outlinewidth\":0,\"ticks\":\"\"}},\"marker\":{\"colorbar\":{\"outlinewidth\":0,\"ticks\":\"\"}}}],\"scattermapbox\":[{\"type\":\"scattermapbox\",\"marker\":{\"colorbar\":{\"outlinewidth\":0,\"ticks\":\"\"}}}],\"scatterternary\":[{\"type\":\"scatterternary\",\"marker\":{\"colorbar\":{\"outlinewidth\":0,\"ticks\":\"\"}}}],\"scattercarpet\":[{\"type\":\"scattercarpet\",\"marker\":{\"colorbar\":{\"outlinewidth\":0,\"ticks\":\"\"}}}],\"carpet\":[{\"aaxis\":{\"endlinecolor\":\"#2a3f5f\",\"gridcolor\":\"white\",\"linecolor\":\"white\",\"minorgridcolor\":\"white\",\"startlinecolor\":\"#2a3f5f\"},\"baxis\":{\"endlinecolor\":\"#2a3f5f\",\"gridcolor\":\"white\",\"linecolor\":\"white\",\"minorgridcolor\":\"white\",\"startlinecolor\":\"#2a3f5f\"},\"type\":\"carpet\"}],\"table\":[{\"cells\":{\"fill\":{\"color\":\"#EBF0F8\"},\"line\":{\"color\":\"white\"}},\"header\":{\"fill\":{\"color\":\"#C8D4E3\"},\"line\":{\"color\":\"white\"}},\"type\":\"table\"}],\"barpolar\":[{\"marker\":{\"line\":{\"color\":\"#E5ECF6\",\"width\":0.5},\"pattern\":{\"fillmode\":\"overlay\",\"size\":10,\"solidity\":0.2}},\"type\":\"barpolar\"}],\"pie\":[{\"automargin\":true,\"type\":\"pie\"}]},\"layout\":{\"autotypenumbers\":\"strict\",\"colorway\":[\"#636efa\",\"#EF553B\",\"#00cc96\",\"#ab63fa\",\"#FFA15A\",\"#19d3f3\",\"#FF6692\",\"#B6E880\",\"#FF97FF\",\"#FECB52\"],\"font\":{\"color\":\"#2a3f5f\"},\"hovermode\":\"closest\",\"hoverlabel\":{\"align\":\"left\"},\"paper_bgcolor\":\"white\",\"plot_bgcolor\":\"#E5ECF6\",\"polar\":{\"bgcolor\":\"#E5ECF6\",\"angularaxis\":{\"gridcolor\":\"white\",\"linecolor\":\"white\",\"ticks\":\"\"},\"radialaxis\":{\"gridcolor\":\"white\",\"linecolor\":\"white\",\"ticks\":\"\"}},\"ternary\":{\"bgcolor\":\"#E5ECF6\",\"aaxis\":{\"gridcolor\":\"white\",\"linecolor\":\"white\",\"ticks\":\"\"},\"baxis\":{\"gridcolor\":\"white\",\"linecolor\":\"white\",\"ticks\":\"\"},\"caxis\":{\"gridcolor\":\"white\",\"linecolor\":\"white\",\"ticks\":\"\"}},\"coloraxis\":{\"colorbar\":{\"outlinewidth\":0,\"ticks\":\"\"}},\"colorscale\":{\"sequential\":[[0.0,\"#0d0887\"],[0.1111111111111111,\"#46039f\"],[0.2222222222222222,\"#7201a8\"],[0.3333333333333333,\"#9c179e\"],[0.4444444444444444,\"#bd3786\"],[0.5555555555555556,\"#d8576b\"],[0.6666666666666666,\"#ed7953\"],[0.7777777777777778,\"#fb9f3a\"],[0.8888888888888888,\"#fdca26\"],[1.0,\"#f0f921\"]],\"sequentialminus\":[[0.0,\"#0d0887\"],[0.1111111111111111,\"#46039f\"],[0.2222222222222222,\"#7201a8\"],[0.3333333333333333,\"#9c179e\"],[0.4444444444444444,\"#bd3786\"],[0.5555555555555556,\"#d8576b\"],[0.6666666666666666,\"#ed7953\"],[0.7777777777777778,\"#fb9f3a\"],[0.8888888888888888,\"#fdca26\"],[1.0,\"#f0f921\"]],\"diverging\":[[0,\"#8e0152\"],[0.1,\"#c51b7d\"],[0.2,\"#de77ae\"],[0.3,\"#f1b6da\"],[0.4,\"#fde0ef\"],[0.5,\"#f7f7f7\"],[0.6,\"#e6f5d0\"],[0.7,\"#b8e186\"],[0.8,\"#7fbc41\"],[0.9,\"#4d9221\"],[1,\"#276419\"]]},\"xaxis\":{\"gridcolor\":\"white\",\"linecolor\":\"white\",\"ticks\":\"\",\"title\":{\"standoff\":15},\"zerolinecolor\":\"white\",\"automargin\":true,\"zerolinewidth\":2},\"yaxis\":{\"gridcolor\":\"white\",\"linecolor\":\"white\",\"ticks\":\"\",\"title\":{\"standoff\":15},\"zerolinecolor\":\"white\",\"automargin\":true,\"zerolinewidth\":2},\"scene\":{\"xaxis\":{\"backgroundcolor\":\"#E5ECF6\",\"gridcolor\":\"white\",\"linecolor\":\"white\",\"showbackground\":true,\"ticks\":\"\",\"zerolinecolor\":\"white\",\"gridwidth\":2},\"yaxis\":{\"backgroundcolor\":\"#E5ECF6\",\"gridcolor\":\"white\",\"linecolor\":\"white\",\"showbackground\":true,\"ticks\":\"\",\"zerolinecolor\":\"white\",\"gridwidth\":2},\"zaxis\":{\"backgroundcolor\":\"#E5ECF6\",\"gridcolor\":\"white\",\"linecolor\":\"white\",\"showbackground\":true,\"ticks\":\"\",\"zerolinecolor\":\"white\",\"gridwidth\":2}},\"shapedefaults\":{\"line\":{\"color\":\"#2a3f5f\"}},\"annotationdefaults\":{\"arrowcolor\":\"#2a3f5f\",\"arrowhead\":0,\"arrowwidth\":1},\"geo\":{\"bgcolor\":\"white\",\"landcolor\":\"#E5ECF6\",\"subunitcolor\":\"white\",\"showland\":true,\"showlakes\":true,\"lakecolor\":\"white\"},\"title\":{\"x\":0.05},\"mapbox\":{\"style\":\"light\"}}},\"xaxis\":{\"anchor\":\"y\",\"domain\":[0.0,1.0],\"title\":{\"text\":\"Road\"}},\"yaxis\":{\"anchor\":\"x\",\"domain\":[0.0,1.0],\"title\":{\"text\":\"Count\"}},\"legend\":{\"title\":{\"text\":\"Station\"},\"tracegroupgap\":0},\"title\":{\"text\":\"Petrol Station fuel availability vs Reported Road\"},\"barmode\":\"group\",\"height\":500,\"width\":3100},                        {\"responsive\": true}                    ).then(function(){\n",
       "                            \n",
       "var gd = document.getElementById('abdaaf88-f048-4fad-8b93-3a28cefd76e8');\n",
       "var x = new MutationObserver(function (mutations, observer) {{\n",
       "        var display = window.getComputedStyle(gd).display;\n",
       "        if (!display || display === 'none') {{\n",
       "            console.log([gd, 'removed!']);\n",
       "            Plotly.purge(gd);\n",
       "            observer.disconnect();\n",
       "        }}\n",
       "}});\n",
       "\n",
       "// Listen for the removal of the full notebook cells\n",
       "var notebookContainer = gd.closest('#notebook-container');\n",
       "if (notebookContainer) {{\n",
       "    x.observe(notebookContainer, {childList: true});\n",
       "}}\n",
       "\n",
       "// Listen for the clearing of the current output cell\n",
       "var outputEl = gd.closest('.output');\n",
       "if (outputEl) {{\n",
       "    x.observe(outputEl, {childList: true});\n",
       "}}\n",
       "\n",
       "                        })                };                });            </script>        </div>"
      ]
     },
     "metadata": {},
     "output_type": "display_data"
    }
   ],
   "source": [
    "#Petrol Station vs Road\n",
    "fuel_station=petrol_data.loc[:,[\"Station \",\"Road\"]].groupby([\"Station \",\"Road\"]).size().reset_index()\n",
    "fuel_station.columns=[\"Station\",\"Road\",\"Count\"]\n",
    "fig=px.bar(fuel_station,x='Road',y='Count',color=\"Station\",\n",
    "          barmode='group',title=\"Petrol Station fuel availability vs Reported Road\",\n",
    "          height=500,width=3100)\n",
    "fig.update_traces(marker_line_color='rgb(9,50,100)',marker_line_width=1.5,opacity=0.8)\n",
    "fig.show()"
   ]
  },
  {
   "cell_type": "markdown",
   "id": "f8332064",
   "metadata": {
    "papermill": {
     "duration": 0.062187,
     "end_time": "2022-05-03T19:51:39.194651",
     "exception": false,
     "start_time": "2022-05-03T19:51:39.132464",
     "status": "completed"
    },
    "tags": []
   },
   "source": [
    "The Petrol stations near Limuru Rd were the majority reported to have fuel,followed by those along Thika rd , Mombasa rd and Waiyaki way.Then those along Dennis Pritt rd,Langata rd and Eastern Bypass rd, James Gichuru rd."
   ]
  },
  {
   "cell_type": "markdown",
   "id": "0f9a6229",
   "metadata": {
    "papermill": {
     "duration": 0.062418,
     "end_time": "2022-05-03T19:51:39.318861",
     "exception": false,
     "start_time": "2022-05-03T19:51:39.256443",
     "status": "completed"
    },
    "tags": []
   },
   "source": [
    "### Fuel Type Distribution with relation to Town"
   ]
  },
  {
   "cell_type": "code",
   "execution_count": 18,
   "id": "ea8b3bda",
   "metadata": {
    "execution": {
     "iopub.execute_input": "2022-05-03T19:51:39.445596Z",
     "iopub.status.busy": "2022-05-03T19:51:39.445286Z",
     "iopub.status.idle": "2022-05-03T19:51:39.526345Z",
     "shell.execute_reply": "2022-05-03T19:51:39.525525Z"
    },
    "papermill": {
     "duration": 0.147273,
     "end_time": "2022-05-03T19:51:39.528361",
     "exception": false,
     "start_time": "2022-05-03T19:51:39.381088",
     "status": "completed"
    },
    "tags": []
   },
   "outputs": [
    {
     "data": {
      "application/vnd.plotly.v1+json": {
       "config": {
        "plotlyServerURL": "https://plot.ly"
       },
       "data": [
        {
         "alignmentgroup": "True",
         "hovertemplate": "Fuel Type= Both Super & Diesel <br>Town=%{x}<br>Count=%{y}<extra></extra>",
         "legendgroup": " Both Super & Diesel ",
         "marker": {
          "color": "#636efa",
          "line": {
           "color": "rgb(9,50,100)",
           "width": 1.5
          },
          "pattern": {
           "shape": ""
          }
         },
         "name": " Both Super & Diesel ",
         "offsetgroup": " Both Super & Diesel ",
         "opacity": 0.8,
         "orientation": "v",
         "showlegend": true,
         "textposition": "auto",
         "type": "bar",
         "x": [
          " Eldoret ",
          " Kakamega ",
          " Kiambu ",
          " Kikuyu ",
          " Limuru",
          " Machakos ",
          " Malindi ",
          " Mombasa ",
          " Mtwapa ",
          " Mumias ",
          " Nairobi ",
          " Nakuru ",
          " Naro Moru ",
          " Narok ",
          " Ngong",
          " Nyeri ",
          " Ruaka",
          " Ruiru ",
          " Thika ",
          "Ruiru",
          "kilifi"
         ],
         "xaxis": "x",
         "y": [
          1,
          2,
          1,
          20,
          1,
          6,
          1,
          10,
          3,
          1,
          214,
          9,
          1,
          3,
          1,
          1,
          10,
          15,
          9,
          1,
          1
         ],
         "yaxis": "y"
        },
        {
         "alignmentgroup": "True",
         "hovertemplate": "Fuel Type= Diesel <br>Town=%{x}<br>Count=%{y}<extra></extra>",
         "legendgroup": " Diesel ",
         "marker": {
          "color": "#EF553B",
          "line": {
           "color": "rgb(9,50,100)",
           "width": 1.5
          },
          "pattern": {
           "shape": ""
          }
         },
         "name": " Diesel ",
         "offsetgroup": " Diesel ",
         "opacity": 0.8,
         "orientation": "v",
         "showlegend": true,
         "textposition": "auto",
         "type": "bar",
         "x": [
          " Kilifi ",
          " Mombasa ",
          " Nairobi ",
          " Ruiru ",
          "Mtwapa"
         ],
         "xaxis": "x",
         "y": [
          1,
          1,
          20,
          2,
          1
         ],
         "yaxis": "y"
        },
        {
         "alignmentgroup": "True",
         "hovertemplate": "Fuel Type= Super/Petrol <br>Town=%{x}<br>Count=%{y}<extra></extra>",
         "legendgroup": " Super/Petrol ",
         "marker": {
          "color": "#00cc96",
          "line": {
           "color": "rgb(9,50,100)",
           "width": 1.5
          },
          "pattern": {
           "shape": ""
          }
         },
         "name": " Super/Petrol ",
         "offsetgroup": " Super/Petrol ",
         "opacity": 0.8,
         "orientation": "v",
         "showlegend": true,
         "textposition": "auto",
         "type": "bar",
         "x": [
          " Githunguri ",
          " Kakamega ",
          " Kiambu ",
          " Kikuyu ",
          " Machakos ",
          " Mombasa ",
          " Nairobi ",
          " Nakuru ",
          " Nanyuki ",
          " Narok ",
          " Nyeri ",
          " Ruaka",
          " Ruiru ",
          " Thika "
         ],
         "xaxis": "x",
         "y": [
          1,
          1,
          6,
          5,
          5,
          2,
          120,
          2,
          2,
          1,
          1,
          4,
          7,
          2
         ],
         "yaxis": "y"
        },
        {
         "alignmentgroup": "True",
         "hovertemplate": "Fuel Type= V-power <br>Town=%{x}<br>Count=%{y}<extra></extra>",
         "legendgroup": " V-power ",
         "marker": {
          "color": "#ab63fa",
          "line": {
           "color": "rgb(9,50,100)",
           "width": 1.5
          },
          "pattern": {
           "shape": ""
          }
         },
         "name": " V-power ",
         "offsetgroup": " V-power ",
         "opacity": 0.8,
         "orientation": "v",
         "showlegend": true,
         "textposition": "auto",
         "type": "bar",
         "x": [
          " Nairobi "
         ],
         "xaxis": "x",
         "y": [
          10
         ],
         "yaxis": "y"
        }
       ],
       "layout": {
        "barmode": "group",
        "height": 600,
        "legend": {
         "title": {
          "text": "Fuel Type"
         },
         "tracegroupgap": 0
        },
        "template": {
         "data": {
          "bar": [
           {
            "error_x": {
             "color": "#2a3f5f"
            },
            "error_y": {
             "color": "#2a3f5f"
            },
            "marker": {
             "line": {
              "color": "#E5ECF6",
              "width": 0.5
             },
             "pattern": {
              "fillmode": "overlay",
              "size": 10,
              "solidity": 0.2
             }
            },
            "type": "bar"
           }
          ],
          "barpolar": [
           {
            "marker": {
             "line": {
              "color": "#E5ECF6",
              "width": 0.5
             },
             "pattern": {
              "fillmode": "overlay",
              "size": 10,
              "solidity": 0.2
             }
            },
            "type": "barpolar"
           }
          ],
          "carpet": [
           {
            "aaxis": {
             "endlinecolor": "#2a3f5f",
             "gridcolor": "white",
             "linecolor": "white",
             "minorgridcolor": "white",
             "startlinecolor": "#2a3f5f"
            },
            "baxis": {
             "endlinecolor": "#2a3f5f",
             "gridcolor": "white",
             "linecolor": "white",
             "minorgridcolor": "white",
             "startlinecolor": "#2a3f5f"
            },
            "type": "carpet"
           }
          ],
          "choropleth": [
           {
            "colorbar": {
             "outlinewidth": 0,
             "ticks": ""
            },
            "type": "choropleth"
           }
          ],
          "contour": [
           {
            "colorbar": {
             "outlinewidth": 0,
             "ticks": ""
            },
            "colorscale": [
             [
              0.0,
              "#0d0887"
             ],
             [
              0.1111111111111111,
              "#46039f"
             ],
             [
              0.2222222222222222,
              "#7201a8"
             ],
             [
              0.3333333333333333,
              "#9c179e"
             ],
             [
              0.4444444444444444,
              "#bd3786"
             ],
             [
              0.5555555555555556,
              "#d8576b"
             ],
             [
              0.6666666666666666,
              "#ed7953"
             ],
             [
              0.7777777777777778,
              "#fb9f3a"
             ],
             [
              0.8888888888888888,
              "#fdca26"
             ],
             [
              1.0,
              "#f0f921"
             ]
            ],
            "type": "contour"
           }
          ],
          "contourcarpet": [
           {
            "colorbar": {
             "outlinewidth": 0,
             "ticks": ""
            },
            "type": "contourcarpet"
           }
          ],
          "heatmap": [
           {
            "colorbar": {
             "outlinewidth": 0,
             "ticks": ""
            },
            "colorscale": [
             [
              0.0,
              "#0d0887"
             ],
             [
              0.1111111111111111,
              "#46039f"
             ],
             [
              0.2222222222222222,
              "#7201a8"
             ],
             [
              0.3333333333333333,
              "#9c179e"
             ],
             [
              0.4444444444444444,
              "#bd3786"
             ],
             [
              0.5555555555555556,
              "#d8576b"
             ],
             [
              0.6666666666666666,
              "#ed7953"
             ],
             [
              0.7777777777777778,
              "#fb9f3a"
             ],
             [
              0.8888888888888888,
              "#fdca26"
             ],
             [
              1.0,
              "#f0f921"
             ]
            ],
            "type": "heatmap"
           }
          ],
          "heatmapgl": [
           {
            "colorbar": {
             "outlinewidth": 0,
             "ticks": ""
            },
            "colorscale": [
             [
              0.0,
              "#0d0887"
             ],
             [
              0.1111111111111111,
              "#46039f"
             ],
             [
              0.2222222222222222,
              "#7201a8"
             ],
             [
              0.3333333333333333,
              "#9c179e"
             ],
             [
              0.4444444444444444,
              "#bd3786"
             ],
             [
              0.5555555555555556,
              "#d8576b"
             ],
             [
              0.6666666666666666,
              "#ed7953"
             ],
             [
              0.7777777777777778,
              "#fb9f3a"
             ],
             [
              0.8888888888888888,
              "#fdca26"
             ],
             [
              1.0,
              "#f0f921"
             ]
            ],
            "type": "heatmapgl"
           }
          ],
          "histogram": [
           {
            "marker": {
             "pattern": {
              "fillmode": "overlay",
              "size": 10,
              "solidity": 0.2
             }
            },
            "type": "histogram"
           }
          ],
          "histogram2d": [
           {
            "colorbar": {
             "outlinewidth": 0,
             "ticks": ""
            },
            "colorscale": [
             [
              0.0,
              "#0d0887"
             ],
             [
              0.1111111111111111,
              "#46039f"
             ],
             [
              0.2222222222222222,
              "#7201a8"
             ],
             [
              0.3333333333333333,
              "#9c179e"
             ],
             [
              0.4444444444444444,
              "#bd3786"
             ],
             [
              0.5555555555555556,
              "#d8576b"
             ],
             [
              0.6666666666666666,
              "#ed7953"
             ],
             [
              0.7777777777777778,
              "#fb9f3a"
             ],
             [
              0.8888888888888888,
              "#fdca26"
             ],
             [
              1.0,
              "#f0f921"
             ]
            ],
            "type": "histogram2d"
           }
          ],
          "histogram2dcontour": [
           {
            "colorbar": {
             "outlinewidth": 0,
             "ticks": ""
            },
            "colorscale": [
             [
              0.0,
              "#0d0887"
             ],
             [
              0.1111111111111111,
              "#46039f"
             ],
             [
              0.2222222222222222,
              "#7201a8"
             ],
             [
              0.3333333333333333,
              "#9c179e"
             ],
             [
              0.4444444444444444,
              "#bd3786"
             ],
             [
              0.5555555555555556,
              "#d8576b"
             ],
             [
              0.6666666666666666,
              "#ed7953"
             ],
             [
              0.7777777777777778,
              "#fb9f3a"
             ],
             [
              0.8888888888888888,
              "#fdca26"
             ],
             [
              1.0,
              "#f0f921"
             ]
            ],
            "type": "histogram2dcontour"
           }
          ],
          "mesh3d": [
           {
            "colorbar": {
             "outlinewidth": 0,
             "ticks": ""
            },
            "type": "mesh3d"
           }
          ],
          "parcoords": [
           {
            "line": {
             "colorbar": {
              "outlinewidth": 0,
              "ticks": ""
             }
            },
            "type": "parcoords"
           }
          ],
          "pie": [
           {
            "automargin": true,
            "type": "pie"
           }
          ],
          "scatter": [
           {
            "fillpattern": {
             "fillmode": "overlay",
             "size": 10,
             "solidity": 0.2
            },
            "type": "scatter"
           }
          ],
          "scatter3d": [
           {
            "line": {
             "colorbar": {
              "outlinewidth": 0,
              "ticks": ""
             }
            },
            "marker": {
             "colorbar": {
              "outlinewidth": 0,
              "ticks": ""
             }
            },
            "type": "scatter3d"
           }
          ],
          "scattercarpet": [
           {
            "marker": {
             "colorbar": {
              "outlinewidth": 0,
              "ticks": ""
             }
            },
            "type": "scattercarpet"
           }
          ],
          "scattergeo": [
           {
            "marker": {
             "colorbar": {
              "outlinewidth": 0,
              "ticks": ""
             }
            },
            "type": "scattergeo"
           }
          ],
          "scattergl": [
           {
            "marker": {
             "colorbar": {
              "outlinewidth": 0,
              "ticks": ""
             }
            },
            "type": "scattergl"
           }
          ],
          "scattermapbox": [
           {
            "marker": {
             "colorbar": {
              "outlinewidth": 0,
              "ticks": ""
             }
            },
            "type": "scattermapbox"
           }
          ],
          "scatterpolar": [
           {
            "marker": {
             "colorbar": {
              "outlinewidth": 0,
              "ticks": ""
             }
            },
            "type": "scatterpolar"
           }
          ],
          "scatterpolargl": [
           {
            "marker": {
             "colorbar": {
              "outlinewidth": 0,
              "ticks": ""
             }
            },
            "type": "scatterpolargl"
           }
          ],
          "scatterternary": [
           {
            "marker": {
             "colorbar": {
              "outlinewidth": 0,
              "ticks": ""
             }
            },
            "type": "scatterternary"
           }
          ],
          "surface": [
           {
            "colorbar": {
             "outlinewidth": 0,
             "ticks": ""
            },
            "colorscale": [
             [
              0.0,
              "#0d0887"
             ],
             [
              0.1111111111111111,
              "#46039f"
             ],
             [
              0.2222222222222222,
              "#7201a8"
             ],
             [
              0.3333333333333333,
              "#9c179e"
             ],
             [
              0.4444444444444444,
              "#bd3786"
             ],
             [
              0.5555555555555556,
              "#d8576b"
             ],
             [
              0.6666666666666666,
              "#ed7953"
             ],
             [
              0.7777777777777778,
              "#fb9f3a"
             ],
             [
              0.8888888888888888,
              "#fdca26"
             ],
             [
              1.0,
              "#f0f921"
             ]
            ],
            "type": "surface"
           }
          ],
          "table": [
           {
            "cells": {
             "fill": {
              "color": "#EBF0F8"
             },
             "line": {
              "color": "white"
             }
            },
            "header": {
             "fill": {
              "color": "#C8D4E3"
             },
             "line": {
              "color": "white"
             }
            },
            "type": "table"
           }
          ]
         },
         "layout": {
          "annotationdefaults": {
           "arrowcolor": "#2a3f5f",
           "arrowhead": 0,
           "arrowwidth": 1
          },
          "autotypenumbers": "strict",
          "coloraxis": {
           "colorbar": {
            "outlinewidth": 0,
            "ticks": ""
           }
          },
          "colorscale": {
           "diverging": [
            [
             0,
             "#8e0152"
            ],
            [
             0.1,
             "#c51b7d"
            ],
            [
             0.2,
             "#de77ae"
            ],
            [
             0.3,
             "#f1b6da"
            ],
            [
             0.4,
             "#fde0ef"
            ],
            [
             0.5,
             "#f7f7f7"
            ],
            [
             0.6,
             "#e6f5d0"
            ],
            [
             0.7,
             "#b8e186"
            ],
            [
             0.8,
             "#7fbc41"
            ],
            [
             0.9,
             "#4d9221"
            ],
            [
             1,
             "#276419"
            ]
           ],
           "sequential": [
            [
             0.0,
             "#0d0887"
            ],
            [
             0.1111111111111111,
             "#46039f"
            ],
            [
             0.2222222222222222,
             "#7201a8"
            ],
            [
             0.3333333333333333,
             "#9c179e"
            ],
            [
             0.4444444444444444,
             "#bd3786"
            ],
            [
             0.5555555555555556,
             "#d8576b"
            ],
            [
             0.6666666666666666,
             "#ed7953"
            ],
            [
             0.7777777777777778,
             "#fb9f3a"
            ],
            [
             0.8888888888888888,
             "#fdca26"
            ],
            [
             1.0,
             "#f0f921"
            ]
           ],
           "sequentialminus": [
            [
             0.0,
             "#0d0887"
            ],
            [
             0.1111111111111111,
             "#46039f"
            ],
            [
             0.2222222222222222,
             "#7201a8"
            ],
            [
             0.3333333333333333,
             "#9c179e"
            ],
            [
             0.4444444444444444,
             "#bd3786"
            ],
            [
             0.5555555555555556,
             "#d8576b"
            ],
            [
             0.6666666666666666,
             "#ed7953"
            ],
            [
             0.7777777777777778,
             "#fb9f3a"
            ],
            [
             0.8888888888888888,
             "#fdca26"
            ],
            [
             1.0,
             "#f0f921"
            ]
           ]
          },
          "colorway": [
           "#636efa",
           "#EF553B",
           "#00cc96",
           "#ab63fa",
           "#FFA15A",
           "#19d3f3",
           "#FF6692",
           "#B6E880",
           "#FF97FF",
           "#FECB52"
          ],
          "font": {
           "color": "#2a3f5f"
          },
          "geo": {
           "bgcolor": "white",
           "lakecolor": "white",
           "landcolor": "#E5ECF6",
           "showlakes": true,
           "showland": true,
           "subunitcolor": "white"
          },
          "hoverlabel": {
           "align": "left"
          },
          "hovermode": "closest",
          "mapbox": {
           "style": "light"
          },
          "paper_bgcolor": "white",
          "plot_bgcolor": "#E5ECF6",
          "polar": {
           "angularaxis": {
            "gridcolor": "white",
            "linecolor": "white",
            "ticks": ""
           },
           "bgcolor": "#E5ECF6",
           "radialaxis": {
            "gridcolor": "white",
            "linecolor": "white",
            "ticks": ""
           }
          },
          "scene": {
           "xaxis": {
            "backgroundcolor": "#E5ECF6",
            "gridcolor": "white",
            "gridwidth": 2,
            "linecolor": "white",
            "showbackground": true,
            "ticks": "",
            "zerolinecolor": "white"
           },
           "yaxis": {
            "backgroundcolor": "#E5ECF6",
            "gridcolor": "white",
            "gridwidth": 2,
            "linecolor": "white",
            "showbackground": true,
            "ticks": "",
            "zerolinecolor": "white"
           },
           "zaxis": {
            "backgroundcolor": "#E5ECF6",
            "gridcolor": "white",
            "gridwidth": 2,
            "linecolor": "white",
            "showbackground": true,
            "ticks": "",
            "zerolinecolor": "white"
           }
          },
          "shapedefaults": {
           "line": {
            "color": "#2a3f5f"
           }
          },
          "ternary": {
           "aaxis": {
            "gridcolor": "white",
            "linecolor": "white",
            "ticks": ""
           },
           "baxis": {
            "gridcolor": "white",
            "linecolor": "white",
            "ticks": ""
           },
           "bgcolor": "#E5ECF6",
           "caxis": {
            "gridcolor": "white",
            "linecolor": "white",
            "ticks": ""
           }
          },
          "title": {
           "x": 0.05
          },
          "xaxis": {
           "automargin": true,
           "gridcolor": "white",
           "linecolor": "white",
           "ticks": "",
           "title": {
            "standoff": 15
           },
           "zerolinecolor": "white",
           "zerolinewidth": 2
          },
          "yaxis": {
           "automargin": true,
           "gridcolor": "white",
           "linecolor": "white",
           "ticks": "",
           "title": {
            "standoff": 15
           },
           "zerolinecolor": "white",
           "zerolinewidth": 2
          }
         }
        },
        "title": {
         "text": "Fuel Type Distribution with Town"
        },
        "width": 900,
        "xaxis": {
         "anchor": "y",
         "domain": [
          0.0,
          1.0
         ],
         "title": {
          "text": "Town"
         }
        },
        "yaxis": {
         "anchor": "x",
         "domain": [
          0.0,
          1.0
         ],
         "title": {
          "text": "Count"
         }
        }
       }
      },
      "text/html": [
       "<div>                            <div id=\"6034d04f-e543-4898-b9e1-f204cb68ee26\" class=\"plotly-graph-div\" style=\"height:600px; width:900px;\"></div>            <script type=\"text/javascript\">                require([\"plotly\"], function(Plotly) {                    window.PLOTLYENV=window.PLOTLYENV || {};                                    if (document.getElementById(\"6034d04f-e543-4898-b9e1-f204cb68ee26\")) {                    Plotly.newPlot(                        \"6034d04f-e543-4898-b9e1-f204cb68ee26\",                        [{\"alignmentgroup\":\"True\",\"hovertemplate\":\"Fuel Type= Both Super & Diesel <br>Town=%{x}<br>Count=%{y}<extra></extra>\",\"legendgroup\":\" Both Super & Diesel \",\"marker\":{\"color\":\"#636efa\",\"pattern\":{\"shape\":\"\"},\"line\":{\"color\":\"rgb(9,50,100)\",\"width\":1.5}},\"name\":\" Both Super & Diesel \",\"offsetgroup\":\" Both Super & Diesel \",\"orientation\":\"v\",\"showlegend\":true,\"textposition\":\"auto\",\"x\":[\" Eldoret \",\" Kakamega \",\" Kiambu \",\" Kikuyu \",\" Limuru\",\" Machakos \",\" Malindi \",\" Mombasa \",\" Mtwapa \",\" Mumias \",\" Nairobi \",\" Nakuru \",\" Naro Moru \",\" Narok \",\" Ngong\",\" Nyeri \",\" Ruaka\",\" Ruiru \",\" Thika \",\"Ruiru\",\"kilifi\"],\"xaxis\":\"x\",\"y\":[1,2,1,20,1,6,1,10,3,1,214,9,1,3,1,1,10,15,9,1,1],\"yaxis\":\"y\",\"type\":\"bar\",\"opacity\":0.8},{\"alignmentgroup\":\"True\",\"hovertemplate\":\"Fuel Type= Diesel <br>Town=%{x}<br>Count=%{y}<extra></extra>\",\"legendgroup\":\" Diesel \",\"marker\":{\"color\":\"#EF553B\",\"pattern\":{\"shape\":\"\"},\"line\":{\"color\":\"rgb(9,50,100)\",\"width\":1.5}},\"name\":\" Diesel \",\"offsetgroup\":\" Diesel \",\"orientation\":\"v\",\"showlegend\":true,\"textposition\":\"auto\",\"x\":[\" Kilifi \",\" Mombasa \",\" Nairobi \",\" Ruiru \",\"Mtwapa\"],\"xaxis\":\"x\",\"y\":[1,1,20,2,1],\"yaxis\":\"y\",\"type\":\"bar\",\"opacity\":0.8},{\"alignmentgroup\":\"True\",\"hovertemplate\":\"Fuel Type= Super/Petrol <br>Town=%{x}<br>Count=%{y}<extra></extra>\",\"legendgroup\":\" Super/Petrol \",\"marker\":{\"color\":\"#00cc96\",\"pattern\":{\"shape\":\"\"},\"line\":{\"color\":\"rgb(9,50,100)\",\"width\":1.5}},\"name\":\" Super/Petrol \",\"offsetgroup\":\" Super/Petrol \",\"orientation\":\"v\",\"showlegend\":true,\"textposition\":\"auto\",\"x\":[\" Githunguri \",\" Kakamega \",\" Kiambu \",\" Kikuyu \",\" Machakos \",\" Mombasa \",\" Nairobi \",\" Nakuru \",\" Nanyuki \",\" Narok \",\" Nyeri \",\" Ruaka\",\" Ruiru \",\" Thika \"],\"xaxis\":\"x\",\"y\":[1,1,6,5,5,2,120,2,2,1,1,4,7,2],\"yaxis\":\"y\",\"type\":\"bar\",\"opacity\":0.8},{\"alignmentgroup\":\"True\",\"hovertemplate\":\"Fuel Type= V-power <br>Town=%{x}<br>Count=%{y}<extra></extra>\",\"legendgroup\":\" V-power \",\"marker\":{\"color\":\"#ab63fa\",\"pattern\":{\"shape\":\"\"},\"line\":{\"color\":\"rgb(9,50,100)\",\"width\":1.5}},\"name\":\" V-power \",\"offsetgroup\":\" V-power \",\"orientation\":\"v\",\"showlegend\":true,\"textposition\":\"auto\",\"x\":[\" Nairobi \"],\"xaxis\":\"x\",\"y\":[10],\"yaxis\":\"y\",\"type\":\"bar\",\"opacity\":0.8}],                        {\"template\":{\"data\":{\"histogram2dcontour\":[{\"type\":\"histogram2dcontour\",\"colorbar\":{\"outlinewidth\":0,\"ticks\":\"\"},\"colorscale\":[[0.0,\"#0d0887\"],[0.1111111111111111,\"#46039f\"],[0.2222222222222222,\"#7201a8\"],[0.3333333333333333,\"#9c179e\"],[0.4444444444444444,\"#bd3786\"],[0.5555555555555556,\"#d8576b\"],[0.6666666666666666,\"#ed7953\"],[0.7777777777777778,\"#fb9f3a\"],[0.8888888888888888,\"#fdca26\"],[1.0,\"#f0f921\"]]}],\"choropleth\":[{\"type\":\"choropleth\",\"colorbar\":{\"outlinewidth\":0,\"ticks\":\"\"}}],\"histogram2d\":[{\"type\":\"histogram2d\",\"colorbar\":{\"outlinewidth\":0,\"ticks\":\"\"},\"colorscale\":[[0.0,\"#0d0887\"],[0.1111111111111111,\"#46039f\"],[0.2222222222222222,\"#7201a8\"],[0.3333333333333333,\"#9c179e\"],[0.4444444444444444,\"#bd3786\"],[0.5555555555555556,\"#d8576b\"],[0.6666666666666666,\"#ed7953\"],[0.7777777777777778,\"#fb9f3a\"],[0.8888888888888888,\"#fdca26\"],[1.0,\"#f0f921\"]]}],\"heatmap\":[{\"type\":\"heatmap\",\"colorbar\":{\"outlinewidth\":0,\"ticks\":\"\"},\"colorscale\":[[0.0,\"#0d0887\"],[0.1111111111111111,\"#46039f\"],[0.2222222222222222,\"#7201a8\"],[0.3333333333333333,\"#9c179e\"],[0.4444444444444444,\"#bd3786\"],[0.5555555555555556,\"#d8576b\"],[0.6666666666666666,\"#ed7953\"],[0.7777777777777778,\"#fb9f3a\"],[0.8888888888888888,\"#fdca26\"],[1.0,\"#f0f921\"]]}],\"heatmapgl\":[{\"type\":\"heatmapgl\",\"colorbar\":{\"outlinewidth\":0,\"ticks\":\"\"},\"colorscale\":[[0.0,\"#0d0887\"],[0.1111111111111111,\"#46039f\"],[0.2222222222222222,\"#7201a8\"],[0.3333333333333333,\"#9c179e\"],[0.4444444444444444,\"#bd3786\"],[0.5555555555555556,\"#d8576b\"],[0.6666666666666666,\"#ed7953\"],[0.7777777777777778,\"#fb9f3a\"],[0.8888888888888888,\"#fdca26\"],[1.0,\"#f0f921\"]]}],\"contourcarpet\":[{\"type\":\"contourcarpet\",\"colorbar\":{\"outlinewidth\":0,\"ticks\":\"\"}}],\"contour\":[{\"type\":\"contour\",\"colorbar\":{\"outlinewidth\":0,\"ticks\":\"\"},\"colorscale\":[[0.0,\"#0d0887\"],[0.1111111111111111,\"#46039f\"],[0.2222222222222222,\"#7201a8\"],[0.3333333333333333,\"#9c179e\"],[0.4444444444444444,\"#bd3786\"],[0.5555555555555556,\"#d8576b\"],[0.6666666666666666,\"#ed7953\"],[0.7777777777777778,\"#fb9f3a\"],[0.8888888888888888,\"#fdca26\"],[1.0,\"#f0f921\"]]}],\"surface\":[{\"type\":\"surface\",\"colorbar\":{\"outlinewidth\":0,\"ticks\":\"\"},\"colorscale\":[[0.0,\"#0d0887\"],[0.1111111111111111,\"#46039f\"],[0.2222222222222222,\"#7201a8\"],[0.3333333333333333,\"#9c179e\"],[0.4444444444444444,\"#bd3786\"],[0.5555555555555556,\"#d8576b\"],[0.6666666666666666,\"#ed7953\"],[0.7777777777777778,\"#fb9f3a\"],[0.8888888888888888,\"#fdca26\"],[1.0,\"#f0f921\"]]}],\"mesh3d\":[{\"type\":\"mesh3d\",\"colorbar\":{\"outlinewidth\":0,\"ticks\":\"\"}}],\"scatter\":[{\"fillpattern\":{\"fillmode\":\"overlay\",\"size\":10,\"solidity\":0.2},\"type\":\"scatter\"}],\"parcoords\":[{\"type\":\"parcoords\",\"line\":{\"colorbar\":{\"outlinewidth\":0,\"ticks\":\"\"}}}],\"scatterpolargl\":[{\"type\":\"scatterpolargl\",\"marker\":{\"colorbar\":{\"outlinewidth\":0,\"ticks\":\"\"}}}],\"bar\":[{\"error_x\":{\"color\":\"#2a3f5f\"},\"error_y\":{\"color\":\"#2a3f5f\"},\"marker\":{\"line\":{\"color\":\"#E5ECF6\",\"width\":0.5},\"pattern\":{\"fillmode\":\"overlay\",\"size\":10,\"solidity\":0.2}},\"type\":\"bar\"}],\"scattergeo\":[{\"type\":\"scattergeo\",\"marker\":{\"colorbar\":{\"outlinewidth\":0,\"ticks\":\"\"}}}],\"scatterpolar\":[{\"type\":\"scatterpolar\",\"marker\":{\"colorbar\":{\"outlinewidth\":0,\"ticks\":\"\"}}}],\"histogram\":[{\"marker\":{\"pattern\":{\"fillmode\":\"overlay\",\"size\":10,\"solidity\":0.2}},\"type\":\"histogram\"}],\"scattergl\":[{\"type\":\"scattergl\",\"marker\":{\"colorbar\":{\"outlinewidth\":0,\"ticks\":\"\"}}}],\"scatter3d\":[{\"type\":\"scatter3d\",\"line\":{\"colorbar\":{\"outlinewidth\":0,\"ticks\":\"\"}},\"marker\":{\"colorbar\":{\"outlinewidth\":0,\"ticks\":\"\"}}}],\"scattermapbox\":[{\"type\":\"scattermapbox\",\"marker\":{\"colorbar\":{\"outlinewidth\":0,\"ticks\":\"\"}}}],\"scatterternary\":[{\"type\":\"scatterternary\",\"marker\":{\"colorbar\":{\"outlinewidth\":0,\"ticks\":\"\"}}}],\"scattercarpet\":[{\"type\":\"scattercarpet\",\"marker\":{\"colorbar\":{\"outlinewidth\":0,\"ticks\":\"\"}}}],\"carpet\":[{\"aaxis\":{\"endlinecolor\":\"#2a3f5f\",\"gridcolor\":\"white\",\"linecolor\":\"white\",\"minorgridcolor\":\"white\",\"startlinecolor\":\"#2a3f5f\"},\"baxis\":{\"endlinecolor\":\"#2a3f5f\",\"gridcolor\":\"white\",\"linecolor\":\"white\",\"minorgridcolor\":\"white\",\"startlinecolor\":\"#2a3f5f\"},\"type\":\"carpet\"}],\"table\":[{\"cells\":{\"fill\":{\"color\":\"#EBF0F8\"},\"line\":{\"color\":\"white\"}},\"header\":{\"fill\":{\"color\":\"#C8D4E3\"},\"line\":{\"color\":\"white\"}},\"type\":\"table\"}],\"barpolar\":[{\"marker\":{\"line\":{\"color\":\"#E5ECF6\",\"width\":0.5},\"pattern\":{\"fillmode\":\"overlay\",\"size\":10,\"solidity\":0.2}},\"type\":\"barpolar\"}],\"pie\":[{\"automargin\":true,\"type\":\"pie\"}]},\"layout\":{\"autotypenumbers\":\"strict\",\"colorway\":[\"#636efa\",\"#EF553B\",\"#00cc96\",\"#ab63fa\",\"#FFA15A\",\"#19d3f3\",\"#FF6692\",\"#B6E880\",\"#FF97FF\",\"#FECB52\"],\"font\":{\"color\":\"#2a3f5f\"},\"hovermode\":\"closest\",\"hoverlabel\":{\"align\":\"left\"},\"paper_bgcolor\":\"white\",\"plot_bgcolor\":\"#E5ECF6\",\"polar\":{\"bgcolor\":\"#E5ECF6\",\"angularaxis\":{\"gridcolor\":\"white\",\"linecolor\":\"white\",\"ticks\":\"\"},\"radialaxis\":{\"gridcolor\":\"white\",\"linecolor\":\"white\",\"ticks\":\"\"}},\"ternary\":{\"bgcolor\":\"#E5ECF6\",\"aaxis\":{\"gridcolor\":\"white\",\"linecolor\":\"white\",\"ticks\":\"\"},\"baxis\":{\"gridcolor\":\"white\",\"linecolor\":\"white\",\"ticks\":\"\"},\"caxis\":{\"gridcolor\":\"white\",\"linecolor\":\"white\",\"ticks\":\"\"}},\"coloraxis\":{\"colorbar\":{\"outlinewidth\":0,\"ticks\":\"\"}},\"colorscale\":{\"sequential\":[[0.0,\"#0d0887\"],[0.1111111111111111,\"#46039f\"],[0.2222222222222222,\"#7201a8\"],[0.3333333333333333,\"#9c179e\"],[0.4444444444444444,\"#bd3786\"],[0.5555555555555556,\"#d8576b\"],[0.6666666666666666,\"#ed7953\"],[0.7777777777777778,\"#fb9f3a\"],[0.8888888888888888,\"#fdca26\"],[1.0,\"#f0f921\"]],\"sequentialminus\":[[0.0,\"#0d0887\"],[0.1111111111111111,\"#46039f\"],[0.2222222222222222,\"#7201a8\"],[0.3333333333333333,\"#9c179e\"],[0.4444444444444444,\"#bd3786\"],[0.5555555555555556,\"#d8576b\"],[0.6666666666666666,\"#ed7953\"],[0.7777777777777778,\"#fb9f3a\"],[0.8888888888888888,\"#fdca26\"],[1.0,\"#f0f921\"]],\"diverging\":[[0,\"#8e0152\"],[0.1,\"#c51b7d\"],[0.2,\"#de77ae\"],[0.3,\"#f1b6da\"],[0.4,\"#fde0ef\"],[0.5,\"#f7f7f7\"],[0.6,\"#e6f5d0\"],[0.7,\"#b8e186\"],[0.8,\"#7fbc41\"],[0.9,\"#4d9221\"],[1,\"#276419\"]]},\"xaxis\":{\"gridcolor\":\"white\",\"linecolor\":\"white\",\"ticks\":\"\",\"title\":{\"standoff\":15},\"zerolinecolor\":\"white\",\"automargin\":true,\"zerolinewidth\":2},\"yaxis\":{\"gridcolor\":\"white\",\"linecolor\":\"white\",\"ticks\":\"\",\"title\":{\"standoff\":15},\"zerolinecolor\":\"white\",\"automargin\":true,\"zerolinewidth\":2},\"scene\":{\"xaxis\":{\"backgroundcolor\":\"#E5ECF6\",\"gridcolor\":\"white\",\"linecolor\":\"white\",\"showbackground\":true,\"ticks\":\"\",\"zerolinecolor\":\"white\",\"gridwidth\":2},\"yaxis\":{\"backgroundcolor\":\"#E5ECF6\",\"gridcolor\":\"white\",\"linecolor\":\"white\",\"showbackground\":true,\"ticks\":\"\",\"zerolinecolor\":\"white\",\"gridwidth\":2},\"zaxis\":{\"backgroundcolor\":\"#E5ECF6\",\"gridcolor\":\"white\",\"linecolor\":\"white\",\"showbackground\":true,\"ticks\":\"\",\"zerolinecolor\":\"white\",\"gridwidth\":2}},\"shapedefaults\":{\"line\":{\"color\":\"#2a3f5f\"}},\"annotationdefaults\":{\"arrowcolor\":\"#2a3f5f\",\"arrowhead\":0,\"arrowwidth\":1},\"geo\":{\"bgcolor\":\"white\",\"landcolor\":\"#E5ECF6\",\"subunitcolor\":\"white\",\"showland\":true,\"showlakes\":true,\"lakecolor\":\"white\"},\"title\":{\"x\":0.05},\"mapbox\":{\"style\":\"light\"}}},\"xaxis\":{\"anchor\":\"y\",\"domain\":[0.0,1.0],\"title\":{\"text\":\"Town\"}},\"yaxis\":{\"anchor\":\"x\",\"domain\":[0.0,1.0],\"title\":{\"text\":\"Count\"}},\"legend\":{\"title\":{\"text\":\"Fuel Type\"},\"tracegroupgap\":0},\"title\":{\"text\":\"Fuel Type Distribution with Town\"},\"barmode\":\"group\",\"height\":600,\"width\":900},                        {\"responsive\": true}                    ).then(function(){\n",
       "                            \n",
       "var gd = document.getElementById('6034d04f-e543-4898-b9e1-f204cb68ee26');\n",
       "var x = new MutationObserver(function (mutations, observer) {{\n",
       "        var display = window.getComputedStyle(gd).display;\n",
       "        if (!display || display === 'none') {{\n",
       "            console.log([gd, 'removed!']);\n",
       "            Plotly.purge(gd);\n",
       "            observer.disconnect();\n",
       "        }}\n",
       "}});\n",
       "\n",
       "// Listen for the removal of the full notebook cells\n",
       "var notebookContainer = gd.closest('#notebook-container');\n",
       "if (notebookContainer) {{\n",
       "    x.observe(notebookContainer, {childList: true});\n",
       "}}\n",
       "\n",
       "// Listen for the clearing of the current output cell\n",
       "var outputEl = gd.closest('.output');\n",
       "if (outputEl) {{\n",
       "    x.observe(outputEl, {childList: true});\n",
       "}}\n",
       "\n",
       "                        })                };                });            </script>        </div>"
      ]
     },
     "metadata": {},
     "output_type": "display_data"
    }
   ],
   "source": [
    "fuel_Area=petrol_data.loc[:,[\"Fuel Type\",\"Town\"]].groupby([\"Fuel Type\",\"Town\"]).size().reset_index()\n",
    "fuel_Area.columns=[\"Fuel Type\",\"Town\",\"Count\"]\n",
    "fig=px.bar(fuel_Area,x='Town',y='Count',color=\"Fuel Type\",\n",
    "          barmode='group',title=\"Fuel Type Distribution with Town\",\n",
    "          height=600,width=900,)\n",
    "fig.update_traces(marker_line_color='rgb(9,50,100)',marker_line_width=1.5,opacity=0.8)\n",
    "fig.show()"
   ]
  },
  {
   "cell_type": "markdown",
   "id": "c81720fc",
   "metadata": {
    "papermill": {
     "duration": 0.067153,
     "end_time": "2022-05-03T19:51:39.664867",
     "exception": false,
     "start_time": "2022-05-03T19:51:39.597714",
     "status": "completed"
    },
    "tags": []
   },
   "source": [
    "This is where the bias in data comes in ,from the data collection point majority of the data from Nairobi and it's environs were easy to capture compared to outside Nairobi in Towns such as Eldoret,Nanyuki,Kilifi some road names were not indicated.\n",
    "\n",
    "This was an abrupt solution I believe the ikowhere.co.ke team as they continue to develop their platform more data will be easily captured.\n",
    "\n",
    "Both Super & Diesel fuel type were the most reported available fuel type from the petrol stations captured,worth noting is V-power was reported majorly available in Nairobi and it's satellite towns, in Nanyuki Super/Petrol was the only reported fuel type."
   ]
  },
  {
   "cell_type": "markdown",
   "id": "39b246bd",
   "metadata": {
    "papermill": {
     "duration": 0.06794,
     "end_time": "2022-05-03T19:51:39.800238",
     "exception": false,
     "start_time": "2022-05-03T19:51:39.732298",
     "status": "completed"
    },
    "tags": []
   },
   "source": [
    "### Petrol Station Distribution based on Date"
   ]
  },
  {
   "cell_type": "code",
   "execution_count": 19,
   "id": "af056ae2",
   "metadata": {
    "execution": {
     "iopub.execute_input": "2022-05-03T19:51:39.936342Z",
     "iopub.status.busy": "2022-05-03T19:51:39.936063Z",
     "iopub.status.idle": "2022-05-03T19:51:40.078756Z",
     "shell.execute_reply": "2022-05-03T19:51:40.077888Z"
    },
    "papermill": {
     "duration": 0.213876,
     "end_time": "2022-05-03T19:51:40.081689",
     "exception": false,
     "start_time": "2022-05-03T19:51:39.867813",
     "status": "completed"
    },
    "tags": []
   },
   "outputs": [
    {
     "data": {
      "application/vnd.plotly.v1+json": {
       "config": {
        "plotlyServerURL": "https://plot.ly"
       },
       "data": [
        {
         "alignmentgroup": "True",
         "hovertemplate": "Station = Astrol <br>Date=%{x}<br>Count=%{y}<extra></extra>",
         "legendgroup": " Astrol ",
         "marker": {
          "color": "#636efa",
          "line": {
           "color": "rgb(9,50,100)",
           "width": 1.5
          },
          "pattern": {
           "shape": ""
          }
         },
         "name": " Astrol ",
         "offsetgroup": " Astrol ",
         "opacity": 0.8,
         "orientation": "v",
         "showlegend": true,
         "textposition": "auto",
         "type": "bar",
         "x": [
          14,
          15
         ],
         "xaxis": "x",
         "y": [
          2,
          2
         ],
         "yaxis": "y"
        },
        {
         "alignmentgroup": "True",
         "hovertemplate": "Station = Delta <br>Date=%{x}<br>Count=%{y}<extra></extra>",
         "legendgroup": " Delta ",
         "marker": {
          "color": "#EF553B",
          "line": {
           "color": "rgb(9,50,100)",
           "width": 1.5
          },
          "pattern": {
           "shape": ""
          }
         },
         "name": " Delta ",
         "offsetgroup": " Delta ",
         "opacity": 0.8,
         "orientation": "v",
         "showlegend": true,
         "textposition": "auto",
         "type": "bar",
         "x": [
          13,
          14
         ],
         "xaxis": "x",
         "y": [
          6,
          3
         ],
         "yaxis": "y"
        },
        {
         "alignmentgroup": "True",
         "hovertemplate": "Station = Gulf <br>Date=%{x}<br>Count=%{y}<extra></extra>",
         "legendgroup": " Gulf ",
         "marker": {
          "color": "#00cc96",
          "line": {
           "color": "rgb(9,50,100)",
           "width": 1.5
          },
          "pattern": {
           "shape": ""
          }
         },
         "name": " Gulf ",
         "offsetgroup": " Gulf ",
         "opacity": 0.8,
         "orientation": "v",
         "showlegend": true,
         "textposition": "auto",
         "type": "bar",
         "x": [
          13,
          14
         ],
         "xaxis": "x",
         "y": [
          1,
          1
         ],
         "yaxis": "y"
        },
        {
         "alignmentgroup": "True",
         "hovertemplate": "Station = Hass <br>Date=%{x}<br>Count=%{y}<extra></extra>",
         "legendgroup": " Hass ",
         "marker": {
          "color": "#ab63fa",
          "line": {
           "color": "rgb(9,50,100)",
           "width": 1.5
          },
          "pattern": {
           "shape": ""
          }
         },
         "name": " Hass ",
         "offsetgroup": " Hass ",
         "opacity": 0.8,
         "orientation": "v",
         "showlegend": true,
         "textposition": "auto",
         "type": "bar",
         "x": [
          13,
          14,
          15
         ],
         "xaxis": "x",
         "y": [
          2,
          3,
          2
         ],
         "yaxis": "y"
        },
        {
         "alignmentgroup": "True",
         "hovertemplate": "Station = Kobil <br>Date=%{x}<br>Count=%{y}<extra></extra>",
         "legendgroup": " Kobil ",
         "marker": {
          "color": "#FFA15A",
          "line": {
           "color": "rgb(9,50,100)",
           "width": 1.5
          },
          "pattern": {
           "shape": ""
          }
         },
         "name": " Kobil ",
         "offsetgroup": " Kobil ",
         "opacity": 0.8,
         "orientation": "v",
         "showlegend": true,
         "textposition": "auto",
         "type": "bar",
         "x": [
          15,
          16
         ],
         "xaxis": "x",
         "y": [
          1,
          1
         ],
         "yaxis": "y"
        },
        {
         "alignmentgroup": "True",
         "hovertemplate": "Station = Lexo <br>Date=%{x}<br>Count=%{y}<extra></extra>",
         "legendgroup": " Lexo ",
         "marker": {
          "color": "#19d3f3",
          "line": {
           "color": "rgb(9,50,100)",
           "width": 1.5
          },
          "pattern": {
           "shape": ""
          }
         },
         "name": " Lexo ",
         "offsetgroup": " Lexo ",
         "opacity": 0.8,
         "orientation": "v",
         "showlegend": true,
         "textposition": "auto",
         "type": "bar",
         "x": [
          14
         ],
         "xaxis": "x",
         "y": [
          2
         ],
         "yaxis": "y"
        },
        {
         "alignmentgroup": "True",
         "hovertemplate": "Station = Luqman <br>Date=%{x}<br>Count=%{y}<extra></extra>",
         "legendgroup": " Luqman ",
         "marker": {
          "color": "#FF6692",
          "line": {
           "color": "rgb(9,50,100)",
           "width": 1.5
          },
          "pattern": {
           "shape": ""
          }
         },
         "name": " Luqman ",
         "offsetgroup": " Luqman ",
         "opacity": 0.8,
         "orientation": "v",
         "showlegend": true,
         "textposition": "auto",
         "type": "bar",
         "x": [
          13,
          14,
          15,
          17
         ],
         "xaxis": "x",
         "y": [
          3,
          1,
          1,
          1
         ],
         "yaxis": "y"
        },
        {
         "alignmentgroup": "True",
         "hovertemplate": "Station = National Oil <br>Date=%{x}<br>Count=%{y}<extra></extra>",
         "legendgroup": " National Oil ",
         "marker": {
          "color": "#B6E880",
          "line": {
           "color": "rgb(9,50,100)",
           "width": 1.5
          },
          "pattern": {
           "shape": ""
          }
         },
         "name": " National Oil ",
         "offsetgroup": " National Oil ",
         "opacity": 0.8,
         "orientation": "v",
         "showlegend": true,
         "textposition": "auto",
         "type": "bar",
         "x": [
          13,
          14,
          15,
          19
         ],
         "xaxis": "x",
         "y": [
          1,
          3,
          1,
          3
         ],
         "yaxis": "y"
        },
        {
         "alignmentgroup": "True",
         "hovertemplate": "Station = Ola/Oil Libya <br>Date=%{x}<br>Count=%{y}<extra></extra>",
         "legendgroup": " Ola/Oil Libya ",
         "marker": {
          "color": "#FF97FF",
          "line": {
           "color": "rgb(9,50,100)",
           "width": 1.5
          },
          "pattern": {
           "shape": ""
          }
         },
         "name": " Ola/Oil Libya ",
         "offsetgroup": " Ola/Oil Libya ",
         "opacity": 0.8,
         "orientation": "v",
         "showlegend": true,
         "textposition": "auto",
         "type": "bar",
         "x": [
          13,
          14,
          15
         ],
         "xaxis": "x",
         "y": [
          1,
          9,
          7
         ],
         "yaxis": "y"
        },
        {
         "alignmentgroup": "True",
         "hovertemplate": "Station = Other (not listed) <br>Date=%{x}<br>Count=%{y}<extra></extra>",
         "legendgroup": " Other (not listed) ",
         "marker": {
          "color": "#FECB52",
          "line": {
           "color": "rgb(9,50,100)",
           "width": 1.5
          },
          "pattern": {
           "shape": ""
          }
         },
         "name": " Other (not listed) ",
         "offsetgroup": " Other (not listed) ",
         "opacity": 0.8,
         "orientation": "v",
         "showlegend": true,
         "textposition": "auto",
         "type": "bar",
         "x": [
          13,
          14,
          15
         ],
         "xaxis": "x",
         "y": [
          2,
          4,
          2
         ],
         "yaxis": "y"
        },
        {
         "alignmentgroup": "True",
         "hovertemplate": "Station = Petrocity <br>Date=%{x}<br>Count=%{y}<extra></extra>",
         "legendgroup": " Petrocity ",
         "marker": {
          "color": "#636efa",
          "line": {
           "color": "rgb(9,50,100)",
           "width": 1.5
          },
          "pattern": {
           "shape": ""
          }
         },
         "name": " Petrocity ",
         "offsetgroup": " Petrocity ",
         "opacity": 0.8,
         "orientation": "v",
         "showlegend": true,
         "textposition": "auto",
         "type": "bar",
         "x": [
          13,
          14,
          15
         ],
         "xaxis": "x",
         "y": [
          2,
          6,
          5
         ],
         "yaxis": "y"
        },
        {
         "alignmentgroup": "True",
         "hovertemplate": "Station = Riva <br>Date=%{x}<br>Count=%{y}<extra></extra>",
         "legendgroup": " Riva ",
         "marker": {
          "color": "#EF553B",
          "line": {
           "color": "rgb(9,50,100)",
           "width": 1.5
          },
          "pattern": {
           "shape": ""
          }
         },
         "name": " Riva ",
         "offsetgroup": " Riva ",
         "opacity": 0.8,
         "orientation": "v",
         "showlegend": true,
         "textposition": "auto",
         "type": "bar",
         "x": [
          13
         ],
         "xaxis": "x",
         "y": [
          2
         ],
         "yaxis": "y"
        },
        {
         "alignmentgroup": "True",
         "hovertemplate": "Station = Rubis <br>Date=%{x}<br>Count=%{y}<extra></extra>",
         "legendgroup": " Rubis ",
         "marker": {
          "color": "#00cc96",
          "line": {
           "color": "rgb(9,50,100)",
           "width": 1.5
          },
          "pattern": {
           "shape": ""
          }
         },
         "name": " Rubis ",
         "offsetgroup": " Rubis ",
         "opacity": 0.8,
         "orientation": "v",
         "showlegend": true,
         "textposition": "auto",
         "type": "bar",
         "x": [
          8,
          13,
          14,
          15,
          16,
          17,
          19
         ],
         "xaxis": "x",
         "y": [
          1,
          30,
          42,
          28,
          3,
          1,
          1
         ],
         "yaxis": "y"
        },
        {
         "alignmentgroup": "True",
         "hovertemplate": "Station = Shell <br>Date=%{x}<br>Count=%{y}<extra></extra>",
         "legendgroup": " Shell ",
         "marker": {
          "color": "#ab63fa",
          "line": {
           "color": "rgb(9,50,100)",
           "width": 1.5
          },
          "pattern": {
           "shape": ""
          }
         },
         "name": " Shell ",
         "offsetgroup": " Shell ",
         "opacity": 0.8,
         "orientation": "v",
         "showlegend": true,
         "textposition": "auto",
         "type": "bar",
         "x": [
          8,
          12,
          13,
          14,
          15,
          16,
          18
         ],
         "xaxis": "x",
         "y": [
          3,
          3,
          57,
          62,
          18,
          2,
          2
         ],
         "yaxis": "y"
        },
        {
         "alignmentgroup": "True",
         "hovertemplate": "Station = Tosha <br>Date=%{x}<br>Count=%{y}<extra></extra>",
         "legendgroup": " Tosha ",
         "marker": {
          "color": "#FFA15A",
          "line": {
           "color": "rgb(9,50,100)",
           "width": 1.5
          },
          "pattern": {
           "shape": ""
          }
         },
         "name": " Tosha ",
         "offsetgroup": " Tosha ",
         "opacity": 0.8,
         "orientation": "v",
         "showlegend": true,
         "textposition": "auto",
         "type": "bar",
         "x": [
          13,
          15
         ],
         "xaxis": "x",
         "y": [
          2,
          2
         ],
         "yaxis": "y"
        },
        {
         "alignmentgroup": "True",
         "hovertemplate": "Station = Total <br>Date=%{x}<br>Count=%{y}<extra></extra>",
         "legendgroup": " Total ",
         "marker": {
          "color": "#19d3f3",
          "line": {
           "color": "rgb(9,50,100)",
           "width": 1.5
          },
          "pattern": {
           "shape": ""
          }
         },
         "name": " Total ",
         "offsetgroup": " Total ",
         "opacity": 0.8,
         "orientation": "v",
         "showlegend": true,
         "textposition": "auto",
         "type": "bar",
         "x": [
          10,
          12,
          13,
          14,
          15,
          16,
          17,
          18
         ],
         "xaxis": "x",
         "y": [
          2,
          1,
          50,
          57,
          48,
          8,
          1,
          1
         ],
         "yaxis": "y"
        }
       ],
       "layout": {
        "barmode": "group",
        "height": 600,
        "legend": {
         "title": {
          "text": "Station "
         },
         "tracegroupgap": 0
        },
        "template": {
         "data": {
          "bar": [
           {
            "error_x": {
             "color": "#2a3f5f"
            },
            "error_y": {
             "color": "#2a3f5f"
            },
            "marker": {
             "line": {
              "color": "#E5ECF6",
              "width": 0.5
             },
             "pattern": {
              "fillmode": "overlay",
              "size": 10,
              "solidity": 0.2
             }
            },
            "type": "bar"
           }
          ],
          "barpolar": [
           {
            "marker": {
             "line": {
              "color": "#E5ECF6",
              "width": 0.5
             },
             "pattern": {
              "fillmode": "overlay",
              "size": 10,
              "solidity": 0.2
             }
            },
            "type": "barpolar"
           }
          ],
          "carpet": [
           {
            "aaxis": {
             "endlinecolor": "#2a3f5f",
             "gridcolor": "white",
             "linecolor": "white",
             "minorgridcolor": "white",
             "startlinecolor": "#2a3f5f"
            },
            "baxis": {
             "endlinecolor": "#2a3f5f",
             "gridcolor": "white",
             "linecolor": "white",
             "minorgridcolor": "white",
             "startlinecolor": "#2a3f5f"
            },
            "type": "carpet"
           }
          ],
          "choropleth": [
           {
            "colorbar": {
             "outlinewidth": 0,
             "ticks": ""
            },
            "type": "choropleth"
           }
          ],
          "contour": [
           {
            "colorbar": {
             "outlinewidth": 0,
             "ticks": ""
            },
            "colorscale": [
             [
              0.0,
              "#0d0887"
             ],
             [
              0.1111111111111111,
              "#46039f"
             ],
             [
              0.2222222222222222,
              "#7201a8"
             ],
             [
              0.3333333333333333,
              "#9c179e"
             ],
             [
              0.4444444444444444,
              "#bd3786"
             ],
             [
              0.5555555555555556,
              "#d8576b"
             ],
             [
              0.6666666666666666,
              "#ed7953"
             ],
             [
              0.7777777777777778,
              "#fb9f3a"
             ],
             [
              0.8888888888888888,
              "#fdca26"
             ],
             [
              1.0,
              "#f0f921"
             ]
            ],
            "type": "contour"
           }
          ],
          "contourcarpet": [
           {
            "colorbar": {
             "outlinewidth": 0,
             "ticks": ""
            },
            "type": "contourcarpet"
           }
          ],
          "heatmap": [
           {
            "colorbar": {
             "outlinewidth": 0,
             "ticks": ""
            },
            "colorscale": [
             [
              0.0,
              "#0d0887"
             ],
             [
              0.1111111111111111,
              "#46039f"
             ],
             [
              0.2222222222222222,
              "#7201a8"
             ],
             [
              0.3333333333333333,
              "#9c179e"
             ],
             [
              0.4444444444444444,
              "#bd3786"
             ],
             [
              0.5555555555555556,
              "#d8576b"
             ],
             [
              0.6666666666666666,
              "#ed7953"
             ],
             [
              0.7777777777777778,
              "#fb9f3a"
             ],
             [
              0.8888888888888888,
              "#fdca26"
             ],
             [
              1.0,
              "#f0f921"
             ]
            ],
            "type": "heatmap"
           }
          ],
          "heatmapgl": [
           {
            "colorbar": {
             "outlinewidth": 0,
             "ticks": ""
            },
            "colorscale": [
             [
              0.0,
              "#0d0887"
             ],
             [
              0.1111111111111111,
              "#46039f"
             ],
             [
              0.2222222222222222,
              "#7201a8"
             ],
             [
              0.3333333333333333,
              "#9c179e"
             ],
             [
              0.4444444444444444,
              "#bd3786"
             ],
             [
              0.5555555555555556,
              "#d8576b"
             ],
             [
              0.6666666666666666,
              "#ed7953"
             ],
             [
              0.7777777777777778,
              "#fb9f3a"
             ],
             [
              0.8888888888888888,
              "#fdca26"
             ],
             [
              1.0,
              "#f0f921"
             ]
            ],
            "type": "heatmapgl"
           }
          ],
          "histogram": [
           {
            "marker": {
             "pattern": {
              "fillmode": "overlay",
              "size": 10,
              "solidity": 0.2
             }
            },
            "type": "histogram"
           }
          ],
          "histogram2d": [
           {
            "colorbar": {
             "outlinewidth": 0,
             "ticks": ""
            },
            "colorscale": [
             [
              0.0,
              "#0d0887"
             ],
             [
              0.1111111111111111,
              "#46039f"
             ],
             [
              0.2222222222222222,
              "#7201a8"
             ],
             [
              0.3333333333333333,
              "#9c179e"
             ],
             [
              0.4444444444444444,
              "#bd3786"
             ],
             [
              0.5555555555555556,
              "#d8576b"
             ],
             [
              0.6666666666666666,
              "#ed7953"
             ],
             [
              0.7777777777777778,
              "#fb9f3a"
             ],
             [
              0.8888888888888888,
              "#fdca26"
             ],
             [
              1.0,
              "#f0f921"
             ]
            ],
            "type": "histogram2d"
           }
          ],
          "histogram2dcontour": [
           {
            "colorbar": {
             "outlinewidth": 0,
             "ticks": ""
            },
            "colorscale": [
             [
              0.0,
              "#0d0887"
             ],
             [
              0.1111111111111111,
              "#46039f"
             ],
             [
              0.2222222222222222,
              "#7201a8"
             ],
             [
              0.3333333333333333,
              "#9c179e"
             ],
             [
              0.4444444444444444,
              "#bd3786"
             ],
             [
              0.5555555555555556,
              "#d8576b"
             ],
             [
              0.6666666666666666,
              "#ed7953"
             ],
             [
              0.7777777777777778,
              "#fb9f3a"
             ],
             [
              0.8888888888888888,
              "#fdca26"
             ],
             [
              1.0,
              "#f0f921"
             ]
            ],
            "type": "histogram2dcontour"
           }
          ],
          "mesh3d": [
           {
            "colorbar": {
             "outlinewidth": 0,
             "ticks": ""
            },
            "type": "mesh3d"
           }
          ],
          "parcoords": [
           {
            "line": {
             "colorbar": {
              "outlinewidth": 0,
              "ticks": ""
             }
            },
            "type": "parcoords"
           }
          ],
          "pie": [
           {
            "automargin": true,
            "type": "pie"
           }
          ],
          "scatter": [
           {
            "fillpattern": {
             "fillmode": "overlay",
             "size": 10,
             "solidity": 0.2
            },
            "type": "scatter"
           }
          ],
          "scatter3d": [
           {
            "line": {
             "colorbar": {
              "outlinewidth": 0,
              "ticks": ""
             }
            },
            "marker": {
             "colorbar": {
              "outlinewidth": 0,
              "ticks": ""
             }
            },
            "type": "scatter3d"
           }
          ],
          "scattercarpet": [
           {
            "marker": {
             "colorbar": {
              "outlinewidth": 0,
              "ticks": ""
             }
            },
            "type": "scattercarpet"
           }
          ],
          "scattergeo": [
           {
            "marker": {
             "colorbar": {
              "outlinewidth": 0,
              "ticks": ""
             }
            },
            "type": "scattergeo"
           }
          ],
          "scattergl": [
           {
            "marker": {
             "colorbar": {
              "outlinewidth": 0,
              "ticks": ""
             }
            },
            "type": "scattergl"
           }
          ],
          "scattermapbox": [
           {
            "marker": {
             "colorbar": {
              "outlinewidth": 0,
              "ticks": ""
             }
            },
            "type": "scattermapbox"
           }
          ],
          "scatterpolar": [
           {
            "marker": {
             "colorbar": {
              "outlinewidth": 0,
              "ticks": ""
             }
            },
            "type": "scatterpolar"
           }
          ],
          "scatterpolargl": [
           {
            "marker": {
             "colorbar": {
              "outlinewidth": 0,
              "ticks": ""
             }
            },
            "type": "scatterpolargl"
           }
          ],
          "scatterternary": [
           {
            "marker": {
             "colorbar": {
              "outlinewidth": 0,
              "ticks": ""
             }
            },
            "type": "scatterternary"
           }
          ],
          "surface": [
           {
            "colorbar": {
             "outlinewidth": 0,
             "ticks": ""
            },
            "colorscale": [
             [
              0.0,
              "#0d0887"
             ],
             [
              0.1111111111111111,
              "#46039f"
             ],
             [
              0.2222222222222222,
              "#7201a8"
             ],
             [
              0.3333333333333333,
              "#9c179e"
             ],
             [
              0.4444444444444444,
              "#bd3786"
             ],
             [
              0.5555555555555556,
              "#d8576b"
             ],
             [
              0.6666666666666666,
              "#ed7953"
             ],
             [
              0.7777777777777778,
              "#fb9f3a"
             ],
             [
              0.8888888888888888,
              "#fdca26"
             ],
             [
              1.0,
              "#f0f921"
             ]
            ],
            "type": "surface"
           }
          ],
          "table": [
           {
            "cells": {
             "fill": {
              "color": "#EBF0F8"
             },
             "line": {
              "color": "white"
             }
            },
            "header": {
             "fill": {
              "color": "#C8D4E3"
             },
             "line": {
              "color": "white"
             }
            },
            "type": "table"
           }
          ]
         },
         "layout": {
          "annotationdefaults": {
           "arrowcolor": "#2a3f5f",
           "arrowhead": 0,
           "arrowwidth": 1
          },
          "autotypenumbers": "strict",
          "coloraxis": {
           "colorbar": {
            "outlinewidth": 0,
            "ticks": ""
           }
          },
          "colorscale": {
           "diverging": [
            [
             0,
             "#8e0152"
            ],
            [
             0.1,
             "#c51b7d"
            ],
            [
             0.2,
             "#de77ae"
            ],
            [
             0.3,
             "#f1b6da"
            ],
            [
             0.4,
             "#fde0ef"
            ],
            [
             0.5,
             "#f7f7f7"
            ],
            [
             0.6,
             "#e6f5d0"
            ],
            [
             0.7,
             "#b8e186"
            ],
            [
             0.8,
             "#7fbc41"
            ],
            [
             0.9,
             "#4d9221"
            ],
            [
             1,
             "#276419"
            ]
           ],
           "sequential": [
            [
             0.0,
             "#0d0887"
            ],
            [
             0.1111111111111111,
             "#46039f"
            ],
            [
             0.2222222222222222,
             "#7201a8"
            ],
            [
             0.3333333333333333,
             "#9c179e"
            ],
            [
             0.4444444444444444,
             "#bd3786"
            ],
            [
             0.5555555555555556,
             "#d8576b"
            ],
            [
             0.6666666666666666,
             "#ed7953"
            ],
            [
             0.7777777777777778,
             "#fb9f3a"
            ],
            [
             0.8888888888888888,
             "#fdca26"
            ],
            [
             1.0,
             "#f0f921"
            ]
           ],
           "sequentialminus": [
            [
             0.0,
             "#0d0887"
            ],
            [
             0.1111111111111111,
             "#46039f"
            ],
            [
             0.2222222222222222,
             "#7201a8"
            ],
            [
             0.3333333333333333,
             "#9c179e"
            ],
            [
             0.4444444444444444,
             "#bd3786"
            ],
            [
             0.5555555555555556,
             "#d8576b"
            ],
            [
             0.6666666666666666,
             "#ed7953"
            ],
            [
             0.7777777777777778,
             "#fb9f3a"
            ],
            [
             0.8888888888888888,
             "#fdca26"
            ],
            [
             1.0,
             "#f0f921"
            ]
           ]
          },
          "colorway": [
           "#636efa",
           "#EF553B",
           "#00cc96",
           "#ab63fa",
           "#FFA15A",
           "#19d3f3",
           "#FF6692",
           "#B6E880",
           "#FF97FF",
           "#FECB52"
          ],
          "font": {
           "color": "#2a3f5f"
          },
          "geo": {
           "bgcolor": "white",
           "lakecolor": "white",
           "landcolor": "#E5ECF6",
           "showlakes": true,
           "showland": true,
           "subunitcolor": "white"
          },
          "hoverlabel": {
           "align": "left"
          },
          "hovermode": "closest",
          "mapbox": {
           "style": "light"
          },
          "paper_bgcolor": "white",
          "plot_bgcolor": "#E5ECF6",
          "polar": {
           "angularaxis": {
            "gridcolor": "white",
            "linecolor": "white",
            "ticks": ""
           },
           "bgcolor": "#E5ECF6",
           "radialaxis": {
            "gridcolor": "white",
            "linecolor": "white",
            "ticks": ""
           }
          },
          "scene": {
           "xaxis": {
            "backgroundcolor": "#E5ECF6",
            "gridcolor": "white",
            "gridwidth": 2,
            "linecolor": "white",
            "showbackground": true,
            "ticks": "",
            "zerolinecolor": "white"
           },
           "yaxis": {
            "backgroundcolor": "#E5ECF6",
            "gridcolor": "white",
            "gridwidth": 2,
            "linecolor": "white",
            "showbackground": true,
            "ticks": "",
            "zerolinecolor": "white"
           },
           "zaxis": {
            "backgroundcolor": "#E5ECF6",
            "gridcolor": "white",
            "gridwidth": 2,
            "linecolor": "white",
            "showbackground": true,
            "ticks": "",
            "zerolinecolor": "white"
           }
          },
          "shapedefaults": {
           "line": {
            "color": "#2a3f5f"
           }
          },
          "ternary": {
           "aaxis": {
            "gridcolor": "white",
            "linecolor": "white",
            "ticks": ""
           },
           "baxis": {
            "gridcolor": "white",
            "linecolor": "white",
            "ticks": ""
           },
           "bgcolor": "#E5ECF6",
           "caxis": {
            "gridcolor": "white",
            "linecolor": "white",
            "ticks": ""
           }
          },
          "title": {
           "x": 0.05
          },
          "xaxis": {
           "automargin": true,
           "gridcolor": "white",
           "linecolor": "white",
           "ticks": "",
           "title": {
            "standoff": 15
           },
           "zerolinecolor": "white",
           "zerolinewidth": 2
          },
          "yaxis": {
           "automargin": true,
           "gridcolor": "white",
           "linecolor": "white",
           "ticks": "",
           "title": {
            "standoff": 15
           },
           "zerolinecolor": "white",
           "zerolinewidth": 2
          }
         }
        },
        "title": {
         "text": "Date Distribution and Station"
        },
        "width": 1100,
        "xaxis": {
         "anchor": "y",
         "domain": [
          0.0,
          1.0
         ],
         "title": {
          "text": "Date"
         }
        },
        "yaxis": {
         "anchor": "x",
         "domain": [
          0.0,
          1.0
         ],
         "title": {
          "text": "Count"
         }
        }
       }
      },
      "text/html": [
       "<div>                            <div id=\"bdd3765c-81b4-4dc0-bbb1-e4c3292585f1\" class=\"plotly-graph-div\" style=\"height:600px; width:1100px;\"></div>            <script type=\"text/javascript\">                require([\"plotly\"], function(Plotly) {                    window.PLOTLYENV=window.PLOTLYENV || {};                                    if (document.getElementById(\"bdd3765c-81b4-4dc0-bbb1-e4c3292585f1\")) {                    Plotly.newPlot(                        \"bdd3765c-81b4-4dc0-bbb1-e4c3292585f1\",                        [{\"alignmentgroup\":\"True\",\"hovertemplate\":\"Station = Astrol <br>Date=%{x}<br>Count=%{y}<extra></extra>\",\"legendgroup\":\" Astrol \",\"marker\":{\"color\":\"#636efa\",\"pattern\":{\"shape\":\"\"},\"line\":{\"color\":\"rgb(9,50,100)\",\"width\":1.5}},\"name\":\" Astrol \",\"offsetgroup\":\" Astrol \",\"orientation\":\"v\",\"showlegend\":true,\"textposition\":\"auto\",\"x\":[14,15],\"xaxis\":\"x\",\"y\":[2,2],\"yaxis\":\"y\",\"type\":\"bar\",\"opacity\":0.8},{\"alignmentgroup\":\"True\",\"hovertemplate\":\"Station = Delta <br>Date=%{x}<br>Count=%{y}<extra></extra>\",\"legendgroup\":\" Delta \",\"marker\":{\"color\":\"#EF553B\",\"pattern\":{\"shape\":\"\"},\"line\":{\"color\":\"rgb(9,50,100)\",\"width\":1.5}},\"name\":\" Delta \",\"offsetgroup\":\" Delta \",\"orientation\":\"v\",\"showlegend\":true,\"textposition\":\"auto\",\"x\":[13,14],\"xaxis\":\"x\",\"y\":[6,3],\"yaxis\":\"y\",\"type\":\"bar\",\"opacity\":0.8},{\"alignmentgroup\":\"True\",\"hovertemplate\":\"Station = Gulf <br>Date=%{x}<br>Count=%{y}<extra></extra>\",\"legendgroup\":\" Gulf \",\"marker\":{\"color\":\"#00cc96\",\"pattern\":{\"shape\":\"\"},\"line\":{\"color\":\"rgb(9,50,100)\",\"width\":1.5}},\"name\":\" Gulf \",\"offsetgroup\":\" Gulf \",\"orientation\":\"v\",\"showlegend\":true,\"textposition\":\"auto\",\"x\":[13,14],\"xaxis\":\"x\",\"y\":[1,1],\"yaxis\":\"y\",\"type\":\"bar\",\"opacity\":0.8},{\"alignmentgroup\":\"True\",\"hovertemplate\":\"Station = Hass <br>Date=%{x}<br>Count=%{y}<extra></extra>\",\"legendgroup\":\" Hass \",\"marker\":{\"color\":\"#ab63fa\",\"pattern\":{\"shape\":\"\"},\"line\":{\"color\":\"rgb(9,50,100)\",\"width\":1.5}},\"name\":\" Hass \",\"offsetgroup\":\" Hass \",\"orientation\":\"v\",\"showlegend\":true,\"textposition\":\"auto\",\"x\":[13,14,15],\"xaxis\":\"x\",\"y\":[2,3,2],\"yaxis\":\"y\",\"type\":\"bar\",\"opacity\":0.8},{\"alignmentgroup\":\"True\",\"hovertemplate\":\"Station = Kobil <br>Date=%{x}<br>Count=%{y}<extra></extra>\",\"legendgroup\":\" Kobil \",\"marker\":{\"color\":\"#FFA15A\",\"pattern\":{\"shape\":\"\"},\"line\":{\"color\":\"rgb(9,50,100)\",\"width\":1.5}},\"name\":\" Kobil \",\"offsetgroup\":\" Kobil \",\"orientation\":\"v\",\"showlegend\":true,\"textposition\":\"auto\",\"x\":[15,16],\"xaxis\":\"x\",\"y\":[1,1],\"yaxis\":\"y\",\"type\":\"bar\",\"opacity\":0.8},{\"alignmentgroup\":\"True\",\"hovertemplate\":\"Station = Lexo <br>Date=%{x}<br>Count=%{y}<extra></extra>\",\"legendgroup\":\" Lexo \",\"marker\":{\"color\":\"#19d3f3\",\"pattern\":{\"shape\":\"\"},\"line\":{\"color\":\"rgb(9,50,100)\",\"width\":1.5}},\"name\":\" Lexo \",\"offsetgroup\":\" Lexo \",\"orientation\":\"v\",\"showlegend\":true,\"textposition\":\"auto\",\"x\":[14],\"xaxis\":\"x\",\"y\":[2],\"yaxis\":\"y\",\"type\":\"bar\",\"opacity\":0.8},{\"alignmentgroup\":\"True\",\"hovertemplate\":\"Station = Luqman <br>Date=%{x}<br>Count=%{y}<extra></extra>\",\"legendgroup\":\" Luqman \",\"marker\":{\"color\":\"#FF6692\",\"pattern\":{\"shape\":\"\"},\"line\":{\"color\":\"rgb(9,50,100)\",\"width\":1.5}},\"name\":\" Luqman \",\"offsetgroup\":\" Luqman \",\"orientation\":\"v\",\"showlegend\":true,\"textposition\":\"auto\",\"x\":[13,14,15,17],\"xaxis\":\"x\",\"y\":[3,1,1,1],\"yaxis\":\"y\",\"type\":\"bar\",\"opacity\":0.8},{\"alignmentgroup\":\"True\",\"hovertemplate\":\"Station = National Oil <br>Date=%{x}<br>Count=%{y}<extra></extra>\",\"legendgroup\":\" National Oil \",\"marker\":{\"color\":\"#B6E880\",\"pattern\":{\"shape\":\"\"},\"line\":{\"color\":\"rgb(9,50,100)\",\"width\":1.5}},\"name\":\" National Oil \",\"offsetgroup\":\" National Oil \",\"orientation\":\"v\",\"showlegend\":true,\"textposition\":\"auto\",\"x\":[13,14,15,19],\"xaxis\":\"x\",\"y\":[1,3,1,3],\"yaxis\":\"y\",\"type\":\"bar\",\"opacity\":0.8},{\"alignmentgroup\":\"True\",\"hovertemplate\":\"Station = Ola/Oil Libya <br>Date=%{x}<br>Count=%{y}<extra></extra>\",\"legendgroup\":\" Ola/Oil Libya \",\"marker\":{\"color\":\"#FF97FF\",\"pattern\":{\"shape\":\"\"},\"line\":{\"color\":\"rgb(9,50,100)\",\"width\":1.5}},\"name\":\" Ola/Oil Libya \",\"offsetgroup\":\" Ola/Oil Libya \",\"orientation\":\"v\",\"showlegend\":true,\"textposition\":\"auto\",\"x\":[13,14,15],\"xaxis\":\"x\",\"y\":[1,9,7],\"yaxis\":\"y\",\"type\":\"bar\",\"opacity\":0.8},{\"alignmentgroup\":\"True\",\"hovertemplate\":\"Station = Other (not listed) <br>Date=%{x}<br>Count=%{y}<extra></extra>\",\"legendgroup\":\" Other (not listed) \",\"marker\":{\"color\":\"#FECB52\",\"pattern\":{\"shape\":\"\"},\"line\":{\"color\":\"rgb(9,50,100)\",\"width\":1.5}},\"name\":\" Other (not listed) \",\"offsetgroup\":\" Other (not listed) \",\"orientation\":\"v\",\"showlegend\":true,\"textposition\":\"auto\",\"x\":[13,14,15],\"xaxis\":\"x\",\"y\":[2,4,2],\"yaxis\":\"y\",\"type\":\"bar\",\"opacity\":0.8},{\"alignmentgroup\":\"True\",\"hovertemplate\":\"Station = Petrocity <br>Date=%{x}<br>Count=%{y}<extra></extra>\",\"legendgroup\":\" Petrocity \",\"marker\":{\"color\":\"#636efa\",\"pattern\":{\"shape\":\"\"},\"line\":{\"color\":\"rgb(9,50,100)\",\"width\":1.5}},\"name\":\" Petrocity \",\"offsetgroup\":\" Petrocity \",\"orientation\":\"v\",\"showlegend\":true,\"textposition\":\"auto\",\"x\":[13,14,15],\"xaxis\":\"x\",\"y\":[2,6,5],\"yaxis\":\"y\",\"type\":\"bar\",\"opacity\":0.8},{\"alignmentgroup\":\"True\",\"hovertemplate\":\"Station = Riva <br>Date=%{x}<br>Count=%{y}<extra></extra>\",\"legendgroup\":\" Riva \",\"marker\":{\"color\":\"#EF553B\",\"pattern\":{\"shape\":\"\"},\"line\":{\"color\":\"rgb(9,50,100)\",\"width\":1.5}},\"name\":\" Riva \",\"offsetgroup\":\" Riva \",\"orientation\":\"v\",\"showlegend\":true,\"textposition\":\"auto\",\"x\":[13],\"xaxis\":\"x\",\"y\":[2],\"yaxis\":\"y\",\"type\":\"bar\",\"opacity\":0.8},{\"alignmentgroup\":\"True\",\"hovertemplate\":\"Station = Rubis <br>Date=%{x}<br>Count=%{y}<extra></extra>\",\"legendgroup\":\" Rubis \",\"marker\":{\"color\":\"#00cc96\",\"pattern\":{\"shape\":\"\"},\"line\":{\"color\":\"rgb(9,50,100)\",\"width\":1.5}},\"name\":\" Rubis \",\"offsetgroup\":\" Rubis \",\"orientation\":\"v\",\"showlegend\":true,\"textposition\":\"auto\",\"x\":[8,13,14,15,16,17,19],\"xaxis\":\"x\",\"y\":[1,30,42,28,3,1,1],\"yaxis\":\"y\",\"type\":\"bar\",\"opacity\":0.8},{\"alignmentgroup\":\"True\",\"hovertemplate\":\"Station = Shell <br>Date=%{x}<br>Count=%{y}<extra></extra>\",\"legendgroup\":\" Shell \",\"marker\":{\"color\":\"#ab63fa\",\"pattern\":{\"shape\":\"\"},\"line\":{\"color\":\"rgb(9,50,100)\",\"width\":1.5}},\"name\":\" Shell \",\"offsetgroup\":\" Shell \",\"orientation\":\"v\",\"showlegend\":true,\"textposition\":\"auto\",\"x\":[8,12,13,14,15,16,18],\"xaxis\":\"x\",\"y\":[3,3,57,62,18,2,2],\"yaxis\":\"y\",\"type\":\"bar\",\"opacity\":0.8},{\"alignmentgroup\":\"True\",\"hovertemplate\":\"Station = Tosha <br>Date=%{x}<br>Count=%{y}<extra></extra>\",\"legendgroup\":\" Tosha \",\"marker\":{\"color\":\"#FFA15A\",\"pattern\":{\"shape\":\"\"},\"line\":{\"color\":\"rgb(9,50,100)\",\"width\":1.5}},\"name\":\" Tosha \",\"offsetgroup\":\" Tosha \",\"orientation\":\"v\",\"showlegend\":true,\"textposition\":\"auto\",\"x\":[13,15],\"xaxis\":\"x\",\"y\":[2,2],\"yaxis\":\"y\",\"type\":\"bar\",\"opacity\":0.8},{\"alignmentgroup\":\"True\",\"hovertemplate\":\"Station = Total <br>Date=%{x}<br>Count=%{y}<extra></extra>\",\"legendgroup\":\" Total \",\"marker\":{\"color\":\"#19d3f3\",\"pattern\":{\"shape\":\"\"},\"line\":{\"color\":\"rgb(9,50,100)\",\"width\":1.5}},\"name\":\" Total \",\"offsetgroup\":\" Total \",\"orientation\":\"v\",\"showlegend\":true,\"textposition\":\"auto\",\"x\":[10,12,13,14,15,16,17,18],\"xaxis\":\"x\",\"y\":[2,1,50,57,48,8,1,1],\"yaxis\":\"y\",\"type\":\"bar\",\"opacity\":0.8}],                        {\"template\":{\"data\":{\"histogram2dcontour\":[{\"type\":\"histogram2dcontour\",\"colorbar\":{\"outlinewidth\":0,\"ticks\":\"\"},\"colorscale\":[[0.0,\"#0d0887\"],[0.1111111111111111,\"#46039f\"],[0.2222222222222222,\"#7201a8\"],[0.3333333333333333,\"#9c179e\"],[0.4444444444444444,\"#bd3786\"],[0.5555555555555556,\"#d8576b\"],[0.6666666666666666,\"#ed7953\"],[0.7777777777777778,\"#fb9f3a\"],[0.8888888888888888,\"#fdca26\"],[1.0,\"#f0f921\"]]}],\"choropleth\":[{\"type\":\"choropleth\",\"colorbar\":{\"outlinewidth\":0,\"ticks\":\"\"}}],\"histogram2d\":[{\"type\":\"histogram2d\",\"colorbar\":{\"outlinewidth\":0,\"ticks\":\"\"},\"colorscale\":[[0.0,\"#0d0887\"],[0.1111111111111111,\"#46039f\"],[0.2222222222222222,\"#7201a8\"],[0.3333333333333333,\"#9c179e\"],[0.4444444444444444,\"#bd3786\"],[0.5555555555555556,\"#d8576b\"],[0.6666666666666666,\"#ed7953\"],[0.7777777777777778,\"#fb9f3a\"],[0.8888888888888888,\"#fdca26\"],[1.0,\"#f0f921\"]]}],\"heatmap\":[{\"type\":\"heatmap\",\"colorbar\":{\"outlinewidth\":0,\"ticks\":\"\"},\"colorscale\":[[0.0,\"#0d0887\"],[0.1111111111111111,\"#46039f\"],[0.2222222222222222,\"#7201a8\"],[0.3333333333333333,\"#9c179e\"],[0.4444444444444444,\"#bd3786\"],[0.5555555555555556,\"#d8576b\"],[0.6666666666666666,\"#ed7953\"],[0.7777777777777778,\"#fb9f3a\"],[0.8888888888888888,\"#fdca26\"],[1.0,\"#f0f921\"]]}],\"heatmapgl\":[{\"type\":\"heatmapgl\",\"colorbar\":{\"outlinewidth\":0,\"ticks\":\"\"},\"colorscale\":[[0.0,\"#0d0887\"],[0.1111111111111111,\"#46039f\"],[0.2222222222222222,\"#7201a8\"],[0.3333333333333333,\"#9c179e\"],[0.4444444444444444,\"#bd3786\"],[0.5555555555555556,\"#d8576b\"],[0.6666666666666666,\"#ed7953\"],[0.7777777777777778,\"#fb9f3a\"],[0.8888888888888888,\"#fdca26\"],[1.0,\"#f0f921\"]]}],\"contourcarpet\":[{\"type\":\"contourcarpet\",\"colorbar\":{\"outlinewidth\":0,\"ticks\":\"\"}}],\"contour\":[{\"type\":\"contour\",\"colorbar\":{\"outlinewidth\":0,\"ticks\":\"\"},\"colorscale\":[[0.0,\"#0d0887\"],[0.1111111111111111,\"#46039f\"],[0.2222222222222222,\"#7201a8\"],[0.3333333333333333,\"#9c179e\"],[0.4444444444444444,\"#bd3786\"],[0.5555555555555556,\"#d8576b\"],[0.6666666666666666,\"#ed7953\"],[0.7777777777777778,\"#fb9f3a\"],[0.8888888888888888,\"#fdca26\"],[1.0,\"#f0f921\"]]}],\"surface\":[{\"type\":\"surface\",\"colorbar\":{\"outlinewidth\":0,\"ticks\":\"\"},\"colorscale\":[[0.0,\"#0d0887\"],[0.1111111111111111,\"#46039f\"],[0.2222222222222222,\"#7201a8\"],[0.3333333333333333,\"#9c179e\"],[0.4444444444444444,\"#bd3786\"],[0.5555555555555556,\"#d8576b\"],[0.6666666666666666,\"#ed7953\"],[0.7777777777777778,\"#fb9f3a\"],[0.8888888888888888,\"#fdca26\"],[1.0,\"#f0f921\"]]}],\"mesh3d\":[{\"type\":\"mesh3d\",\"colorbar\":{\"outlinewidth\":0,\"ticks\":\"\"}}],\"scatter\":[{\"fillpattern\":{\"fillmode\":\"overlay\",\"size\":10,\"solidity\":0.2},\"type\":\"scatter\"}],\"parcoords\":[{\"type\":\"parcoords\",\"line\":{\"colorbar\":{\"outlinewidth\":0,\"ticks\":\"\"}}}],\"scatterpolargl\":[{\"type\":\"scatterpolargl\",\"marker\":{\"colorbar\":{\"outlinewidth\":0,\"ticks\":\"\"}}}],\"bar\":[{\"error_x\":{\"color\":\"#2a3f5f\"},\"error_y\":{\"color\":\"#2a3f5f\"},\"marker\":{\"line\":{\"color\":\"#E5ECF6\",\"width\":0.5},\"pattern\":{\"fillmode\":\"overlay\",\"size\":10,\"solidity\":0.2}},\"type\":\"bar\"}],\"scattergeo\":[{\"type\":\"scattergeo\",\"marker\":{\"colorbar\":{\"outlinewidth\":0,\"ticks\":\"\"}}}],\"scatterpolar\":[{\"type\":\"scatterpolar\",\"marker\":{\"colorbar\":{\"outlinewidth\":0,\"ticks\":\"\"}}}],\"histogram\":[{\"marker\":{\"pattern\":{\"fillmode\":\"overlay\",\"size\":10,\"solidity\":0.2}},\"type\":\"histogram\"}],\"scattergl\":[{\"type\":\"scattergl\",\"marker\":{\"colorbar\":{\"outlinewidth\":0,\"ticks\":\"\"}}}],\"scatter3d\":[{\"type\":\"scatter3d\",\"line\":{\"colorbar\":{\"outlinewidth\":0,\"ticks\":\"\"}},\"marker\":{\"colorbar\":{\"outlinewidth\":0,\"ticks\":\"\"}}}],\"scattermapbox\":[{\"type\":\"scattermapbox\",\"marker\":{\"colorbar\":{\"outlinewidth\":0,\"ticks\":\"\"}}}],\"scatterternary\":[{\"type\":\"scatterternary\",\"marker\":{\"colorbar\":{\"outlinewidth\":0,\"ticks\":\"\"}}}],\"scattercarpet\":[{\"type\":\"scattercarpet\",\"marker\":{\"colorbar\":{\"outlinewidth\":0,\"ticks\":\"\"}}}],\"carpet\":[{\"aaxis\":{\"endlinecolor\":\"#2a3f5f\",\"gridcolor\":\"white\",\"linecolor\":\"white\",\"minorgridcolor\":\"white\",\"startlinecolor\":\"#2a3f5f\"},\"baxis\":{\"endlinecolor\":\"#2a3f5f\",\"gridcolor\":\"white\",\"linecolor\":\"white\",\"minorgridcolor\":\"white\",\"startlinecolor\":\"#2a3f5f\"},\"type\":\"carpet\"}],\"table\":[{\"cells\":{\"fill\":{\"color\":\"#EBF0F8\"},\"line\":{\"color\":\"white\"}},\"header\":{\"fill\":{\"color\":\"#C8D4E3\"},\"line\":{\"color\":\"white\"}},\"type\":\"table\"}],\"barpolar\":[{\"marker\":{\"line\":{\"color\":\"#E5ECF6\",\"width\":0.5},\"pattern\":{\"fillmode\":\"overlay\",\"size\":10,\"solidity\":0.2}},\"type\":\"barpolar\"}],\"pie\":[{\"automargin\":true,\"type\":\"pie\"}]},\"layout\":{\"autotypenumbers\":\"strict\",\"colorway\":[\"#636efa\",\"#EF553B\",\"#00cc96\",\"#ab63fa\",\"#FFA15A\",\"#19d3f3\",\"#FF6692\",\"#B6E880\",\"#FF97FF\",\"#FECB52\"],\"font\":{\"color\":\"#2a3f5f\"},\"hovermode\":\"closest\",\"hoverlabel\":{\"align\":\"left\"},\"paper_bgcolor\":\"white\",\"plot_bgcolor\":\"#E5ECF6\",\"polar\":{\"bgcolor\":\"#E5ECF6\",\"angularaxis\":{\"gridcolor\":\"white\",\"linecolor\":\"white\",\"ticks\":\"\"},\"radialaxis\":{\"gridcolor\":\"white\",\"linecolor\":\"white\",\"ticks\":\"\"}},\"ternary\":{\"bgcolor\":\"#E5ECF6\",\"aaxis\":{\"gridcolor\":\"white\",\"linecolor\":\"white\",\"ticks\":\"\"},\"baxis\":{\"gridcolor\":\"white\",\"linecolor\":\"white\",\"ticks\":\"\"},\"caxis\":{\"gridcolor\":\"white\",\"linecolor\":\"white\",\"ticks\":\"\"}},\"coloraxis\":{\"colorbar\":{\"outlinewidth\":0,\"ticks\":\"\"}},\"colorscale\":{\"sequential\":[[0.0,\"#0d0887\"],[0.1111111111111111,\"#46039f\"],[0.2222222222222222,\"#7201a8\"],[0.3333333333333333,\"#9c179e\"],[0.4444444444444444,\"#bd3786\"],[0.5555555555555556,\"#d8576b\"],[0.6666666666666666,\"#ed7953\"],[0.7777777777777778,\"#fb9f3a\"],[0.8888888888888888,\"#fdca26\"],[1.0,\"#f0f921\"]],\"sequentialminus\":[[0.0,\"#0d0887\"],[0.1111111111111111,\"#46039f\"],[0.2222222222222222,\"#7201a8\"],[0.3333333333333333,\"#9c179e\"],[0.4444444444444444,\"#bd3786\"],[0.5555555555555556,\"#d8576b\"],[0.6666666666666666,\"#ed7953\"],[0.7777777777777778,\"#fb9f3a\"],[0.8888888888888888,\"#fdca26\"],[1.0,\"#f0f921\"]],\"diverging\":[[0,\"#8e0152\"],[0.1,\"#c51b7d\"],[0.2,\"#de77ae\"],[0.3,\"#f1b6da\"],[0.4,\"#fde0ef\"],[0.5,\"#f7f7f7\"],[0.6,\"#e6f5d0\"],[0.7,\"#b8e186\"],[0.8,\"#7fbc41\"],[0.9,\"#4d9221\"],[1,\"#276419\"]]},\"xaxis\":{\"gridcolor\":\"white\",\"linecolor\":\"white\",\"ticks\":\"\",\"title\":{\"standoff\":15},\"zerolinecolor\":\"white\",\"automargin\":true,\"zerolinewidth\":2},\"yaxis\":{\"gridcolor\":\"white\",\"linecolor\":\"white\",\"ticks\":\"\",\"title\":{\"standoff\":15},\"zerolinecolor\":\"white\",\"automargin\":true,\"zerolinewidth\":2},\"scene\":{\"xaxis\":{\"backgroundcolor\":\"#E5ECF6\",\"gridcolor\":\"white\",\"linecolor\":\"white\",\"showbackground\":true,\"ticks\":\"\",\"zerolinecolor\":\"white\",\"gridwidth\":2},\"yaxis\":{\"backgroundcolor\":\"#E5ECF6\",\"gridcolor\":\"white\",\"linecolor\":\"white\",\"showbackground\":true,\"ticks\":\"\",\"zerolinecolor\":\"white\",\"gridwidth\":2},\"zaxis\":{\"backgroundcolor\":\"#E5ECF6\",\"gridcolor\":\"white\",\"linecolor\":\"white\",\"showbackground\":true,\"ticks\":\"\",\"zerolinecolor\":\"white\",\"gridwidth\":2}},\"shapedefaults\":{\"line\":{\"color\":\"#2a3f5f\"}},\"annotationdefaults\":{\"arrowcolor\":\"#2a3f5f\",\"arrowhead\":0,\"arrowwidth\":1},\"geo\":{\"bgcolor\":\"white\",\"landcolor\":\"#E5ECF6\",\"subunitcolor\":\"white\",\"showland\":true,\"showlakes\":true,\"lakecolor\":\"white\"},\"title\":{\"x\":0.05},\"mapbox\":{\"style\":\"light\"}}},\"xaxis\":{\"anchor\":\"y\",\"domain\":[0.0,1.0],\"title\":{\"text\":\"Date\"}},\"yaxis\":{\"anchor\":\"x\",\"domain\":[0.0,1.0],\"title\":{\"text\":\"Count\"}},\"legend\":{\"title\":{\"text\":\"Station \"},\"tracegroupgap\":0},\"title\":{\"text\":\"Date Distribution and Station\"},\"barmode\":\"group\",\"height\":600,\"width\":1100},                        {\"responsive\": true}                    ).then(function(){\n",
       "                            \n",
       "var gd = document.getElementById('bdd3765c-81b4-4dc0-bbb1-e4c3292585f1');\n",
       "var x = new MutationObserver(function (mutations, observer) {{\n",
       "        var display = window.getComputedStyle(gd).display;\n",
       "        if (!display || display === 'none') {{\n",
       "            console.log([gd, 'removed!']);\n",
       "            Plotly.purge(gd);\n",
       "            observer.disconnect();\n",
       "        }}\n",
       "}});\n",
       "\n",
       "// Listen for the removal of the full notebook cells\n",
       "var notebookContainer = gd.closest('#notebook-container');\n",
       "if (notebookContainer) {{\n",
       "    x.observe(notebookContainer, {childList: true});\n",
       "}}\n",
       "\n",
       "// Listen for the clearing of the current output cell\n",
       "var outputEl = gd.closest('.output');\n",
       "if (outputEl) {{\n",
       "    x.observe(outputEl, {childList: true});\n",
       "}}\n",
       "\n",
       "                        })                };                });            </script>        </div>"
      ]
     },
     "metadata": {},
     "output_type": "display_data"
    }
   ],
   "source": [
    "fuel_date=petrol_data.loc[:,[\"Station \",\"Date\"]].groupby([\"Station \",\"Date\"]).size().reset_index()\n",
    "fuel_date.columns=[\"Station \",\"Date\",\"Count\"]\n",
    "fig=px.bar(fuel_date,x=\"Date\",y='Count',color=\"Station \",\n",
    "          barmode='group',title=\"Date Distribution and Station\",\n",
    "          height=600,width=1100)\n",
    "fig.update_traces(marker_line_color='rgb(9,50,100)',marker_line_width=1.5,opacity=0.8)\n",
    "fig.show()"
   ]
  },
  {
   "cell_type": "markdown",
   "id": "366612ab",
   "metadata": {
    "papermill": {
     "duration": 0.074604,
     "end_time": "2022-05-03T19:51:40.232089",
     "exception": false,
     "start_time": "2022-05-03T19:51:40.157485",
     "status": "completed"
    },
    "tags": []
   },
   "source": [
    "From the uploaded data most reporting happened between Date 13 and 15 of April 2022.This is the same week that guys got to learn about the site and also when the revised petroleum prices were to begin from the 15th."
   ]
  },
  {
   "cell_type": "markdown",
   "id": "8f529c1b",
   "metadata": {
    "papermill": {
     "duration": 0.074595,
     "end_time": "2022-05-03T19:51:40.381649",
     "exception": false,
     "start_time": "2022-05-03T19:51:40.307054",
     "status": "completed"
    },
    "tags": []
   },
   "source": [
    "# 6. Summary\n",
    "1. Worth noting is after 15th with the new prices fuel was available across the petrol station hence the low uptake to report availability of    fuel.\n",
    "\n",
    "2. Most motorists fuelled at Tota or Shell followed by Rubis.\n",
    "\n",
    "3. The website got a spike of guys uploading information during the peek of the shortage from the dates of 13-15th April 2022.\n",
    "\n",
    "4. The focus is mostly covering Nairobi and it's environs it couls be also great to have other towns details captured well as mostly are left    as None or Other (spesific rd name)\n",
    "\n",
    "5. This analysis was based on a small dataset just to highlight how the fuel availability fared across the petrol stations in the areas          reported future work would involve capturing a large dataset. A machine learning model could be be explored using this dataset to predict    the availability of fuel in a give petrol station given a set of features.\n",
    "\n",
    "Looking forward to your feedback in the comment section also kindly UPVOTE and motivate a beginner here!!!"
   ]
  },
  {
   "cell_type": "code",
   "execution_count": null,
   "id": "db5d6b0d",
   "metadata": {
    "papermill": {
     "duration": 0.074157,
     "end_time": "2022-05-03T19:51:40.530830",
     "exception": false,
     "start_time": "2022-05-03T19:51:40.456673",
     "status": "completed"
    },
    "tags": []
   },
   "outputs": [],
   "source": []
  }
 ],
 "metadata": {
  "kernelspec": {
   "display_name": "Python 3",
   "language": "python",
   "name": "python3"
  },
  "language_info": {
   "codemirror_mode": {
    "name": "ipython",
    "version": 3
   },
   "file_extension": ".py",
   "mimetype": "text/x-python",
   "name": "python",
   "nbconvert_exporter": "python",
   "pygments_lexer": "ipython3",
   "version": "3.7.12"
  },
  "papermill": {
   "default_parameters": {},
   "duration": 19.411603,
   "end_time": "2022-05-03T19:51:41.425489",
   "environment_variables": {},
   "exception": null,
   "input_path": "__notebook__.ipynb",
   "output_path": "__notebook__.ipynb",
   "parameters": {},
   "start_time": "2022-05-03T19:51:22.013886",
   "version": "2.3.4"
  }
 },
 "nbformat": 4,
 "nbformat_minor": 5
}
